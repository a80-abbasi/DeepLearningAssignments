{
  "cells": [
    {
      "cell_type": "markdown",
      "source": [
        "# Deep Learning - Assignment 2 - Problem 1\n",
        "### Ali Abbasi - 98105879"
      ],
      "metadata": {
        "collapsed": false,
        "pycharm": {
          "name": "#%% md\n"
        },
        "id": "-_oVxF3tc-fw"
      }
    },
    {
      "cell_type": "markdown",
      "source": [
        "# Importing Libraries"
      ],
      "metadata": {
        "collapsed": false,
        "pycharm": {
          "name": "#%% md\n"
        },
        "id": "a81Jd7nkCon2"
      }
    },
    {
      "cell_type": "code",
      "execution_count": 1,
      "metadata": {
        "collapsed": true,
        "pycharm": {
          "name": "#%%\n"
        },
        "id": "J9Kf0GnOCooA"
      },
      "outputs": [],
      "source": [
        "import torch\n",
        "from torchvision.datasets import FashionMNIST\n",
        "from torchvision import transforms\n",
        "from torch.utils.data import DataLoader\n",
        "\n",
        "import tqdm\n",
        "import numpy as np\n",
        "from matplotlib import pyplot as plt\n",
        "from typing import Dict"
      ]
    },
    {
      "cell_type": "markdown",
      "source": [
        "# Datasets and Dataloaders"
      ],
      "metadata": {
        "collapsed": false,
        "pycharm": {
          "name": "#%% md\n"
        },
        "id": "6LxaPjpaCooF"
      }
    },
    {
      "cell_type": "code",
      "execution_count": 2,
      "outputs": [],
      "source": [
        "train_set = FashionMNIST(root='.', train=True, download=True, transform=transforms.ToTensor())\n",
        "test_set = FashionMNIST(root='.', train=False, download=True, transform=transforms.ToTensor())"
      ],
      "metadata": {
        "pycharm": {
          "name": "#%%\n"
        },
        "id": "0mPzaFnmCooG"
      }
    },
    {
      "cell_type": "code",
      "execution_count": 3,
      "outputs": [],
      "source": [
        "image_shape = train_set[0][0].shape\n",
        "input_dim = np.prod(image_shape).item()\n",
        "num_classes = len(FashionMNIST.classes)"
      ],
      "metadata": {
        "pycharm": {
          "name": "#%%\n"
        },
        "id": "VdZzDZ3qCooH"
      }
    },
    {
      "cell_type": "code",
      "execution_count": 4,
      "outputs": [],
      "source": [
        "train_loader = DataLoader(train_set, 64, shuffle=True)\n",
        "test_loader = DataLoader(test_set, 64, shuffle=True)"
      ],
      "metadata": {
        "pycharm": {
          "name": "#%%\n"
        },
        "id": "5Djr2omhCooJ"
      }
    },
    {
      "cell_type": "markdown",
      "source": [
        "## Visualization"
      ],
      "metadata": {
        "collapsed": false,
        "pycharm": {
          "name": "#%% md\n"
        },
        "id": "4d6w_jvnc-f4"
      }
    },
    {
      "cell_type": "code",
      "execution_count": 5,
      "outputs": [
        {
          "output_type": "display_data",
          "data": {
            "text/plain": [
              "<Figure size 720x720 with 10 Axes>"
            ],
            "image/png": "[encoded data removed]"
          },
          "metadata": {}
        }
      ],
      "source": [
        "fig, axes = plt.subplots(5, 2, figsize=(10, 10))\n",
        "axes = axes.flat\n",
        "seen_classes = []\n",
        "topil = transforms.ToPILImage()\n",
        "j = 0\n",
        "while len(seen_classes) != len(train_set.classes):\n",
        "    i = np.random.randint(0, len(train_set))\n",
        "    x, y = train_set[i]\n",
        "    if y in seen_classes:\n",
        "        continue\n",
        "    seen_classes.append(y)\n",
        "    ax = axes[j]\n",
        "    j += 1\n",
        "    img = topil(x)\n",
        "    ax.imshow(img)\n",
        "    ax.set_title(train_set.classes[y])\n",
        "    ax.set_xticks([])\n",
        "    ax.set_yticks([])\n",
        "plt.tight_layout()\n",
        "plt.show()"
      ],
      "metadata": {
        "pycharm": {
          "name": "#%%\n"
        },
        "colab": {
          "base_uri": "https://localhost:8080/",
          "height": 729
        },
        "id": "jINGxJsEc-f4",
        "outputId": "bfe55566-8109-4f46-e13c-7995cc33d9d2"
      }
    },
    {
      "cell_type": "markdown",
      "source": [
        "# Initializing model's parameters"
      ],
      "metadata": {
        "collapsed": false,
        "pycharm": {
          "name": "#%% md\n"
        },
        "id": "7w2vv3SICooK"
      }
    },
    {
      "cell_type": "code",
      "execution_count": 6,
      "outputs": [],
      "source": [
        "def add_linear_layer(parameters: dict, shape, device, i=None):\n",
        "    \"\"\"\n",
        "    This function adds parameters of a linear unit of shape `shape` to the `parameters` dictionary.\n",
        "    \"\"\"\n",
        "    n_in, n_out = shape\n",
        "    with torch.no_grad():\n",
        "        w = torch.zeros(*shape, device=device)\n",
        "        # kaiming initialization for ReLU activations:\n",
        "        bound = 1 / np.sqrt(n_in).item()\n",
        "        w.uniform_(-bound, bound)\n",
        "        b = torch.zeros(n_out, device=device)  # no need to (1, n_out). it will broadcast itself.\n",
        "    w.requires_grad = True\n",
        "    b.requires_grad = True\n",
        "    # `i` is used to give numbers to parameter names\n",
        "    parameters.update({f'w{i}': w, f'b{i}': b})"
      ],
      "metadata": {
        "pycharm": {
          "name": "#%%\n"
        },
        "id": "-LM3E9OvCooK"
      }
    },
    {
      "cell_type": "code",
      "execution_count": 7,
      "outputs": [
        {
          "output_type": "execute_result",
          "data": {
            "text/plain": [
              "dict_keys(['w0', 'b0', 'w1', 'b1', 'w2', 'b2', 'w3', 'b3', 'w4', 'b4'])"
            ]
          },
          "metadata": {},
          "execution_count": 7
        }
      ],
      "source": [
        "layers = [\n",
        "    (input_dim, 512),\n",
        "    (512, 256),\n",
        "    (256, 128),\n",
        "    (128, 64),\n",
        "    (64, num_classes)\n",
        "]\n",
        "num_layers = len(layers)\n",
        "parameters = {}\n",
        "device = torch.device(\"cuda\" if torch.cuda.is_available() else \"cpu\")\n",
        "for i, shape in enumerate(layers):\n",
        "    add_linear_layer(parameters, shape, device, i)\n",
        "\n",
        "parameters.keys()"
      ],
      "metadata": {
        "pycharm": {
          "name": "#%%\n"
        },
        "colab": {
          "base_uri": "https://localhost:8080/"
        },
        "id": "OYK9vFfMCooM",
        "outputId": "4cd74b0a-df85-4033-b9e5-b825a1f33eef"
      }
    },
    {
      "cell_type": "markdown",
      "source": [
        "# Defining needed functions"
      ],
      "metadata": {
        "collapsed": false,
        "pycharm": {
          "name": "#%% md\n"
        },
        "id": "GXkj407FCooO"
      }
    },
    {
      "cell_type": "markdown",
      "source": [
        "Computing affine and relu outputs:"
      ],
      "metadata": {
        "collapsed": false,
        "pycharm": {
          "name": "#%% md\n"
        },
        "id": "DoJzr-FDCooP"
      }
    },
    {
      "cell_type": "code",
      "execution_count": 8,
      "outputs": [],
      "source": [
        "def affine_forward(x, w, b):\n",
        "    return x @ w + b\n",
        "\n",
        "\n",
        "def relu(x):\n",
        "    return torch.clamp(x, min=0)"
      ],
      "metadata": {
        "pycharm": {
          "name": "#%%\n"
        },
        "id": "TUBKPVT5CooQ"
      }
    },
    {
      "cell_type": "markdown",
      "source": [
        "Function `model` returns output of the whole model for the input `x`:"
      ],
      "metadata": {
        "collapsed": false,
        "pycharm": {
          "name": "#%% md\n"
        },
        "id": "i1CqFP1ECooQ"
      }
    },
    {
      "cell_type": "code",
      "execution_count": 9,
      "outputs": [],
      "source": [
        "def model(x: torch.Tensor, parameters, num_layers=num_layers):\n",
        "    # number of batches\n",
        "    B = x.shape[0]\n",
        "    x = x.view(B, -1)\n",
        "    for i in range(num_layers - 1):\n",
        "        x = affine_forward(x, parameters[f'w{i}'], parameters[f'b{i}'])\n",
        "        x = relu(x)\n",
        "    i = num_layers - 1\n",
        "    x = affine_forward(x, parameters[f'w{i}'], parameters[f'b{i}'])\n",
        "    return x"
      ],
      "metadata": {
        "pycharm": {
          "name": "#%%\n"
        },
        "id": "Mv1HVZMsCooR"
      }
    },
    {
      "cell_type": "markdown",
      "source": [
        "Implementing cross entropy loss:"
      ],
      "metadata": {
        "collapsed": false,
        "pycharm": {
          "name": "#%% md\n"
        },
        "id": "AdFGcgWbCooS"
      }
    },
    {
      "cell_type": "code",
      "execution_count": 10,
      "outputs": [],
      "source": [
        "def cross_entropy_loss(scores, y):\n",
        "    n = len(y)\n",
        "    # I have used logsumexp for numerical stability reasons\n",
        "    logP = scores - torch.logsumexp(scores, dim=1, keepdim=True)\n",
        "    return - torch.sum(logP[torch.arange(n), y]) / n"
      ],
      "metadata": {
        "pycharm": {
          "name": "#%%\n"
        },
        "id": "h7oUTZ9-CooT"
      }
    },
    {
      "cell_type": "markdown",
      "source": [
        "Implementing a function for optimizing paramters and a function to zeroing out their gradients:"
      ],
      "metadata": {
        "collapsed": false,
        "pycharm": {
          "name": "#%% md\n"
        },
        "id": "zJVMT2jfCooU"
      }
    },
    {
      "cell_type": "code",
      "execution_count": 11,
      "outputs": [],
      "source": [
        "def sgd_optimizer(parameters: Dict[str, torch.Tensor], learning_rate=0.001):\n",
        "    with torch.no_grad():\n",
        "        for key in parameters.keys():\n",
        "            parameters[key] -= learning_rate * parameters[key].grad\n",
        "            # zero the gradients after loss.backward()\n",
        "            parameters[key].grad.zero_()"
      ],
      "metadata": {
        "pycharm": {
          "name": "#%%\n"
        },
        "id": "h5OSwbXeCooV"
      }
    },
    {
      "cell_type": "markdown",
      "source": [
        "Training functions:"
      ],
      "metadata": {
        "collapsed": false,
        "pycharm": {
          "name": "#%% md\n"
        },
        "id": "yVQ_Oe7KCooW"
      }
    },
    {
      "cell_type": "code",
      "execution_count": 12,
      "outputs": [],
      "source": [
        "def accuracy(y_pred: np.ndarray, y_true: np.ndarray):\n",
        "    return (y_true == y_pred).mean()\n",
        "\n",
        "\n",
        "def train(train_loader, learning_rate=0.001, epoch=None):\n",
        "    train_loss = 0\n",
        "    N_train = len(train_loader.dataset)\n",
        "    Y = []\n",
        "    Y_pred = []\n",
        "    with tqdm.tqdm(enumerate(train_loader)) as pbar:\n",
        "        for i, (x, y) in pbar:\n",
        "            x = x.to(device)\n",
        "            y = y.to(device)\n",
        "            p = model(x, parameters)\n",
        "\n",
        "            loss = cross_entropy_loss(p, y)\n",
        "            \n",
        "            train_loss += loss.item() * len(x)\n",
        "            pbar.set_description(f'{epoch}: Train Loss: {train_loss / N_train:.3e}')\n",
        "\n",
        "            loss.backward()\n",
        "            sgd_optimizer(parameters, learning_rate=learning_rate)\n",
        "\n",
        "            y_pred = p.argmax(dim=-1)\n",
        "            Y.append(y.cpu().numpy())\n",
        "            Y_pred.append(y_pred.cpu().numpy())\n",
        "\n",
        "    train_loss /= N_train\n",
        "\n",
        "    Y = np.concatenate(Y)\n",
        "    Y_pred = np.concatenate(Y_pred)\n",
        "    acc = accuracy(Y_pred, Y)\n",
        "    print(f'Accuracy of train set: {acc}')\n",
        "    return train_loss, acc\n",
        "\n",
        "\n",
        "def validate(loader, epoch=None, set_name=None):\n",
        "    total_loss = 0\n",
        "    N = len(loader.dataset)\n",
        "    Y = []\n",
        "    Y_pred = []\n",
        "\n",
        "    with torch.no_grad(), tqdm.tqdm(enumerate(loader)) as pbar:\n",
        "        for i, (x, y) in pbar:\n",
        "            x = x.to(device)\n",
        "            y = y.to(device)\n",
        "            p = model(x, parameters)\n",
        "            y_pred = p.argmax(dim=-1)\n",
        "\n",
        "            loss = cross_entropy_loss(p, y)\n",
        "\n",
        "            total_loss += loss.item() * len(x)\n",
        "\n",
        "            pbar.set_description(f'{epoch}: {set_name} Loss: {total_loss / N:.3e}')\n",
        "            Y.append(y.cpu().numpy())\n",
        "            Y_pred.append(y_pred.cpu().numpy())\n",
        "    Y = np.concatenate(Y)\n",
        "    Y_pred = np.concatenate(Y_pred)\n",
        "    total_loss /= N\n",
        "    acc = accuracy(Y_pred, Y)\n",
        "    print(f'Accuracy of {set_name} set: {acc}')\n",
        "\n",
        "    return total_loss, acc"
      ],
      "metadata": {
        "pycharm": {
          "name": "#%%\n"
        },
        "id": "WT4w0LPjCooX"
      }
    },
    {
      "cell_type": "code",
      "execution_count": 13,
      "outputs": [],
      "source": [
        "train_losses = []\n",
        "test_losses = []\n",
        "train_accuracies = []\n",
        "test_accuracies = []"
      ],
      "metadata": {
        "pycharm": {
          "name": "#%%\n"
        },
        "id": "9qe12IGuCooZ"
      }
    },
    {
      "cell_type": "code",
      "execution_count": 14,
      "outputs": [],
      "source": [
        "def train_model(dataloaders, num_epochs, learning_rate=0.001, model_name='pytorch_model'):\n",
        "    train_loader, test_loader = dataloaders\n",
        "\n",
        "    for epoch in range(num_epochs):\n",
        "        train_loss, train_acc = train(train_loader, learning_rate, epoch)\n",
        "        train_losses.append(train_loss)\n",
        "        train_accuracies.append(train_acc)\n",
        "        test_loss, test_acc = validate(test_loader, epoch, 'test')\n",
        "        test_losses.append(test_loss)\n",
        "        test_accuracies.append(test_acc)\n",
        "        print('\\n', '-' * 60)\n",
        "\n",
        "    plt.plot(train_losses, label='train')\n",
        "    plt.plot(test_losses, label='test')\n",
        "    plt.title('loss history of training and test sets')\n",
        "    plt.legend()\n",
        "    plt.show()\n",
        "\n",
        "    plt.plot(train_accuracies, label='train')\n",
        "    plt.plot(test_accuracies, label='test')\n",
        "    plt.title('Accuracy history of training and test sets')\n",
        "    plt.legend()\n",
        "    plt.show()"
      ],
      "metadata": {
        "pycharm": {
          "name": "#%%\n"
        },
        "id": "_39l486sCooZ"
      }
    },
    {
      "cell_type": "code",
      "execution_count": 15,
      "outputs": [
        {
          "output_type": "stream",
          "name": "stderr",
          "text": [
            "0: Train Loss: 2.287e+00: : 938it [00:19, 47.78it/s]\n"
          ]
        },
        {
          "output_type": "stream",
          "name": "stdout",
          "text": [
            "Accuracy of train set: 0.31776666666666664\n"
          ]
        },
        {
          "output_type": "stream",
          "name": "stderr",
          "text": [
            "0: test Loss: 2.261e+00: : 157it [00:01, 101.26it/s]\n"
          ]
        },
        {
          "output_type": "stream",
          "name": "stdout",
          "text": [
            "Accuracy of test set: 0.4116\n",
            "\n",
            " ------------------------------------------------------------\n"
          ]
        },
        {
          "output_type": "stream",
          "name": "stderr",
          "text": [
            "1: Train Loss: 2.017e+00: : 938it [00:10, 85.91it/s]\n"
          ]
        },
        {
          "output_type": "stream",
          "name": "stdout",
          "text": [
            "Accuracy of train set: 0.3794166666666667\n"
          ]
        },
        {
          "output_type": "stream",
          "name": "stderr",
          "text": [
            "1: test Loss: 1.463e+00: : 157it [00:01, 104.66it/s]\n"
          ]
        },
        {
          "output_type": "stream",
          "name": "stdout",
          "text": [
            "Accuracy of test set: 0.4386\n",
            "\n",
            " ------------------------------------------------------------\n"
          ]
        },
        {
          "output_type": "stream",
          "name": "stderr",
          "text": [
            "2: Train Loss: 1.158e+00: : 938it [00:15, 62.25it/s]\n"
          ]
        },
        {
          "output_type": "stream",
          "name": "stdout",
          "text": [
            "Accuracy of train set: 0.5282666666666667\n"
          ]
        },
        {
          "output_type": "stream",
          "name": "stderr",
          "text": [
            "2: test Loss: 1.014e+00: : 157it [00:01, 104.28it/s]\n"
          ]
        },
        {
          "output_type": "stream",
          "name": "stdout",
          "text": [
            "Accuracy of test set: 0.5884\n",
            "\n",
            " ------------------------------------------------------------\n"
          ]
        },
        {
          "output_type": "stream",
          "name": "stderr",
          "text": [
            "3: Train Loss: 8.959e-01: : 938it [00:10, 90.86it/s]\n"
          ]
        },
        {
          "output_type": "stream",
          "name": "stdout",
          "text": [
            "Accuracy of train set: 0.6568\n"
          ]
        },
        {
          "output_type": "stream",
          "name": "stderr",
          "text": [
            "3: test Loss: 8.525e-01: : 157it [00:01, 102.22it/s]\n"
          ]
        },
        {
          "output_type": "stream",
          "name": "stdout",
          "text": [
            "Accuracy of test set: 0.6623\n",
            "\n",
            " ------------------------------------------------------------\n"
          ]
        },
        {
          "output_type": "stream",
          "name": "stderr",
          "text": [
            "4: Train Loss: 7.873e-01: : 938it [00:10, 91.88it/s]\n"
          ]
        },
        {
          "output_type": "stream",
          "name": "stdout",
          "text": [
            "Accuracy of train set: 0.7134166666666667\n"
          ]
        },
        {
          "output_type": "stream",
          "name": "stderr",
          "text": [
            "4: test Loss: 8.860e-01: : 157it [00:01, 105.10it/s]\n"
          ]
        },
        {
          "output_type": "stream",
          "name": "stdout",
          "text": [
            "Accuracy of test set: 0.6888\n",
            "\n",
            " ------------------------------------------------------------\n"
          ]
        },
        {
          "output_type": "stream",
          "name": "stderr",
          "text": [
            "5: Train Loss: 7.169e-01: : 938it [00:11, 80.91it/s]\n"
          ]
        },
        {
          "output_type": "stream",
          "name": "stdout",
          "text": [
            "Accuracy of train set: 0.744\n"
          ]
        },
        {
          "output_type": "stream",
          "name": "stderr",
          "text": [
            "5: test Loss: 7.234e-01: : 157it [00:01, 102.07it/s]\n"
          ]
        },
        {
          "output_type": "stream",
          "name": "stdout",
          "text": [
            "Accuracy of test set: 0.7403\n",
            "\n",
            " ------------------------------------------------------------\n"
          ]
        },
        {
          "output_type": "stream",
          "name": "stderr",
          "text": [
            "6: Train Loss: 6.633e-01: : 938it [00:10, 89.68it/s]\n"
          ]
        },
        {
          "output_type": "stream",
          "name": "stdout",
          "text": [
            "Accuracy of train set: 0.7625333333333333\n"
          ]
        },
        {
          "output_type": "stream",
          "name": "stderr",
          "text": [
            "6: test Loss: 6.969e-01: : 157it [00:01, 102.86it/s]\n"
          ]
        },
        {
          "output_type": "stream",
          "name": "stdout",
          "text": [
            "Accuracy of test set: 0.7549\n",
            "\n",
            " ------------------------------------------------------------\n"
          ]
        },
        {
          "output_type": "stream",
          "name": "stderr",
          "text": [
            "7: Train Loss: 6.249e-01: : 938it [00:10, 89.39it/s]\n"
          ]
        },
        {
          "output_type": "stream",
          "name": "stdout",
          "text": [
            "Accuracy of train set: 0.7769166666666667\n"
          ]
        },
        {
          "output_type": "stream",
          "name": "stderr",
          "text": [
            "7: test Loss: 6.403e-01: : 157it [00:01, 80.30it/s]\n"
          ]
        },
        {
          "output_type": "stream",
          "name": "stdout",
          "text": [
            "Accuracy of test set: 0.7626\n",
            "\n",
            " ------------------------------------------------------------\n"
          ]
        },
        {
          "output_type": "stream",
          "name": "stderr",
          "text": [
            "8: Train Loss: 5.960e-01: : 938it [00:10, 91.33it/s]\n"
          ]
        },
        {
          "output_type": "stream",
          "name": "stdout",
          "text": [
            "Accuracy of train set: 0.78865\n"
          ]
        },
        {
          "output_type": "stream",
          "name": "stderr",
          "text": [
            "8: test Loss: 6.039e-01: : 157it [00:01, 100.77it/s]\n"
          ]
        },
        {
          "output_type": "stream",
          "name": "stdout",
          "text": [
            "Accuracy of test set: 0.7873\n",
            "\n",
            " ------------------------------------------------------------\n"
          ]
        },
        {
          "output_type": "stream",
          "name": "stderr",
          "text": [
            "9: Train Loss: 5.712e-01: : 938it [00:10, 85.50it/s]\n"
          ]
        },
        {
          "output_type": "stream",
          "name": "stdout",
          "text": [
            "Accuracy of train set: 0.7984833333333333\n"
          ]
        },
        {
          "output_type": "stream",
          "name": "stderr",
          "text": [
            "9: test Loss: 5.835e-01: : 157it [00:01, 103.83it/s]\n"
          ]
        },
        {
          "output_type": "stream",
          "name": "stdout",
          "text": [
            "Accuracy of test set: 0.7963\n",
            "\n",
            " ------------------------------------------------------------\n"
          ]
        },
        {
          "output_type": "stream",
          "name": "stderr",
          "text": [
            "10: Train Loss: 5.506e-01: : 938it [00:10, 91.11it/s]\n"
          ]
        },
        {
          "output_type": "stream",
          "name": "stdout",
          "text": [
            "Accuracy of train set: 0.8081\n"
          ]
        },
        {
          "output_type": "stream",
          "name": "stderr",
          "text": [
            "10: test Loss: 5.805e-01: : 157it [00:01, 102.84it/s]\n"
          ]
        },
        {
          "output_type": "stream",
          "name": "stdout",
          "text": [
            "Accuracy of test set: 0.7984\n",
            "\n",
            " ------------------------------------------------------------\n"
          ]
        },
        {
          "output_type": "stream",
          "name": "stderr",
          "text": [
            "11: Train Loss: 5.346e-01: : 938it [00:10, 89.47it/s]\n"
          ]
        },
        {
          "output_type": "stream",
          "name": "stdout",
          "text": [
            "Accuracy of train set: 0.8138833333333333\n"
          ]
        },
        {
          "output_type": "stream",
          "name": "stderr",
          "text": [
            "11: test Loss: 5.578e-01: : 157it [00:01, 103.66it/s]\n"
          ]
        },
        {
          "output_type": "stream",
          "name": "stdout",
          "text": [
            "Accuracy of test set: 0.8047\n",
            "\n",
            " ------------------------------------------------------------\n"
          ]
        },
        {
          "output_type": "stream",
          "name": "stderr",
          "text": [
            "12: Train Loss: 5.211e-01: : 938it [00:10, 91.46it/s]\n"
          ]
        },
        {
          "output_type": "stream",
          "name": "stdout",
          "text": [
            "Accuracy of train set: 0.8196\n"
          ]
        },
        {
          "output_type": "stream",
          "name": "stderr",
          "text": [
            "12: test Loss: 5.385e-01: : 157it [00:01, 104.60it/s]\n"
          ]
        },
        {
          "output_type": "stream",
          "name": "stdout",
          "text": [
            "Accuracy of test set: 0.8133\n",
            "\n",
            " ------------------------------------------------------------\n"
          ]
        },
        {
          "output_type": "stream",
          "name": "stderr",
          "text": [
            "13: Train Loss: 5.050e-01: : 938it [00:10, 88.49it/s]\n"
          ]
        },
        {
          "output_type": "stream",
          "name": "stdout",
          "text": [
            "Accuracy of train set: 0.8242833333333334\n"
          ]
        },
        {
          "output_type": "stream",
          "name": "stderr",
          "text": [
            "13: test Loss: 5.332e-01: : 157it [00:01, 81.80it/s]\n"
          ]
        },
        {
          "output_type": "stream",
          "name": "stdout",
          "text": [
            "Accuracy of test set: 0.8134\n",
            "\n",
            " ------------------------------------------------------------\n"
          ]
        },
        {
          "output_type": "stream",
          "name": "stderr",
          "text": [
            "14: Train Loss: 4.930e-01: : 938it [00:10, 90.21it/s]\n"
          ]
        },
        {
          "output_type": "stream",
          "name": "stdout",
          "text": [
            "Accuracy of train set: 0.8284333333333334\n"
          ]
        },
        {
          "output_type": "stream",
          "name": "stderr",
          "text": [
            "14: test Loss: 5.201e-01: : 157it [00:01, 102.56it/s]\n"
          ]
        },
        {
          "output_type": "stream",
          "name": "stdout",
          "text": [
            "Accuracy of test set: 0.8177\n",
            "\n",
            " ------------------------------------------------------------\n"
          ]
        },
        {
          "output_type": "stream",
          "name": "stderr",
          "text": [
            "15: Train Loss: 4.806e-01: : 938it [00:10, 90.82it/s]\n"
          ]
        },
        {
          "output_type": "stream",
          "name": "stdout",
          "text": [
            "Accuracy of train set: 0.83275\n"
          ]
        },
        {
          "output_type": "stream",
          "name": "stderr",
          "text": [
            "15: test Loss: 5.155e-01: : 157it [00:01, 104.54it/s]\n"
          ]
        },
        {
          "output_type": "stream",
          "name": "stdout",
          "text": [
            "Accuracy of test set: 0.8215\n",
            "\n",
            " ------------------------------------------------------------\n"
          ]
        },
        {
          "output_type": "stream",
          "name": "stderr",
          "text": [
            "16: Train Loss: 4.680e-01: : 938it [00:10, 90.41it/s]\n"
          ]
        },
        {
          "output_type": "stream",
          "name": "stdout",
          "text": [
            "Accuracy of train set: 0.8362333333333334\n"
          ]
        },
        {
          "output_type": "stream",
          "name": "stderr",
          "text": [
            "16: test Loss: 4.945e-01: : 157it [00:01, 102.44it/s]\n"
          ]
        },
        {
          "output_type": "stream",
          "name": "stdout",
          "text": [
            "Accuracy of test set: 0.8284\n",
            "\n",
            " ------------------------------------------------------------\n"
          ]
        },
        {
          "output_type": "stream",
          "name": "stderr",
          "text": [
            "17: Train Loss: 4.567e-01: : 938it [00:10, 89.91it/s]\n"
          ]
        },
        {
          "output_type": "stream",
          "name": "stdout",
          "text": [
            "Accuracy of train set: 0.8408166666666667\n"
          ]
        },
        {
          "output_type": "stream",
          "name": "stderr",
          "text": [
            "17: test Loss: 5.023e-01: : 157it [00:01, 101.02it/s]\n"
          ]
        },
        {
          "output_type": "stream",
          "name": "stdout",
          "text": [
            "Accuracy of test set: 0.8235\n",
            "\n",
            " ------------------------------------------------------------\n"
          ]
        },
        {
          "output_type": "stream",
          "name": "stderr",
          "text": [
            "18: Train Loss: 4.435e-01: : 938it [00:11, 84.57it/s]\n"
          ]
        },
        {
          "output_type": "stream",
          "name": "stdout",
          "text": [
            "Accuracy of train set: 0.84585\n"
          ]
        },
        {
          "output_type": "stream",
          "name": "stderr",
          "text": [
            "18: test Loss: 4.704e-01: : 157it [00:01, 100.09it/s]\n"
          ]
        },
        {
          "output_type": "stream",
          "name": "stdout",
          "text": [
            "Accuracy of test set: 0.8352\n",
            "\n",
            " ------------------------------------------------------------\n"
          ]
        },
        {
          "output_type": "stream",
          "name": "stderr",
          "text": [
            "19: Train Loss: 4.331e-01: : 938it [00:10, 89.76it/s]\n"
          ]
        },
        {
          "output_type": "stream",
          "name": "stdout",
          "text": [
            "Accuracy of train set: 0.8482333333333333\n"
          ]
        },
        {
          "output_type": "stream",
          "name": "stderr",
          "text": [
            "19: test Loss: 4.910e-01: : 157it [00:01, 102.05it/s]\n"
          ]
        },
        {
          "output_type": "stream",
          "name": "stdout",
          "text": [
            "Accuracy of test set: 0.8276\n",
            "\n",
            " ------------------------------------------------------------\n"
          ]
        },
        {
          "output_type": "stream",
          "name": "stderr",
          "text": [
            "20: Train Loss: 4.231e-01: : 938it [00:10, 88.93it/s]\n"
          ]
        },
        {
          "output_type": "stream",
          "name": "stdout",
          "text": [
            "Accuracy of train set: 0.8512666666666666\n"
          ]
        },
        {
          "output_type": "stream",
          "name": "stderr",
          "text": [
            "20: test Loss: 4.800e-01: : 157it [00:01, 102.13it/s]\n"
          ]
        },
        {
          "output_type": "stream",
          "name": "stdout",
          "text": [
            "Accuracy of test set: 0.8245\n",
            "\n",
            " ------------------------------------------------------------\n"
          ]
        },
        {
          "output_type": "stream",
          "name": "stderr",
          "text": [
            "21: Train Loss: 4.120e-01: : 938it [00:10, 88.67it/s]\n"
          ]
        },
        {
          "output_type": "stream",
          "name": "stdout",
          "text": [
            "Accuracy of train set: 0.85565\n"
          ]
        },
        {
          "output_type": "stream",
          "name": "stderr",
          "text": [
            "21: test Loss: 5.276e-01: : 157it [00:01, 101.90it/s]\n"
          ]
        },
        {
          "output_type": "stream",
          "name": "stdout",
          "text": [
            "Accuracy of test set: 0.8085\n",
            "\n",
            " ------------------------------------------------------------\n"
          ]
        },
        {
          "output_type": "stream",
          "name": "stderr",
          "text": [
            "22: Train Loss: 4.040e-01: : 938it [00:11, 84.85it/s]\n"
          ]
        },
        {
          "output_type": "stream",
          "name": "stdout",
          "text": [
            "Accuracy of train set: 0.8579166666666667\n"
          ]
        },
        {
          "output_type": "stream",
          "name": "stderr",
          "text": [
            "22: test Loss: 4.619e-01: : 157it [00:01, 102.44it/s]\n"
          ]
        },
        {
          "output_type": "stream",
          "name": "stdout",
          "text": [
            "Accuracy of test set: 0.8337\n",
            "\n",
            " ------------------------------------------------------------\n"
          ]
        },
        {
          "output_type": "stream",
          "name": "stderr",
          "text": [
            "23: Train Loss: 3.943e-01: : 938it [00:10, 90.21it/s]\n"
          ]
        },
        {
          "output_type": "stream",
          "name": "stdout",
          "text": [
            "Accuracy of train set: 0.8614833333333334\n"
          ]
        },
        {
          "output_type": "stream",
          "name": "stderr",
          "text": [
            "23: test Loss: 4.417e-01: : 157it [00:02, 57.52it/s]\n"
          ]
        },
        {
          "output_type": "stream",
          "name": "stdout",
          "text": [
            "Accuracy of test set: 0.8411\n",
            "\n",
            " ------------------------------------------------------------\n"
          ]
        },
        {
          "output_type": "stream",
          "name": "stderr",
          "text": [
            "24: Train Loss: 3.863e-01: : 938it [00:11, 85.22it/s]\n"
          ]
        },
        {
          "output_type": "stream",
          "name": "stdout",
          "text": [
            "Accuracy of train set: 0.8635666666666667\n"
          ]
        },
        {
          "output_type": "stream",
          "name": "stderr",
          "text": [
            "24: test Loss: 4.452e-01: : 157it [00:01, 100.65it/s]\n"
          ]
        },
        {
          "output_type": "stream",
          "name": "stdout",
          "text": [
            "Accuracy of test set: 0.8431\n",
            "\n",
            " ------------------------------------------------------------\n"
          ]
        },
        {
          "output_type": "display_data",
          "data": {
            "text/plain": [
              "<Figure size 432x288 with 1 Axes>"
            ],
            "image/png": "[encoded data removed]"
          },
          "metadata": {
            "needs_background": "light"
          }
        },
        {
          "output_type": "display_data",
          "data": {
            "text/plain": [
              "<Figure size 432x288 with 1 Axes>"
            ],
            "image/png": "[encoded data removed]"
          },
          "metadata": {
            "needs_background": "light"
          }
        }
      ],
      "source": [
        "train_model([train_loader, test_loader], num_epochs=25, learning_rate=0.005)"
      ],
      "metadata": {
        "pycharm": {
          "name": "#%%\n"
        },
        "colab": {
          "base_uri": "https://localhost:8080/",
          "height": 1000
        },
        "id": "cqREylwdc-f-",
        "outputId": "e20956c1-d192-4c00-e846-ca9012a5bb49"
      }
    },
    {
      "cell_type": "code",
      "source": [
        "print(f'Final test accuracy: {test_accuracies[-1]}')"
      ],
      "metadata": {
        "colab": {
          "base_uri": "https://localhost:8080/"
        },
        "id": "mfBH75AGxxUT",
        "outputId": "8c12e3a7-0ef8-467b-d015-f3be98f2aeb3",
        "pycharm": {
          "name": "#%%\n"
        }
      },
      "execution_count": 16,
      "outputs": [
        {
          "output_type": "stream",
          "name": "stdout",
          "text": [
            "Final test accuracy: 0.8431\n"
          ]
        }
      ]
    },
    {
      "cell_type": "markdown",
      "source": [
        "We've reached the required accuracy on test set."
      ],
      "metadata": {
        "collapsed": false,
        "pycharm": {
          "name": "#%% md\n"
        },
        "id": "DFhdw1Ywc-f_"
      }
    },
    {
      "cell_type": "markdown",
      "source": [
        "## Visualizing Results"
      ],
      "metadata": {
        "collapsed": false,
        "pycharm": {
          "name": "#%% md\n"
        },
        "id": "fv6lSGZMc-f_"
      }
    },
    {
      "cell_type": "code",
      "execution_count": 26,
      "outputs": [
        {
          "output_type": "display_data",
          "data": {
            "text/plain": [
              "<Figure size 720x720 with 9 Axes>"
            ],
            "image/png": "[encoded data removed]"
          },
          "metadata": {}
        }
      ],
      "source": [
        "fig, axes = plt.subplots(3, 3, figsize=(10, 10))\n",
        "axes = axes.flat\n",
        "for ax in axes:\n",
        "    i = np.random.randint(0, len(train_set))\n",
        "    x, y = train_set[i]\n",
        "    x_device = x.clone().detach()\n",
        "    x_device = x_device.to(device)\n",
        "    p = model(x_device, parameters)\n",
        "    y_pred = p.argmax(dim=-1).cpu().numpy()[0]\n",
        "    ax.imshow(topil(x))\n",
        "    ax.set_title(f'Predicted class: {train_set.classes[y_pred]}\\nTrue class: {train_set.classes[y]}')\n",
        "    ax.set_xticks([])\n",
        "    ax.set_yticks([])\n",
        "\n",
        "plt.tight_layout()\n",
        "plt.show()"
      ],
      "metadata": {
        "pycharm": {
          "name": "#%%\n"
        },
        "colab": {
          "base_uri": "https://localhost:8080/",
          "height": 729
        },
        "id": "WUy28ymMc-f_",
        "outputId": "6ccdb33c-8677-4f99-f0f9-6f175926ade1"
      }
    }
  ],
  "metadata": {
    "kernelspec": {
      "display_name": "Python 3",
      "language": "python",
      "name": "python3"
    },
    "language_info": {
      "codemirror_mode": {
        "name": "ipython",
        "version": 2
      },
      "file_extension": ".py",
      "mimetype": "text/x-python",
      "name": "python",
      "nbconvert_exporter": "python",
      "pygments_lexer": "ipython2",
      "version": "2.7.6"
    },
    "colab": {
      "provenance": [],
      "collapsed_sections": []
    },
    "accelerator": "GPU",
    "gpuClass": "standard"
  },
  "nbformat": 4,
  "nbformat_minor": 0
}