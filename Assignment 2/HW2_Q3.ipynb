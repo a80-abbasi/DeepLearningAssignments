{
  "cells": [
    {
      "cell_type": "markdown",
      "source": [
        "# Import Libraries"
      ],
      "metadata": {
        "collapsed": false,
        "pycharm": {
          "name": "#%% md\n"
        },
        "id": "qGwQgwdQ-jXV"
      }
    },
    {
      "cell_type": "code",
      "execution_count": 1,
      "outputs": [],
      "source": [
        "import torch\n",
        "from torch import nn, optim\n",
        "from torch.utils.data import DataLoader\n",
        "\n",
        "import numpy as np\n",
        "import pandas as pd\n",
        "import matplotlib.pyplot as plt\n",
        "import tqdm"
      ],
      "metadata": {
        "pycharm": {
          "name": "#%%\n"
        },
        "id": "lKzSOP0R-jXZ"
      }
    },
    {
      "cell_type": "code",
      "execution_count": 2,
      "outputs": [],
      "source": [
        "torch.manual_seed(24)\n",
        "np.random.seed(24)"
      ],
      "metadata": {
        "pycharm": {
          "name": "#%%\n"
        },
        "id": "WCZgMve6-jXa"
      }
    },
    {
      "cell_type": "markdown",
      "source": [
        "# Import Dataset"
      ],
      "metadata": {
        "collapsed": false,
        "pycharm": {
          "name": "#%% md\n"
        },
        "id": "xb5e3sI0-jXb"
      }
    },
    {
      "cell_type": "code",
      "source": [
        "!git clone https://github.com/a80-abbasi/DeepLearningAssignments.git"
      ],
      "metadata": {
        "colab": {
          "base_uri": "https://localhost:8080/"
        },
        "id": "8tJAFP-B_aMD",
        "outputId": "6cf8358a-e926-4625-dd1b-5eefc6bbc3ec"
      },
      "execution_count": 3,
      "outputs": [
        {
          "output_type": "stream",
          "name": "stdout",
          "text": [
            "fatal: destination path 'DeepLearningAssignments' already exists and is not an empty directory.\n"
          ]
        }
      ]
    },
    {
      "cell_type": "code",
      "source": [
        "!git pull origin master"
      ],
      "metadata": {
        "colab": {
          "base_uri": "https://localhost:8080/"
        },
        "id": "O_Icc5uJGlgE",
        "outputId": "e4717109-064c-41d1-8087-f03148908ef9"
      },
      "execution_count": 32,
      "outputs": [
        {
          "output_type": "stream",
          "name": "stdout",
          "text": [
            "remote: Enumerating objects: 10, done.\u001b[K\n",
            "remote: Counting objects:  10% (1/10)\u001b[K\rremote: Counting objects:  20% (2/10)\u001b[K\rremote: Counting objects:  30% (3/10)\u001b[K\rremote: Counting objects:  40% (4/10)\u001b[K\rremote: Counting objects:  50% (5/10)\u001b[K\rremote: Counting objects:  60% (6/10)\u001b[K\rremote: Counting objects:  70% (7/10)\u001b[K\rremote: Counting objects:  80% (8/10)\u001b[K\rremote: Counting objects:  90% (9/10)\u001b[K\rremote: Counting objects: 100% (10/10)\u001b[K\rremote: Counting objects: 100% (10/10), done.\u001b[K\n",
            "remote: Compressing objects:  25% (1/4)\u001b[K\rremote: Compressing objects:  50% (2/4)\u001b[K\rremote: Compressing objects:  75% (3/4)\u001b[K\rremote: Compressing objects: 100% (4/4)\u001b[K\rremote: Compressing objects: 100% (4/4), done.\u001b[K\n",
            "remote: Total 7 (delta 3), reused 7 (delta 3), pack-reused 0\u001b[K\n",
            "Unpacking objects:  14% (1/7)   \rUnpacking objects:  28% (2/7)   \rUnpacking objects:  42% (3/7)   \rUnpacking objects:  57% (4/7)   \rUnpacking objects:  71% (5/7)   \rUnpacking objects:  85% (6/7)   \rUnpacking objects: 100% (7/7)   \rUnpacking objects: 100% (7/7), done.\n",
            "From https://github.com/a80-abbasi/DeepLearningAssignments\n",
            " * branch            master     -> FETCH_HEAD\n",
            "   ca26262..353f479  master     -> origin/master\n",
            "Updating ca26262..353f479\n",
            "Fast-forward\n",
            " Assignment 2/HW2_data/test1.jpg | Bin \u001b[31m0\u001b[m -> \u001b[32m1958\u001b[m bytes\n",
            " Assignment 2/HW2_data/test2.jpg | Bin \u001b[31m0\u001b[m -> \u001b[32m1937\u001b[m bytes\n",
            " Assignment 2/HW2_data/test3.jpg | Bin \u001b[31m0\u001b[m -> \u001b[32m1938\u001b[m bytes\n",
            " 3 files changed, 0 insertions(+), 0 deletions(-)\n",
            " create mode 100644 Assignment 2/HW2_data/test1.jpg\n",
            " create mode 100644 Assignment 2/HW2_data/test2.jpg\n",
            " create mode 100644 Assignment 2/HW2_data/test3.jpg\n"
          ]
        }
      ]
    },
    {
      "cell_type": "code",
      "source": [
        "%cd \"./DeepLearningAssignments/Assignment 2\""
      ],
      "metadata": {
        "colab": {
          "base_uri": "https://localhost:8080/"
        },
        "id": "r7H47ypS_sXf",
        "outputId": "308b5d25-cb38-48e3-f373-0017fec7e2af"
      },
      "execution_count": 4,
      "outputs": [
        {
          "output_type": "stream",
          "name": "stdout",
          "text": [
            "/content/DeepLearningAssignments/Assignment 2\n"
          ]
        }
      ]
    },
    {
      "cell_type": "code",
      "execution_count": 5,
      "outputs": [
        {
          "output_type": "execute_result",
          "data": {
            "text/plain": [
              "   label  pixel1  pixel2  pixel3  pixel4  pixel5  pixel6  pixel7  pixel8  \\\n",
              "0      3     107     118     127     134     139     143     146     150   \n",
              "1      6     155     157     156     156     156     157     156     158   \n",
              "2      2     187     188     188     187     187     186     187     188   \n",
              "3      2     211     211     212     212     211     210     211     210   \n",
              "4     13     164     167     170     172     176     179     180     184   \n",
              "\n",
              "   pixel9  ...  pixel775  pixel776  pixel777  pixel778  pixel779  pixel780  \\\n",
              "0     153  ...       207       207       207       207       206       206   \n",
              "1     158  ...        69       149       128        87        94       163   \n",
              "2     187  ...       202       201       200       199       198       199   \n",
              "3     210  ...       235       234       233       231       230       226   \n",
              "4     185  ...        92       105       105       108       133       163   \n",
              "\n",
              "   pixel781  pixel782  pixel783  pixel784  \n",
              "0       206       204       203       202  \n",
              "1       175       103       135       149  \n",
              "2       198       195       194       195  \n",
              "3       225       222       229       163  \n",
              "4       157       163       164       179  \n",
              "\n",
              "[5 rows x 785 columns]"
            ],
            "text/html": [
              "\n",
              "  <div id=\"df-21d75589-74e1-4a15-9767-f7a9e883f70a\">\n",
              "    <div class=\"colab-df-container\">\n",
              "      <div>\n",
              "<style scoped>\n",
              "    .dataframe tbody tr th:only-of-type {\n",
              "        vertical-align: middle;\n",
              "    }\n",
              "\n",
              "    .dataframe tbody tr th {\n",
              "        vertical-align: top;\n",
              "    }\n",
              "\n",
              "    .dataframe thead th {\n",
              "        text-align: right;\n",
              "    }\n",
              "</style>\n",
              "<table border=\"1\" class=\"dataframe\">\n",
              "  <thead>\n",
              "    <tr style=\"text-align: right;\">\n",
              "      <th></th>\n",
              "      <th>label</th>\n",
              "      <th>pixel1</th>\n",
              "      <th>pixel2</th>\n",
              "      <th>pixel3</th>\n",
              "      <th>pixel4</th>\n",
              "      <th>pixel5</th>\n",
              "      <th>pixel6</th>\n",
              "      <th>pixel7</th>\n",
              "      <th>pixel8</th>\n",
              "      <th>pixel9</th>\n",
              "      <th>...</th>\n",
              "      <th>pixel775</th>\n",
              "      <th>pixel776</th>\n",
              "      <th>pixel777</th>\n",
              "      <th>pixel778</th>\n",
              "      <th>pixel779</th>\n",
              "      <th>pixel780</th>\n",
              "      <th>pixel781</th>\n",
              "      <th>pixel782</th>\n",
              "      <th>pixel783</th>\n",
              "      <th>pixel784</th>\n",
              "    </tr>\n",
              "  </thead>\n",
              "  <tbody>\n",
              "    <tr>\n",
              "      <th>0</th>\n",
              "      <td>3</td>\n",
              "      <td>107</td>\n",
              "      <td>118</td>\n",
              "      <td>127</td>\n",
              "      <td>134</td>\n",
              "      <td>139</td>\n",
              "      <td>143</td>\n",
              "      <td>146</td>\n",
              "      <td>150</td>\n",
              "      <td>153</td>\n",
              "      <td>...</td>\n",
              "      <td>207</td>\n",
              "      <td>207</td>\n",
              "      <td>207</td>\n",
              "      <td>207</td>\n",
              "      <td>206</td>\n",
              "      <td>206</td>\n",
              "      <td>206</td>\n",
              "      <td>204</td>\n",
              "      <td>203</td>\n",
              "      <td>202</td>\n",
              "    </tr>\n",
              "    <tr>\n",
              "      <th>1</th>\n",
              "      <td>6</td>\n",
              "      <td>155</td>\n",
              "      <td>157</td>\n",
              "      <td>156</td>\n",
              "      <td>156</td>\n",
              "      <td>156</td>\n",
              "      <td>157</td>\n",
              "      <td>156</td>\n",
              "      <td>158</td>\n",
              "      <td>158</td>\n",
              "      <td>...</td>\n",
              "      <td>69</td>\n",
              "      <td>149</td>\n",
              "      <td>128</td>\n",
              "      <td>87</td>\n",
              "      <td>94</td>\n",
              "      <td>163</td>\n",
              "      <td>175</td>\n",
              "      <td>103</td>\n",
              "      <td>135</td>\n",
              "      <td>149</td>\n",
              "    </tr>\n",
              "    <tr>\n",
              "      <th>2</th>\n",
              "      <td>2</td>\n",
              "      <td>187</td>\n",
              "      <td>188</td>\n",
              "      <td>188</td>\n",
              "      <td>187</td>\n",
              "      <td>187</td>\n",
              "      <td>186</td>\n",
              "      <td>187</td>\n",
              "      <td>188</td>\n",
              "      <td>187</td>\n",
              "      <td>...</td>\n",
              "      <td>202</td>\n",
              "      <td>201</td>\n",
              "      <td>200</td>\n",
              "      <td>199</td>\n",
              "      <td>198</td>\n",
              "      <td>199</td>\n",
              "      <td>198</td>\n",
              "      <td>195</td>\n",
              "      <td>194</td>\n",
              "      <td>195</td>\n",
              "    </tr>\n",
              "    <tr>\n",
              "      <th>3</th>\n",
              "      <td>2</td>\n",
              "      <td>211</td>\n",
              "      <td>211</td>\n",
              "      <td>212</td>\n",
              "      <td>212</td>\n",
              "      <td>211</td>\n",
              "      <td>210</td>\n",
              "      <td>211</td>\n",
              "      <td>210</td>\n",
              "      <td>210</td>\n",
              "      <td>...</td>\n",
              "      <td>235</td>\n",
              "      <td>234</td>\n",
              "      <td>233</td>\n",
              "      <td>231</td>\n",
              "      <td>230</td>\n",
              "      <td>226</td>\n",
              "      <td>225</td>\n",
              "      <td>222</td>\n",
              "      <td>229</td>\n",
              "      <td>163</td>\n",
              "    </tr>\n",
              "    <tr>\n",
              "      <th>4</th>\n",
              "      <td>13</td>\n",
              "      <td>164</td>\n",
              "      <td>167</td>\n",
              "      <td>170</td>\n",
              "      <td>172</td>\n",
              "      <td>176</td>\n",
              "      <td>179</td>\n",
              "      <td>180</td>\n",
              "      <td>184</td>\n",
              "      <td>185</td>\n",
              "      <td>...</td>\n",
              "      <td>92</td>\n",
              "      <td>105</td>\n",
              "      <td>105</td>\n",
              "      <td>108</td>\n",
              "      <td>133</td>\n",
              "      <td>163</td>\n",
              "      <td>157</td>\n",
              "      <td>163</td>\n",
              "      <td>164</td>\n",
              "      <td>179</td>\n",
              "    </tr>\n",
              "  </tbody>\n",
              "</table>\n",
              "<p>5 rows × 785 columns</p>\n",
              "</div>\n",
              "      <button class=\"colab-df-convert\" onclick=\"convertToInteractive('df-21d75589-74e1-4a15-9767-f7a9e883f70a')\"\n",
              "              title=\"Convert this dataframe to an interactive table.\"\n",
              "              style=\"display:none;\">\n",
              "        \n",
              "  <svg xmlns=\"http://www.w3.org/2000/svg\" height=\"24px\"viewBox=\"0 0 24 24\"\n",
              "       width=\"24px\">\n",
              "    <path d=\"M0 0h24v24H0V0z\" fill=\"none\"/>\n",
              "    <path d=\"M18.56 5.44l.94 2.06.94-2.06 2.06-.94-2.06-.94-.94-2.06-.94 2.06-2.06.94zm-11 1L8.5 8.5l.94-2.06 2.06-.94-2.06-.94L8.5 2.5l-.94 2.06-2.06.94zm10 10l.94 2.06.94-2.06 2.06-.94-2.06-.94-.94-2.06-.94 2.06-2.06.94z\"/><path d=\"M17.41 7.96l-1.37-1.37c-.4-.4-.92-.59-1.43-.59-.52 0-1.04.2-1.43.59L10.3 9.45l-7.72 7.72c-.78.78-.78 2.05 0 2.83L4 21.41c.39.39.9.59 1.41.59.51 0 1.02-.2 1.41-.59l7.78-7.78 2.81-2.81c.8-.78.8-2.07 0-2.86zM5.41 20L4 18.59l7.72-7.72 1.47 1.35L5.41 20z\"/>\n",
              "  </svg>\n",
              "      </button>\n",
              "      \n",
              "  <style>\n",
              "    .colab-df-container {\n",
              "      display:flex;\n",
              "      flex-wrap:wrap;\n",
              "      gap: 12px;\n",
              "    }\n",
              "\n",
              "    .colab-df-convert {\n",
              "      background-color: #E8F0FE;\n",
              "      border: none;\n",
              "      border-radius: 50%;\n",
              "      cursor: pointer;\n",
              "      display: none;\n",
              "      fill: #1967D2;\n",
              "      height: 32px;\n",
              "      padding: 0 0 0 0;\n",
              "      width: 32px;\n",
              "    }\n",
              "\n",
              "    .colab-df-convert:hover {\n",
              "      background-color: #E2EBFA;\n",
              "      box-shadow: 0px 1px 2px rgba(60, 64, 67, 0.3), 0px 1px 3px 1px rgba(60, 64, 67, 0.15);\n",
              "      fill: #174EA6;\n",
              "    }\n",
              "\n",
              "    [theme=dark] .colab-df-convert {\n",
              "      background-color: #3B4455;\n",
              "      fill: #D2E3FC;\n",
              "    }\n",
              "\n",
              "    [theme=dark] .colab-df-convert:hover {\n",
              "      background-color: #434B5C;\n",
              "      box-shadow: 0px 1px 3px 1px rgba(0, 0, 0, 0.15);\n",
              "      filter: drop-shadow(0px 1px 2px rgba(0, 0, 0, 0.3));\n",
              "      fill: #FFFFFF;\n",
              "    }\n",
              "  </style>\n",
              "\n",
              "      <script>\n",
              "        const buttonEl =\n",
              "          document.querySelector('#df-21d75589-74e1-4a15-9767-f7a9e883f70a button.colab-df-convert');\n",
              "        buttonEl.style.display =\n",
              "          google.colab.kernel.accessAllowed ? 'block' : 'none';\n",
              "\n",
              "        async function convertToInteractive(key) {\n",
              "          const element = document.querySelector('#df-21d75589-74e1-4a15-9767-f7a9e883f70a');\n",
              "          const dataTable =\n",
              "            await google.colab.kernel.invokeFunction('convertToInteractive',\n",
              "                                                     [key], {});\n",
              "          if (!dataTable) return;\n",
              "\n",
              "          const docLinkHtml = 'Like what you see? Visit the ' +\n",
              "            '<a target=\"_blank\" href=https://colab.research.google.com/notebooks/data_table.ipynb>data table notebook</a>'\n",
              "            + ' to learn more about interactive tables.';\n",
              "          element.innerHTML = '';\n",
              "          dataTable['output_type'] = 'display_data';\n",
              "          await google.colab.output.renderOutput(dataTable, element);\n",
              "          const docLink = document.createElement('div');\n",
              "          docLink.innerHTML = docLinkHtml;\n",
              "          element.appendChild(docLink);\n",
              "        }\n",
              "      </script>\n",
              "    </div>\n",
              "  </div>\n",
              "  "
            ]
          },
          "metadata": {},
          "execution_count": 5
        }
      ],
      "source": [
        "train_df = pd.read_csv('HW2_data/Q3_train.csv')\n",
        "test_df = pd.read_csv('HW2_data/Q3_test.csv')\n",
        "train_df.head()"
      ],
      "metadata": {
        "pycharm": {
          "name": "#%%\n"
        },
        "colab": {
          "base_uri": "https://localhost:8080/",
          "height": 300
        },
        "id": "awt9dEJp-jXb",
        "outputId": "4b342980-b315-4f5a-ee36-2499db5bd0d2"
      }
    },
    {
      "cell_type": "code",
      "execution_count": 6,
      "outputs": [
        {
          "output_type": "execute_result",
          "data": {
            "text/plain": [
              "24"
            ]
          },
          "metadata": {},
          "execution_count": 6
        }
      ],
      "source": [
        "num_classes = len(np.unique(train_df['label']))\n",
        "num_classes"
      ],
      "metadata": {
        "pycharm": {
          "name": "#%%\n"
        },
        "colab": {
          "base_uri": "https://localhost:8080/"
        },
        "id": "_utzBjbx-jXc",
        "outputId": "4d413bb7-85fa-455c-dd10-6d16d8263008"
      }
    },
    {
      "cell_type": "markdown",
      "source": [
        "It doesn't contain one of letters. So we will map them to numbers 0 to 23."
      ],
      "metadata": {
        "collapsed": false,
        "pycharm": {
          "name": "#%% md\n"
        },
        "id": "eTmiTtJ3-jXc"
      }
    },
    {
      "cell_type": "code",
      "execution_count": 7,
      "outputs": [
        {
          "output_type": "execute_result",
          "data": {
            "text/plain": [
              "{0: 'A',\n",
              " 1: 'B',\n",
              " 2: 'C',\n",
              " 3: 'D',\n",
              " 4: 'E',\n",
              " 5: 'F',\n",
              " 6: 'G',\n",
              " 7: 'H',\n",
              " 8: 'I',\n",
              " 9: 'K',\n",
              " 10: 'L',\n",
              " 11: 'M',\n",
              " 12: 'N',\n",
              " 13: 'O',\n",
              " 14: 'P',\n",
              " 15: 'Q',\n",
              " 16: 'R',\n",
              " 17: 'S',\n",
              " 18: 'T',\n",
              " 19: 'U',\n",
              " 20: 'V',\n",
              " 21: 'W',\n",
              " 22: 'X',\n",
              " 23: 'Y'}"
            ]
          },
          "metadata": {},
          "execution_count": 7
        }
      ],
      "source": [
        "english_letters = [chr(ord('A') + i) for i in range(26)]\n",
        "unique_labels = np.unique(np.unique(train_df['label']))\n",
        "idx_to_letter = {i: english_letters[num] for i, num in enumerate(unique_labels)}\n",
        "label_to_idx = {num:i for i, num in enumerate(unique_labels)}\n",
        "idx_to_letter"
      ],
      "metadata": {
        "pycharm": {
          "name": "#%%\n"
        },
        "colab": {
          "base_uri": "https://localhost:8080/"
        },
        "id": "H7z1yojU-jXd",
        "outputId": "cfda0a08-d0af-46ab-b27d-235971454651"
      }
    },
    {
      "cell_type": "code",
      "execution_count": 8,
      "outputs": [],
      "source": [
        "train_x = train_df.drop(columns=['label']).to_numpy()\n",
        "test_x = test_df.drop(columns=['label']).to_numpy()\n",
        "train_y = train_df['label'].map(label_to_idx).to_numpy()\n",
        "test_y = test_df['label'].map(label_to_idx).to_numpy()"
      ],
      "metadata": {
        "pycharm": {
          "name": "#%%\n"
        },
        "id": "I--lsn_v-jXd"
      }
    },
    {
      "cell_type": "markdown",
      "source": [
        "# Visualization"
      ],
      "metadata": {
        "collapsed": false,
        "pycharm": {
          "name": "#%% md\n"
        },
        "id": "5lBLr7Jp-jXe"
      }
    },
    {
      "cell_type": "code",
      "execution_count": 9,
      "outputs": [
        {
          "output_type": "execute_result",
          "data": {
            "text/plain": [
              "(28, 28)"
            ]
          },
          "metadata": {},
          "execution_count": 9
        }
      ],
      "source": [
        "n_in = train_x.shape[1]\n",
        "sqrt = np.sqrt(n_in).astype(int)\n",
        "image_shape = (sqrt, sqrt)\n",
        "image_shape"
      ],
      "metadata": {
        "pycharm": {
          "name": "#%%\n"
        },
        "colab": {
          "base_uri": "https://localhost:8080/"
        },
        "id": "xyMey2l2-jXe",
        "outputId": "971e1ff5-6525-4a26-bda5-957e1b4f77ba"
      }
    },
    {
      "cell_type": "code",
      "execution_count": 10,
      "outputs": [
        {
          "output_type": "display_data",
          "data": {
            "text/plain": [
              "<Figure size 720x720 with 9 Axes>"
            ],
            "image/png": "[encoded data removed]"
          },
          "metadata": {}
        }
      ],
      "source": [
        "fig, axes = plt.subplots(3, 3, figsize=(10, 10))\n",
        "axes = axes.flat\n",
        "for ax in axes:\n",
        "    i = np.random.randint(0, len(train_x))\n",
        "    x, y = train_x[i], train_y[i]\n",
        "    img = x.reshape(image_shape)\n",
        "    ax.imshow(img)\n",
        "    ax.set_title(f'Letter {idx_to_letter[y]}')\n",
        "    ax.set_xticks([])\n",
        "    ax.set_yticks([])\n",
        "\n",
        "plt.tight_layout(pad=3)\n",
        "plt.show()"
      ],
      "metadata": {
        "pycharm": {
          "name": "#%%\n"
        },
        "colab": {
          "base_uri": "https://localhost:8080/",
          "height": 691
        },
        "id": "0hR2pmKT-jXf",
        "outputId": "034462b0-394a-4cb2-a4e4-8ef0b570b1da"
      }
    },
    {
      "cell_type": "markdown",
      "source": [
        "# Dataset and Dataloaders"
      ],
      "metadata": {
        "collapsed": false,
        "pycharm": {
          "name": "#%% md\n"
        },
        "id": "GN-K9YJ_-jXf"
      }
    },
    {
      "cell_type": "code",
      "execution_count": 11,
      "outputs": [],
      "source": [
        "class HandLetters(torch.utils.data.Dataset):\n",
        "\n",
        "    def __init__(self, x, y):\n",
        "        self.features = torch.tensor(x).type(torch.FloatTensor)\n",
        "        self.target = torch.tensor(y).type(torch.LongTensor)\n",
        "\n",
        "    def __len__(self):\n",
        "        return len(self.target)\n",
        "\n",
        "    def __getitem__(self, item):\n",
        "        x = self.features[item]\n",
        "        y = self.target[item]\n",
        "        return x, y"
      ],
      "metadata": {
        "pycharm": {
          "name": "#%%\n"
        },
        "id": "T2HPtr78-jXg"
      }
    },
    {
      "cell_type": "code",
      "execution_count": 12,
      "outputs": [],
      "source": [
        "train_set = HandLetters(train_x, train_y)\n",
        "test_set = HandLetters(test_x, test_y)"
      ],
      "metadata": {
        "pycharm": {
          "name": "#%%\n"
        },
        "id": "ePXwkrgf-jXg"
      }
    },
    {
      "cell_type": "markdown",
      "source": [
        "Spliting Data:"
      ],
      "metadata": {
        "collapsed": false,
        "pycharm": {
          "name": "#%% md\n"
        },
        "id": "zjAzm9vQ-jXg"
      }
    },
    {
      "cell_type": "code",
      "execution_count": 13,
      "outputs": [],
      "source": [
        "from torch.utils.data import random_split\n",
        "train_len = int(len(train_set) * 0.8)\n",
        "val_len = len(train_set) - train_len\n",
        "train_set, val_set = random_split(train_set, [train_len, val_len])"
      ],
      "metadata": {
        "pycharm": {
          "name": "#%%\n"
        },
        "id": "ItsfFC96-jXg"
      }
    },
    {
      "cell_type": "markdown",
      "source": [
        "Dataloaders:"
      ],
      "metadata": {
        "collapsed": false,
        "pycharm": {
          "name": "#%% md\n"
        },
        "id": "A8DdTPSB-jXh"
      }
    },
    {
      "cell_type": "code",
      "execution_count": 14,
      "outputs": [],
      "source": [
        "train_loader = DataLoader(train_set, batch_size=128, shuffle=True)\n",
        "test_loader = DataLoader(test_set, batch_size=128, shuffle=True)\n",
        "val_loader = DataLoader(val_set, batch_size=128, shuffle=True)"
      ],
      "metadata": {
        "pycharm": {
          "name": "#%%\n"
        },
        "id": "86Rdrp3L-jXh"
      }
    },
    {
      "cell_type": "markdown",
      "source": [
        "# Defining Model"
      ],
      "metadata": {
        "collapsed": false,
        "pycharm": {
          "name": "#%% md\n"
        },
        "id": "wuIW9R2u-jXh"
      }
    },
    {
      "cell_type": "code",
      "execution_count": 15,
      "outputs": [],
      "source": [
        "from more_itertools import pairwise\n",
        "\n",
        "class HandLettersDetector(nn.Module):\n",
        "\n",
        "    def __init__(self, layers_inputs, dropout=False):\n",
        "        super().__init__()\n",
        "        layers_shape = list(pairwise(layers_inputs))\n",
        "        layers = []\n",
        "        for shape in layers_shape[:-1]:\n",
        "            layers.append(nn.Linear(*shape))\n",
        "            layers.append(nn.ReLU())\n",
        "            if dropout:\n",
        "                layers.append(nn.Dropout(dropout))\n",
        "        layers.append(nn.Linear(*layers_shape[-1]))\n",
        "        self.layers = nn.Sequential(*layers)\n",
        "\n",
        "    def forward(self, x):\n",
        "        x = x.view(x.shape[0], -1)\n",
        "        return self.layers(x)"
      ],
      "metadata": {
        "pycharm": {
          "name": "#%%\n"
        },
        "id": "VIHT59A8-jXh"
      }
    },
    {
      "cell_type": "code",
      "execution_count": 16,
      "outputs": [
        {
          "output_type": "execute_result",
          "data": {
            "text/plain": [
              "HandLettersDetector(\n",
              "  (layers): Sequential(\n",
              "    (0): Linear(in_features=784, out_features=512, bias=True)\n",
              "    (1): ReLU()\n",
              "    (2): Linear(in_features=512, out_features=256, bias=True)\n",
              "    (3): ReLU()\n",
              "    (4): Linear(in_features=256, out_features=128, bias=True)\n",
              "    (5): ReLU()\n",
              "    (6): Linear(in_features=128, out_features=64, bias=True)\n",
              "    (7): ReLU()\n",
              "    (8): Linear(in_features=64, out_features=24, bias=True)\n",
              "  )\n",
              ")"
            ]
          },
          "metadata": {},
          "execution_count": 16
        }
      ],
      "source": [
        "layers_inputs = [n_in, 512, 256, 128, 64, num_classes]\n",
        "model = HandLettersDetector(layers_inputs)\n",
        "model"
      ],
      "metadata": {
        "pycharm": {
          "name": "#%%\n"
        },
        "colab": {
          "base_uri": "https://localhost:8080/"
        },
        "id": "svr0JCUJ-jXi",
        "outputId": "10310e22-f5b1-49d6-9508-1360548de791"
      }
    },
    {
      "cell_type": "markdown",
      "source": [
        "# Training Model"
      ],
      "metadata": {
        "collapsed": false,
        "pycharm": {
          "name": "#%% md\n"
        },
        "id": "rLRZUJpH-jXi"
      }
    },
    {
      "cell_type": "code",
      "execution_count": 17,
      "outputs": [],
      "source": [
        "device = torch.device(\"cuda\" if torch.cuda.is_available() else \"cpu\")"
      ],
      "metadata": {
        "pycharm": {
          "name": "#%%\n"
        },
        "id": "G9Gpk9KR-jXi"
      }
    },
    {
      "cell_type": "code",
      "execution_count": 18,
      "outputs": [],
      "source": [
        "def accuracy(y_pred: np.ndarray, y_true: np.ndarray):\n",
        "    return (y_true == y_pred).mean()"
      ],
      "metadata": {
        "pycharm": {
          "name": "#%%\n"
        },
        "id": "Eb35MFGa-jXi"
      }
    },
    {
      "cell_type": "code",
      "execution_count": 19,
      "outputs": [],
      "source": [
        "def one_epoch(model, loader, criterion, optimizer=None, epoch='', train=True, set_name='Train'):\n",
        "    total_loss = 0\n",
        "    N = len(loader.dataset)\n",
        "    Y = []\n",
        "    Y_pred = []\n",
        "    if train:\n",
        "        model.train()\n",
        "    else:\n",
        "        model.eval()\n",
        "\n",
        "    with torch.set_grad_enabled(train), tqdm.tqdm(enumerate(loader)) as pbar:\n",
        "        for i, (x, y) in pbar:\n",
        "            if train:\n",
        "                optimizer.zero_grad()\n",
        "\n",
        "            x = x.to(device)\n",
        "            y = y.to(device)\n",
        "            p = model(x)\n",
        "\n",
        "            loss = criterion(p, y)\n",
        "\n",
        "            total_loss += loss.item() * len(x)\n",
        "            pbar.set_description(f'{epoch}: {set_name} Loss: {total_loss / N:.3e}')\n",
        "            if train:\n",
        "                loss.backward()\n",
        "                optimizer.step()\n",
        "\n",
        "            y_pred = p.argmax(dim=-1)\n",
        "            Y.append(y.cpu().numpy())\n",
        "            Y_pred.append(y_pred.cpu().numpy())\n",
        "\n",
        "    total_loss /= N\n",
        "\n",
        "    Y = np.concatenate(Y)\n",
        "    Y_pred = np.concatenate(Y_pred)\n",
        "    acc = accuracy(Y_pred, Y)\n",
        "    print(f'Accuracy of {set_name} set: {acc}')\n",
        "    return total_loss, acc"
      ],
      "metadata": {
        "pycharm": {
          "name": "#%%\n"
        },
        "id": "JUJ4MVZ1-jXj"
      }
    },
    {
      "cell_type": "code",
      "execution_count": 20,
      "outputs": [],
      "source": [
        "train_losses = []\n",
        "val_losses = []\n",
        "train_accuracies = []\n",
        "val_accuracies = []"
      ],
      "metadata": {
        "pycharm": {
          "name": "#%%\n"
        },
        "id": "9h9QncHw-jXj"
      }
    },
    {
      "cell_type": "code",
      "execution_count": 21,
      "outputs": [],
      "source": [
        "def train_model(model, dataloaders, num_epochs, criterion, optimizer, model_name='pytroch-model'):\n",
        "    train_loader, val_loader = dataloaders\n",
        "    min_val_loss = np.inf\n",
        "    for epoch in range(num_epochs):\n",
        "        train_loss, train_acc = one_epoch(model, train_loader, criterion, optimizer, epoch, train=True, set_name='Train')\n",
        "        train_losses.append(train_loss)\n",
        "        train_accuracies.append(train_acc)\n",
        "        val_loss, val_acc = one_epoch(model, val_loader, criterion, epoch=epoch, train=False, set_name='Validation')\n",
        "        val_losses.append(val_loss)\n",
        "        val_accuracies.append(val_acc)\n",
        "        print('\\n', '-' * 60)\n",
        "        if val_loss < min_val_loss:\n",
        "            min_val_loss = val_loss\n",
        "            torch.save(model.state_dict(), f'{model_name}.pt')\n",
        "\n",
        "\n",
        "    plt.plot(train_losses, label='train')\n",
        "    plt.plot(val_losses, label='val')\n",
        "    plt.title('loss history of training and val sets')\n",
        "    plt.legend()\n",
        "    plt.show()\n",
        "\n",
        "    plt.plot(train_accuracies, label='train')\n",
        "    plt.plot(val_accuracies, label='val')\n",
        "    plt.title('Accuracy history of training and val sets')\n",
        "    plt.legend()\n",
        "    plt.show()\n",
        "\n",
        "    model.load_state_dict(torch.load(f'{model_name}.pt'))\n",
        "    return model, min_val_loss"
      ],
      "metadata": {
        "pycharm": {
          "name": "#%%\n"
        },
        "id": "hKZUblYj-jXj"
      }
    },
    {
      "cell_type": "markdown",
      "source": [
        "Training with SGD:"
      ],
      "metadata": {
        "collapsed": false,
        "pycharm": {
          "name": "#%% md\n"
        },
        "id": "x5WwAVdB-jXj"
      }
    },
    {
      "cell_type": "code",
      "execution_count": 22,
      "outputs": [
        {
          "output_type": "stream",
          "name": "stderr",
          "text": [
            "0: Train Loss: 2.876e+00: : 172it [00:01, 86.20it/s] \n"
          ]
        },
        {
          "output_type": "stream",
          "name": "stdout",
          "text": [
            "Accuracy of Train set: 0.177153523948279\n"
          ]
        },
        {
          "output_type": "stream",
          "name": "stderr",
          "text": [
            "0: Validation Loss: 2.767e+00: : 43it [00:00, 165.70it/s]\n"
          ]
        },
        {
          "output_type": "stream",
          "name": "stdout",
          "text": [
            "Accuracy of Validation set: 0.2103441995993444\n",
            "\n",
            " ------------------------------------------------------------\n"
          ]
        },
        {
          "output_type": "stream",
          "name": "stderr",
          "text": [
            "1: Train Loss: 2.266e+00: : 172it [00:01, 115.49it/s]\n"
          ]
        },
        {
          "output_type": "stream",
          "name": "stdout",
          "text": [
            "Accuracy of Train set: 0.34611181934073937\n"
          ]
        },
        {
          "output_type": "stream",
          "name": "stderr",
          "text": [
            "1: Validation Loss: 2.062e+00: : 43it [00:00, 132.99it/s]\n"
          ]
        },
        {
          "output_type": "stream",
          "name": "stdout",
          "text": [
            "Accuracy of Validation set: 0.3882717173556729\n",
            "\n",
            " ------------------------------------------------------------\n"
          ]
        },
        {
          "output_type": "stream",
          "name": "stderr",
          "text": [
            "2: Train Loss: 1.804e+00: : 172it [00:01, 88.87it/s]\n"
          ]
        },
        {
          "output_type": "stream",
          "name": "stdout",
          "text": [
            "Accuracy of Train set: 0.4580677472227281\n"
          ]
        },
        {
          "output_type": "stream",
          "name": "stderr",
          "text": [
            "2: Validation Loss: 1.576e+00: : 43it [00:00, 73.71it/s]\n"
          ]
        },
        {
          "output_type": "stream",
          "name": "stdout",
          "text": [
            "Accuracy of Validation set: 0.5386996904024768\n",
            "\n",
            " ------------------------------------------------------------\n"
          ]
        },
        {
          "output_type": "stream",
          "name": "stderr",
          "text": [
            "3: Train Loss: 1.483e+00: : 172it [00:01, 96.82it/s]\n"
          ]
        },
        {
          "output_type": "stream",
          "name": "stdout",
          "text": [
            "Accuracy of Train set: 0.5541795665634675\n"
          ]
        },
        {
          "output_type": "stream",
          "name": "stderr",
          "text": [
            "3: Validation Loss: 1.307e+00: : 43it [00:00, 112.00it/s]\n"
          ]
        },
        {
          "output_type": "stream",
          "name": "stdout",
          "text": [
            "Accuracy of Validation set: 0.6015297759970861\n",
            "\n",
            " ------------------------------------------------------------\n"
          ]
        },
        {
          "output_type": "stream",
          "name": "stderr",
          "text": [
            "4: Train Loss: 1.243e+00: : 172it [00:02, 80.33it/s]\n"
          ]
        },
        {
          "output_type": "stream",
          "name": "stdout",
          "text": [
            "Accuracy of Train set: 0.6278455654707703\n"
          ]
        },
        {
          "output_type": "stream",
          "name": "stderr",
          "text": [
            "4: Validation Loss: 1.234e+00: : 43it [00:00, 117.01it/s]\n"
          ]
        },
        {
          "output_type": "stream",
          "name": "stdout",
          "text": [
            "Accuracy of Validation set: 0.616463303587689\n",
            "\n",
            " ------------------------------------------------------------\n"
          ]
        },
        {
          "output_type": "stream",
          "name": "stderr",
          "text": [
            "5: Train Loss: 1.082e+00: : 172it [00:02, 85.10it/s]\n"
          ]
        },
        {
          "output_type": "stream",
          "name": "stdout",
          "text": [
            "Accuracy of Train set: 0.6758331815698415\n"
          ]
        },
        {
          "output_type": "stream",
          "name": "stderr",
          "text": [
            "5: Validation Loss: 9.863e-01: : 43it [00:00, 112.17it/s]\n"
          ]
        },
        {
          "output_type": "stream",
          "name": "stdout",
          "text": [
            "Accuracy of Validation set: 0.6995082862866508\n",
            "\n",
            " ------------------------------------------------------------\n"
          ]
        },
        {
          "output_type": "stream",
          "name": "stderr",
          "text": [
            "6: Train Loss: 9.274e-01: : 172it [00:02, 78.27it/s]\n"
          ]
        },
        {
          "output_type": "stream",
          "name": "stdout",
          "text": [
            "Accuracy of Train set: 0.7276452376616281\n"
          ]
        },
        {
          "output_type": "stream",
          "name": "stderr",
          "text": [
            "6: Validation Loss: 9.507e-01: : 43it [00:00, 111.63it/s]\n"
          ]
        },
        {
          "output_type": "stream",
          "name": "stdout",
          "text": [
            "Accuracy of Validation set: 0.6767437625204881\n",
            "\n",
            " ------------------------------------------------------------\n"
          ]
        },
        {
          "output_type": "stream",
          "name": "stderr",
          "text": [
            "7: Train Loss: 8.065e-01: : 172it [00:02, 85.16it/s]\n"
          ]
        },
        {
          "output_type": "stream",
          "name": "stdout",
          "text": [
            "Accuracy of Train set: 0.7642505918776179\n"
          ]
        },
        {
          "output_type": "stream",
          "name": "stderr",
          "text": [
            "7: Validation Loss: 7.022e-01: : 43it [00:00, 120.01it/s]\n"
          ]
        },
        {
          "output_type": "stream",
          "name": "stdout",
          "text": [
            "Accuracy of Validation set: 0.810963394645784\n",
            "\n",
            " ------------------------------------------------------------\n"
          ]
        },
        {
          "output_type": "stream",
          "name": "stderr",
          "text": [
            "8: Train Loss: 7.259e-01: : 172it [00:02, 66.92it/s]\n"
          ]
        },
        {
          "output_type": "stream",
          "name": "stdout",
          "text": [
            "Accuracy of Train set: 0.7900200327809143\n"
          ]
        },
        {
          "output_type": "stream",
          "name": "stderr",
          "text": [
            "8: Validation Loss: 6.228e-01: : 43it [00:00, 104.26it/s]\n"
          ]
        },
        {
          "output_type": "stream",
          "name": "stdout",
          "text": [
            "Accuracy of Validation set: 0.8317246403205245\n",
            "\n",
            " ------------------------------------------------------------\n"
          ]
        },
        {
          "output_type": "stream",
          "name": "stderr",
          "text": [
            "9: Train Loss: 6.169e-01: : 172it [00:01, 125.00it/s]\n"
          ]
        },
        {
          "output_type": "stream",
          "name": "stdout",
          "text": [
            "Accuracy of Train set: 0.8274449098524859\n"
          ]
        },
        {
          "output_type": "stream",
          "name": "stderr",
          "text": [
            "9: Validation Loss: 5.556e-01: : 43it [00:00, 165.94it/s]\n"
          ]
        },
        {
          "output_type": "stream",
          "name": "stdout",
          "text": [
            "Accuracy of Validation set: 0.8408304498269896\n",
            "\n",
            " ------------------------------------------------------------\n"
          ]
        },
        {
          "output_type": "stream",
          "name": "stderr",
          "text": [
            "10: Train Loss: 5.592e-01: : 172it [00:01, 130.14it/s]\n"
          ]
        },
        {
          "output_type": "stream",
          "name": "stdout",
          "text": [
            "Accuracy of Train set: 0.8425150245856856\n"
          ]
        },
        {
          "output_type": "stream",
          "name": "stderr",
          "text": [
            "10: Validation Loss: 6.774e-01: : 43it [00:00, 161.21it/s]\n"
          ]
        },
        {
          "output_type": "stream",
          "name": "stdout",
          "text": [
            "Accuracy of Validation set: 0.7881988708796211\n",
            "\n",
            " ------------------------------------------------------------\n"
          ]
        },
        {
          "output_type": "stream",
          "name": "stderr",
          "text": [
            "11: Train Loss: 4.794e-01: : 172it [00:01, 130.70it/s]\n"
          ]
        },
        {
          "output_type": "stream",
          "name": "stdout",
          "text": [
            "Accuracy of Train set: 0.8679657621562556\n"
          ]
        },
        {
          "output_type": "stream",
          "name": "stderr",
          "text": [
            "11: Validation Loss: 5.007e-01: : 43it [00:00, 154.89it/s]\n"
          ]
        },
        {
          "output_type": "stream",
          "name": "stdout",
          "text": [
            "Accuracy of Validation set: 0.8648697869240576\n",
            "\n",
            " ------------------------------------------------------------\n"
          ]
        },
        {
          "output_type": "stream",
          "name": "stderr",
          "text": [
            "12: Train Loss: 4.191e-01: : 172it [00:01, 128.86it/s]\n"
          ]
        },
        {
          "output_type": "stream",
          "name": "stdout",
          "text": [
            "Accuracy of Train set: 0.8886359497359315\n"
          ]
        },
        {
          "output_type": "stream",
          "name": "stderr",
          "text": [
            "12: Validation Loss: 8.437e-01: : 43it [00:00, 164.83it/s]\n"
          ]
        },
        {
          "output_type": "stream",
          "name": "stdout",
          "text": [
            "Accuracy of Validation set: 0.718266253869969\n",
            "\n",
            " ------------------------------------------------------------\n"
          ]
        },
        {
          "output_type": "stream",
          "name": "stderr",
          "text": [
            "13: Train Loss: 3.845e-01: : 172it [00:01, 135.32it/s]\n"
          ]
        },
        {
          "output_type": "stream",
          "name": "stdout",
          "text": [
            "Accuracy of Train set: 0.8971954106720087\n"
          ]
        },
        {
          "output_type": "stream",
          "name": "stderr",
          "text": [
            "13: Validation Loss: 4.011e-01: : 43it [00:00, 163.31it/s]\n"
          ]
        },
        {
          "output_type": "stream",
          "name": "stdout",
          "text": [
            "Accuracy of Validation set: 0.8890912402112547\n",
            "\n",
            " ------------------------------------------------------------\n"
          ]
        },
        {
          "output_type": "stream",
          "name": "stderr",
          "text": [
            "14: Train Loss: 3.353e-01: : 172it [00:01, 129.22it/s]\n"
          ]
        },
        {
          "output_type": "stream",
          "name": "stdout",
          "text": [
            "Accuracy of Train set: 0.9122655254052086\n"
          ]
        },
        {
          "output_type": "stream",
          "name": "stderr",
          "text": [
            "14: Validation Loss: 3.220e-01: : 43it [00:00, 163.66it/s]\n"
          ]
        },
        {
          "output_type": "stream",
          "name": "stdout",
          "text": [
            "Accuracy of Validation set: 0.9003824439992716\n",
            "\n",
            " ------------------------------------------------------------\n"
          ]
        },
        {
          "output_type": "stream",
          "name": "stderr",
          "text": [
            "15: Train Loss: 2.803e-01: : 172it [00:01, 129.80it/s]\n"
          ]
        },
        {
          "output_type": "stream",
          "name": "stdout",
          "text": [
            "Accuracy of Train set: 0.9325259515570934\n"
          ]
        },
        {
          "output_type": "stream",
          "name": "stderr",
          "text": [
            "15: Validation Loss: 2.606e-01: : 43it [00:00, 155.94it/s]\n"
          ]
        },
        {
          "output_type": "stream",
          "name": "stdout",
          "text": [
            "Accuracy of Validation set: 0.9318885448916409\n",
            "\n",
            " ------------------------------------------------------------\n"
          ]
        },
        {
          "output_type": "stream",
          "name": "stderr",
          "text": [
            "16: Train Loss: 3.006e-01: : 172it [00:01, 126.11it/s]\n"
          ]
        },
        {
          "output_type": "stream",
          "name": "stdout",
          "text": [
            "Accuracy of Train set: 0.927153523948279\n"
          ]
        },
        {
          "output_type": "stream",
          "name": "stderr",
          "text": [
            "16: Validation Loss: 2.553e-01: : 43it [00:00, 161.65it/s]\n"
          ]
        },
        {
          "output_type": "stream",
          "name": "stdout",
          "text": [
            "Accuracy of Validation set: 0.9369877982152613\n",
            "\n",
            " ------------------------------------------------------------\n"
          ]
        },
        {
          "output_type": "stream",
          "name": "stderr",
          "text": [
            "17: Train Loss: 2.061e-01: : 172it [00:01, 126.27it/s]\n"
          ]
        },
        {
          "output_type": "stream",
          "name": "stdout",
          "text": [
            "Accuracy of Train set: 0.9577945729375341\n"
          ]
        },
        {
          "output_type": "stream",
          "name": "stderr",
          "text": [
            "17: Validation Loss: 3.812e-01: : 43it [00:00, 150.53it/s]\n"
          ]
        },
        {
          "output_type": "stream",
          "name": "stdout",
          "text": [
            "Accuracy of Validation set: 0.8708796211983245\n",
            "\n",
            " ------------------------------------------------------------\n"
          ]
        },
        {
          "output_type": "stream",
          "name": "stderr",
          "text": [
            "18: Train Loss: 3.891e-01: : 172it [00:01, 121.64it/s]\n"
          ]
        },
        {
          "output_type": "stream",
          "name": "stdout",
          "text": [
            "Accuracy of Train set: 0.9150427973046804\n"
          ]
        },
        {
          "output_type": "stream",
          "name": "stderr",
          "text": [
            "18: Validation Loss: 1.947e-01: : 43it [00:00, 144.23it/s]\n"
          ]
        },
        {
          "output_type": "stream",
          "name": "stdout",
          "text": [
            "Accuracy of Validation set: 0.9661263886359497\n",
            "\n",
            " ------------------------------------------------------------\n"
          ]
        },
        {
          "output_type": "stream",
          "name": "stderr",
          "text": [
            "19: Train Loss: 1.653e-01: : 172it [00:01, 118.11it/s]\n"
          ]
        },
        {
          "output_type": "stream",
          "name": "stdout",
          "text": [
            "Accuracy of Train set: 0.9704061191039883\n"
          ]
        },
        {
          "output_type": "stream",
          "name": "stderr",
          "text": [
            "19: Validation Loss: 2.585e-01: : 43it [00:00, 160.40it/s]\n"
          ]
        },
        {
          "output_type": "stream",
          "name": "stdout",
          "text": [
            "Accuracy of Validation set: 0.9335275906028045\n",
            "\n",
            " ------------------------------------------------------------\n"
          ]
        },
        {
          "output_type": "stream",
          "name": "stderr",
          "text": [
            "20: Train Loss: 2.295e-01: : 172it [00:01, 127.02it/s]\n"
          ]
        },
        {
          "output_type": "stream",
          "name": "stdout",
          "text": [
            "Accuracy of Train set: 0.9554725915133856\n"
          ]
        },
        {
          "output_type": "stream",
          "name": "stderr",
          "text": [
            "20: Validation Loss: 1.537e-01: : 43it [00:00, 162.62it/s]\n"
          ]
        },
        {
          "output_type": "stream",
          "name": "stdout",
          "text": [
            "Accuracy of Validation set: 0.9735931524312511\n",
            "\n",
            " ------------------------------------------------------------\n"
          ]
        },
        {
          "output_type": "stream",
          "name": "stderr",
          "text": [
            "21: Train Loss: 1.280e-01: : 172it [00:01, 123.56it/s]\n"
          ]
        },
        {
          "output_type": "stream",
          "name": "stdout",
          "text": [
            "Accuracy of Train set: 0.980149335275906\n"
          ]
        },
        {
          "output_type": "stream",
          "name": "stderr",
          "text": [
            "21: Validation Loss: 1.220e-01: : 43it [00:00, 160.29it/s]\n"
          ]
        },
        {
          "output_type": "stream",
          "name": "stdout",
          "text": [
            "Accuracy of Validation set: 0.9816062647969405\n",
            "\n",
            " ------------------------------------------------------------\n"
          ]
        },
        {
          "output_type": "stream",
          "name": "stderr",
          "text": [
            "22: Train Loss: 1.455e-01: : 172it [00:01, 122.09it/s]\n"
          ]
        },
        {
          "output_type": "stream",
          "name": "stdout",
          "text": [
            "Accuracy of Train set: 0.9738663267164451\n"
          ]
        },
        {
          "output_type": "stream",
          "name": "stderr",
          "text": [
            "22: Validation Loss: 1.075e-01: : 43it [00:00, 157.23it/s]\n"
          ]
        },
        {
          "output_type": "stream",
          "name": "stdout",
          "text": [
            "Accuracy of Validation set: 0.9857949371699144\n",
            "\n",
            " ------------------------------------------------------------\n"
          ]
        },
        {
          "output_type": "stream",
          "name": "stderr",
          "text": [
            "23: Train Loss: 9.205e-02: : 172it [00:01, 118.56it/s]\n"
          ]
        },
        {
          "output_type": "stream",
          "name": "stdout",
          "text": [
            "Accuracy of Train set: 0.9911673647787288\n"
          ]
        },
        {
          "output_type": "stream",
          "name": "stderr",
          "text": [
            "23: Validation Loss: 7.918e-02: : 43it [00:00, 101.09it/s]\n"
          ]
        },
        {
          "output_type": "stream",
          "name": "stdout",
          "text": [
            "Accuracy of Validation set: 0.9970861409579311\n",
            "\n",
            " ------------------------------------------------------------\n"
          ]
        },
        {
          "output_type": "stream",
          "name": "stderr",
          "text": [
            "24: Train Loss: 8.227e-02: : 172it [00:02, 80.33it/s]\n"
          ]
        },
        {
          "output_type": "stream",
          "name": "stdout",
          "text": [
            "Accuracy of Train set: 0.9931706428701511\n"
          ]
        },
        {
          "output_type": "stream",
          "name": "stderr",
          "text": [
            "24: Validation Loss: 8.654e-02: : 43it [00:00, 97.54it/s] \n"
          ]
        },
        {
          "output_type": "stream",
          "name": "stdout",
          "text": [
            "Accuracy of Validation set: 0.99216900382444\n",
            "\n",
            " ------------------------------------------------------------\n"
          ]
        },
        {
          "output_type": "display_data",
          "data": {
            "text/plain": [
              "<Figure size 432x288 with 1 Axes>"
            ],
            "image/png": "[encoded data removed]"
          },
          "metadata": {
            "needs_background": "light"
          }
        },
        {
          "output_type": "display_data",
          "data": {
            "text/plain": [
              "<Figure size 432x288 with 1 Axes>"
            ],
            "image/png": "[encoded data removed]"
          },
          "metadata": {
            "needs_background": "light"
          }
        }
      ],
      "source": [
        "train_losses.clear()\n",
        "val_losses.clear()\n",
        "train_accuracies.clear()\n",
        "val_accuracies.clear()\n",
        "\n",
        "# Training config\n",
        "lr = 0.001\n",
        "model = HandLettersDetector(layers_inputs).to(device)\n",
        "criterion = nn.CrossEntropyLoss()\n",
        "optimizer = optim.SGD(model.parameters(), lr=lr)\n",
        "model, min_val_loss = train_model(model, [train_loader, val_loader], 25, criterion, optimizer)"
      ],
      "metadata": {
        "pycharm": {
          "name": "#%%\n"
        },
        "colab": {
          "base_uri": "https://localhost:8080/",
          "height": 1000
        },
        "id": "0WeA23Md-jXj",
        "outputId": "35c11896-cc7f-4f28-edc4-4f5091788fde"
      }
    },
    {
      "cell_type": "code",
      "execution_count": 23,
      "outputs": [
        {
          "output_type": "execute_result",
          "data": {
            "text/plain": [
              "0.07917511907879869"
            ]
          },
          "metadata": {},
          "execution_count": 23
        }
      ],
      "source": [
        "min_val_loss"
      ],
      "metadata": {
        "pycharm": {
          "name": "#%%\n"
        },
        "colab": {
          "base_uri": "https://localhost:8080/"
        },
        "id": "7hvTZq5b-jXk",
        "outputId": "b55a61d2-30ca-491b-a0b3-489b105792cd"
      }
    },
    {
      "cell_type": "code",
      "execution_count": 24,
      "outputs": [
        {
          "output_type": "stream",
          "name": "stderr",
          "text": [
            ": Test Loss: 8.192e-01: : 57it [00:00, 114.21it/s]"
          ]
        },
        {
          "output_type": "stream",
          "name": "stdout",
          "text": [
            "Accuracy of Test set: 0.7571109871723368\n"
          ]
        },
        {
          "output_type": "stream",
          "name": "stderr",
          "text": [
            "\n"
          ]
        }
      ],
      "source": [
        "test_loss, test_acc = one_epoch(model, test_loader, criterion, train=False, set_name='Test')"
      ],
      "metadata": {
        "pycharm": {
          "name": "#%%\n"
        },
        "colab": {
          "base_uri": "https://localhost:8080/"
        },
        "id": "5zqzZd1G-jXk",
        "outputId": "18aa272d-62fd-4d77-fe44-4bcbd430d1b0"
      }
    },
    {
      "cell_type": "markdown",
      "source": [
        "Training with Adam:"
      ],
      "metadata": {
        "collapsed": false,
        "pycharm": {
          "name": "#%% md\n"
        },
        "id": "2fUdz1Sa-jXk"
      }
    },
    {
      "cell_type": "code",
      "execution_count": 25,
      "outputs": [
        {
          "output_type": "stream",
          "name": "stderr",
          "text": [
            "0: Train Loss: 2.488e+00: : 172it [00:02, 73.10it/s]\n"
          ]
        },
        {
          "output_type": "stream",
          "name": "stdout",
          "text": [
            "Accuracy of Train set: 0.27335640138408307\n"
          ]
        },
        {
          "output_type": "stream",
          "name": "stderr",
          "text": [
            "0: Validation Loss: 1.784e+00: : 43it [00:00, 117.39it/s]\n"
          ]
        },
        {
          "output_type": "stream",
          "name": "stdout",
          "text": [
            "Accuracy of Validation set: 0.4591149153159716\n",
            "\n",
            " ------------------------------------------------------------\n"
          ]
        },
        {
          "output_type": "stream",
          "name": "stderr",
          "text": [
            "1: Train Loss: 1.373e+00: : 172it [00:02, 67.78it/s]\n"
          ]
        },
        {
          "output_type": "stream",
          "name": "stdout",
          "text": [
            "Accuracy of Train set: 0.5896466945911492\n"
          ]
        },
        {
          "output_type": "stream",
          "name": "stderr",
          "text": [
            "1: Validation Loss: 1.005e+00: : 43it [00:00, 91.61it/s]\n"
          ]
        },
        {
          "output_type": "stream",
          "name": "stdout",
          "text": [
            "Accuracy of Validation set: 0.7066108177016936\n",
            "\n",
            " ------------------------------------------------------------\n"
          ]
        },
        {
          "output_type": "stream",
          "name": "stderr",
          "text": [
            "2: Train Loss: 8.634e-01: : 172it [00:02, 66.67it/s]\n"
          ]
        },
        {
          "output_type": "stream",
          "name": "stdout",
          "text": [
            "Accuracy of Train set: 0.748178838098707\n"
          ]
        },
        {
          "output_type": "stream",
          "name": "stderr",
          "text": [
            "2: Validation Loss: 7.361e-01: : 43it [00:00, 103.46it/s]\n"
          ]
        },
        {
          "output_type": "stream",
          "name": "stdout",
          "text": [
            "Accuracy of Validation set: 0.7741759242396649\n",
            "\n",
            " ------------------------------------------------------------\n"
          ]
        },
        {
          "output_type": "stream",
          "name": "stderr",
          "text": [
            "3: Train Loss: 5.995e-01: : 172it [00:02, 74.17it/s]\n"
          ]
        },
        {
          "output_type": "stream",
          "name": "stdout",
          "text": [
            "Accuracy of Train set: 0.8292205427062466\n"
          ]
        },
        {
          "output_type": "stream",
          "name": "stderr",
          "text": [
            "3: Validation Loss: 4.985e-01: : 43it [00:00, 159.99it/s]\n"
          ]
        },
        {
          "output_type": "stream",
          "name": "stdout",
          "text": [
            "Accuracy of Validation set: 0.8685121107266436\n",
            "\n",
            " ------------------------------------------------------------\n"
          ]
        },
        {
          "output_type": "stream",
          "name": "stderr",
          "text": [
            "4: Train Loss: 4.420e-01: : 172it [00:01, 116.29it/s]\n"
          ]
        },
        {
          "output_type": "stream",
          "name": "stdout",
          "text": [
            "Accuracy of Train set: 0.8737024221453287\n"
          ]
        },
        {
          "output_type": "stream",
          "name": "stderr",
          "text": [
            "4: Validation Loss: 3.953e-01: : 43it [00:00, 163.64it/s]\n"
          ]
        },
        {
          "output_type": "stream",
          "name": "stdout",
          "text": [
            "Accuracy of Validation set: 0.8930977963940995\n",
            "\n",
            " ------------------------------------------------------------\n"
          ]
        },
        {
          "output_type": "stream",
          "name": "stderr",
          "text": [
            "5: Train Loss: 2.834e-01: : 172it [00:01, 119.22it/s]\n"
          ]
        },
        {
          "output_type": "stream",
          "name": "stdout",
          "text": [
            "Accuracy of Train set: 0.9327080677472227\n"
          ]
        },
        {
          "output_type": "stream",
          "name": "stderr",
          "text": [
            "5: Validation Loss: 2.418e-01: : 43it [00:00, 166.53it/s]\n"
          ]
        },
        {
          "output_type": "stream",
          "name": "stdout",
          "text": [
            "Accuracy of Validation set: 0.9406301220178473\n",
            "\n",
            " ------------------------------------------------------------\n"
          ]
        },
        {
          "output_type": "stream",
          "name": "stderr",
          "text": [
            "6: Train Loss: 1.850e-01: : 172it [00:01, 116.34it/s]\n"
          ]
        },
        {
          "output_type": "stream",
          "name": "stdout",
          "text": [
            "Accuracy of Train set: 0.9635767619741396\n"
          ]
        },
        {
          "output_type": "stream",
          "name": "stderr",
          "text": [
            "6: Validation Loss: 1.553e-01: : 43it [00:00, 170.84it/s]\n"
          ]
        },
        {
          "output_type": "stream",
          "name": "stdout",
          "text": [
            "Accuracy of Validation set: 0.9712256419595702\n",
            "\n",
            " ------------------------------------------------------------\n"
          ]
        },
        {
          "output_type": "stream",
          "name": "stderr",
          "text": [
            "7: Train Loss: 1.431e-01: : 172it [00:01, 116.94it/s]\n"
          ]
        },
        {
          "output_type": "stream",
          "name": "stdout",
          "text": [
            "Accuracy of Train set: 0.9725459843380077\n"
          ]
        },
        {
          "output_type": "stream",
          "name": "stderr",
          "text": [
            "7: Validation Loss: 1.022e-01: : 43it [00:00, 153.88it/s]\n"
          ]
        },
        {
          "output_type": "stream",
          "name": "stdout",
          "text": [
            "Accuracy of Validation set: 0.9912584228737935\n",
            "\n",
            " ------------------------------------------------------------\n"
          ]
        },
        {
          "output_type": "stream",
          "name": "stderr",
          "text": [
            "8: Train Loss: 9.460e-02: : 172it [00:01, 116.88it/s]\n"
          ]
        },
        {
          "output_type": "stream",
          "name": "stdout",
          "text": [
            "Accuracy of Train set: 0.9877071571662721\n"
          ]
        },
        {
          "output_type": "stream",
          "name": "stderr",
          "text": [
            "8: Validation Loss: 5.962e-02: : 43it [00:00, 164.10it/s]\n"
          ]
        },
        {
          "output_type": "stream",
          "name": "stdout",
          "text": [
            "Accuracy of Validation set: 0.998178838098707\n",
            "\n",
            " ------------------------------------------------------------\n"
          ]
        },
        {
          "output_type": "stream",
          "name": "stderr",
          "text": [
            "9: Train Loss: 6.127e-02: : 172it [00:01, 115.67it/s]\n"
          ]
        },
        {
          "output_type": "stream",
          "name": "stdout",
          "text": [
            "Accuracy of Train set: 0.9951283919140411\n"
          ]
        },
        {
          "output_type": "stream",
          "name": "stderr",
          "text": [
            "9: Validation Loss: 5.607e-02: : 43it [00:00, 163.28it/s]\n"
          ]
        },
        {
          "output_type": "stream",
          "name": "stdout",
          "text": [
            "Accuracy of Validation set: 0.9967219085776725\n",
            "\n",
            " ------------------------------------------------------------\n"
          ]
        },
        {
          "output_type": "stream",
          "name": "stderr",
          "text": [
            "10: Train Loss: 4.080e-02: : 172it [00:01, 114.68it/s]\n"
          ]
        },
        {
          "output_type": "stream",
          "name": "stdout",
          "text": [
            "Accuracy of Train set: 0.9982243671462393\n"
          ]
        },
        {
          "output_type": "stream",
          "name": "stderr",
          "text": [
            "10: Validation Loss: 3.728e-02: : 43it [00:00, 159.46it/s]\n"
          ]
        },
        {
          "output_type": "stream",
          "name": "stdout",
          "text": [
            "Accuracy of Validation set: 0.9978146057184484\n",
            "\n",
            " ------------------------------------------------------------\n"
          ]
        },
        {
          "output_type": "stream",
          "name": "stderr",
          "text": [
            "11: Train Loss: 3.210e-02: : 172it [00:01, 117.16it/s]\n"
          ]
        },
        {
          "output_type": "stream",
          "name": "stdout",
          "text": [
            "Accuracy of Train set: 0.9981333090511747\n"
          ]
        },
        {
          "output_type": "stream",
          "name": "stderr",
          "text": [
            "11: Validation Loss: 2.282e-02: : 43it [00:00, 158.64it/s]\n"
          ]
        },
        {
          "output_type": "stream",
          "name": "stdout",
          "text": [
            "Accuracy of Validation set: 0.9990894190493534\n",
            "\n",
            " ------------------------------------------------------------\n"
          ]
        },
        {
          "output_type": "stream",
          "name": "stderr",
          "text": [
            "12: Train Loss: 1.879e-02: : 172it [00:01, 114.14it/s]\n"
          ]
        },
        {
          "output_type": "stream",
          "name": "stdout",
          "text": [
            "Accuracy of Train set: 0.9999089419049354\n"
          ]
        },
        {
          "output_type": "stream",
          "name": "stderr",
          "text": [
            "12: Validation Loss: 1.834e-02: : 43it [00:00, 165.04it/s]\n"
          ]
        },
        {
          "output_type": "stream",
          "name": "stdout",
          "text": [
            "Accuracy of Validation set: 0.9996357676197414\n",
            "\n",
            " ------------------------------------------------------------\n"
          ]
        },
        {
          "output_type": "stream",
          "name": "stderr",
          "text": [
            "13: Train Loss: 3.813e-02: : 172it [00:01, 114.14it/s]\n"
          ]
        },
        {
          "output_type": "stream",
          "name": "stdout",
          "text": [
            "Accuracy of Train set: 0.9944909852485886\n"
          ]
        },
        {
          "output_type": "stream",
          "name": "stderr",
          "text": [
            "13: Validation Loss: 2.234e-02: : 43it [00:00, 157.56it/s]\n"
          ]
        },
        {
          "output_type": "stream",
          "name": "stdout",
          "text": [
            "Accuracy of Validation set: 0.9990894190493534\n",
            "\n",
            " ------------------------------------------------------------\n"
          ]
        },
        {
          "output_type": "stream",
          "name": "stderr",
          "text": [
            "14: Train Loss: 1.128e-02: : 172it [00:01, 99.74it/s]\n"
          ]
        },
        {
          "output_type": "stream",
          "name": "stdout",
          "text": [
            "Accuracy of Train set: 0.9998178838098707\n"
          ]
        },
        {
          "output_type": "stream",
          "name": "stderr",
          "text": [
            "14: Validation Loss: 9.384e-03: : 43it [00:00, 141.05it/s]\n"
          ]
        },
        {
          "output_type": "stream",
          "name": "stdout",
          "text": [
            "Accuracy of Validation set: 1.0\n",
            "\n",
            " ------------------------------------------------------------\n"
          ]
        },
        {
          "output_type": "stream",
          "name": "stderr",
          "text": [
            "15: Train Loss: 8.418e-03: : 172it [00:01, 106.69it/s]\n"
          ]
        },
        {
          "output_type": "stream",
          "name": "stdout",
          "text": [
            "Accuracy of Train set: 0.9999544709524677\n"
          ]
        },
        {
          "output_type": "stream",
          "name": "stderr",
          "text": [
            "15: Validation Loss: 9.707e-03: : 43it [00:00, 161.91it/s]\n"
          ]
        },
        {
          "output_type": "stream",
          "name": "stdout",
          "text": [
            "Accuracy of Validation set: 1.0\n",
            "\n",
            " ------------------------------------------------------------\n"
          ]
        },
        {
          "output_type": "stream",
          "name": "stderr",
          "text": [
            "16: Train Loss: 7.120e-03: : 172it [00:01, 115.29it/s]\n"
          ]
        },
        {
          "output_type": "stream",
          "name": "stdout",
          "text": [
            "Accuracy of Train set: 1.0\n"
          ]
        },
        {
          "output_type": "stream",
          "name": "stderr",
          "text": [
            "16: Validation Loss: 7.881e-03: : 43it [00:00, 162.70it/s]\n"
          ]
        },
        {
          "output_type": "stream",
          "name": "stdout",
          "text": [
            "Accuracy of Validation set: 1.0\n",
            "\n",
            " ------------------------------------------------------------\n"
          ]
        },
        {
          "output_type": "stream",
          "name": "stderr",
          "text": [
            "17: Train Loss: 5.892e-03: : 172it [00:01, 114.64it/s]\n"
          ]
        },
        {
          "output_type": "stream",
          "name": "stdout",
          "text": [
            "Accuracy of Train set: 1.0\n"
          ]
        },
        {
          "output_type": "stream",
          "name": "stderr",
          "text": [
            "17: Validation Loss: 7.659e-03: : 43it [00:00, 163.88it/s]\n"
          ]
        },
        {
          "output_type": "stream",
          "name": "stdout",
          "text": [
            "Accuracy of Validation set: 1.0\n",
            "\n",
            " ------------------------------------------------------------\n"
          ]
        },
        {
          "output_type": "stream",
          "name": "stderr",
          "text": [
            "18: Train Loss: 4.760e-03: : 172it [00:01, 114.57it/s]\n"
          ]
        },
        {
          "output_type": "stream",
          "name": "stdout",
          "text": [
            "Accuracy of Train set: 1.0\n"
          ]
        },
        {
          "output_type": "stream",
          "name": "stderr",
          "text": [
            "18: Validation Loss: 4.530e-03: : 43it [00:00, 161.88it/s]\n"
          ]
        },
        {
          "output_type": "stream",
          "name": "stdout",
          "text": [
            "Accuracy of Validation set: 1.0\n",
            "\n",
            " ------------------------------------------------------------\n"
          ]
        },
        {
          "output_type": "stream",
          "name": "stderr",
          "text": [
            "19: Train Loss: 4.470e-03: : 172it [00:01, 115.24it/s]\n"
          ]
        },
        {
          "output_type": "stream",
          "name": "stdout",
          "text": [
            "Accuracy of Train set: 1.0\n"
          ]
        },
        {
          "output_type": "stream",
          "name": "stderr",
          "text": [
            "19: Validation Loss: 3.618e-03: : 43it [00:00, 158.91it/s]\n"
          ]
        },
        {
          "output_type": "stream",
          "name": "stdout",
          "text": [
            "Accuracy of Validation set: 1.0\n",
            "\n",
            " ------------------------------------------------------------\n"
          ]
        },
        {
          "output_type": "stream",
          "name": "stderr",
          "text": [
            "20: Train Loss: 3.213e-03: : 172it [00:01, 114.88it/s]\n"
          ]
        },
        {
          "output_type": "stream",
          "name": "stdout",
          "text": [
            "Accuracy of Train set: 1.0\n"
          ]
        },
        {
          "output_type": "stream",
          "name": "stderr",
          "text": [
            "20: Validation Loss: 2.925e-03: : 43it [00:00, 154.47it/s]\n"
          ]
        },
        {
          "output_type": "stream",
          "name": "stdout",
          "text": [
            "Accuracy of Validation set: 1.0\n",
            "\n",
            " ------------------------------------------------------------\n"
          ]
        },
        {
          "output_type": "stream",
          "name": "stderr",
          "text": [
            "21: Train Loss: 2.613e-03: : 172it [00:01, 113.86it/s]\n"
          ]
        },
        {
          "output_type": "stream",
          "name": "stdout",
          "text": [
            "Accuracy of Train set: 1.0\n"
          ]
        },
        {
          "output_type": "stream",
          "name": "stderr",
          "text": [
            "21: Validation Loss: 2.872e-03: : 43it [00:00, 156.42it/s]\n"
          ]
        },
        {
          "output_type": "stream",
          "name": "stdout",
          "text": [
            "Accuracy of Validation set: 1.0\n",
            "\n",
            " ------------------------------------------------------------\n"
          ]
        },
        {
          "output_type": "stream",
          "name": "stderr",
          "text": [
            "22: Train Loss: 2.751e-03: : 172it [00:01, 112.77it/s]\n"
          ]
        },
        {
          "output_type": "stream",
          "name": "stdout",
          "text": [
            "Accuracy of Train set: 1.0\n"
          ]
        },
        {
          "output_type": "stream",
          "name": "stderr",
          "text": [
            "22: Validation Loss: 2.468e-03: : 43it [00:00, 159.15it/s]\n"
          ]
        },
        {
          "output_type": "stream",
          "name": "stdout",
          "text": [
            "Accuracy of Validation set: 1.0\n",
            "\n",
            " ------------------------------------------------------------\n"
          ]
        },
        {
          "output_type": "stream",
          "name": "stderr",
          "text": [
            "23: Train Loss: 1.924e-03: : 172it [00:01, 112.62it/s]\n"
          ]
        },
        {
          "output_type": "stream",
          "name": "stdout",
          "text": [
            "Accuracy of Train set: 1.0\n"
          ]
        },
        {
          "output_type": "stream",
          "name": "stderr",
          "text": [
            "23: Validation Loss: 1.869e-03: : 43it [00:00, 158.81it/s]\n"
          ]
        },
        {
          "output_type": "stream",
          "name": "stdout",
          "text": [
            "Accuracy of Validation set: 1.0\n",
            "\n",
            " ------------------------------------------------------------\n"
          ]
        },
        {
          "output_type": "stream",
          "name": "stderr",
          "text": [
            "24: Train Loss: 4.125e-01: : 172it [00:01, 112.13it/s]\n"
          ]
        },
        {
          "output_type": "stream",
          "name": "stdout",
          "text": [
            "Accuracy of Train set: 0.8935530868694227\n"
          ]
        },
        {
          "output_type": "stream",
          "name": "stderr",
          "text": [
            "24: Validation Loss: 1.816e-01: : 43it [00:00, 155.39it/s]\n"
          ]
        },
        {
          "output_type": "stream",
          "name": "stdout",
          "text": [
            "Accuracy of Validation set: 0.9484611181934074\n",
            "\n",
            " ------------------------------------------------------------\n"
          ]
        },
        {
          "output_type": "display_data",
          "data": {
            "text/plain": [
              "<Figure size 432x288 with 1 Axes>"
            ],
            "image/png": "[encoded data removed]"
          },
          "metadata": {
            "needs_background": "light"
          }
        },
        {
          "output_type": "display_data",
          "data": {
            "text/plain": [
              "<Figure size 432x288 with 1 Axes>"
            ],
            "image/png": "[encoded data removed]"
          },
          "metadata": {
            "needs_background": "light"
          }
        }
      ],
      "source": [
        "train_losses.clear()\n",
        "val_losses.clear()\n",
        "train_accuracies.clear()\n",
        "val_accuracies.clear()\n",
        "\n",
        "# Training config\n",
        "lr = 0.0001\n",
        "model = HandLettersDetector(layers_inputs).to(device)\n",
        "criterion = nn.CrossEntropyLoss()\n",
        "optimizer = optim.Adam(model.parameters(), lr=lr)\n",
        "model, min_val_loss = train_model(model, [train_loader, val_loader], 25, criterion, optimizer)"
      ],
      "metadata": {
        "pycharm": {
          "name": "#%%\n"
        },
        "colab": {
          "base_uri": "https://localhost:8080/",
          "height": 1000
        },
        "id": "d4T2UNWo-jXk",
        "outputId": "67bcfb67-5aa7-4313-a059-52a4f9548a6e"
      }
    },
    {
      "cell_type": "code",
      "execution_count": 26,
      "outputs": [
        {
          "output_type": "execute_result",
          "data": {
            "text/plain": [
              "0.0018694544905748138"
            ]
          },
          "metadata": {},
          "execution_count": 26
        }
      ],
      "source": [
        "min_val_loss"
      ],
      "metadata": {
        "pycharm": {
          "name": "#%%\n"
        },
        "colab": {
          "base_uri": "https://localhost:8080/"
        },
        "id": "xZVAPmEz-jXk",
        "outputId": "fb920bc1-2f8b-41f8-82ae-ba3cf6b5e6f5"
      }
    },
    {
      "cell_type": "code",
      "execution_count": 27,
      "outputs": [
        {
          "output_type": "stream",
          "name": "stderr",
          "text": [
            ": Test Loss: 1.181e+00: : 57it [00:00, 135.47it/s]"
          ]
        },
        {
          "output_type": "stream",
          "name": "stdout",
          "text": [
            "Accuracy of Test set: 0.7783045175683212\n"
          ]
        },
        {
          "output_type": "stream",
          "name": "stderr",
          "text": [
            "\n"
          ]
        }
      ],
      "source": [
        "test_loss, test_acc = one_epoch(model, test_loader, criterion, train=False, set_name='Test')"
      ],
      "metadata": {
        "pycharm": {
          "name": "#%%\n"
        },
        "colab": {
          "base_uri": "https://localhost:8080/"
        },
        "id": "0yeawByi-jXk",
        "outputId": "a8bc869e-66c2-49e7-b71a-450418ff65c6"
      }
    },
    {
      "cell_type": "markdown",
      "source": [
        "Training with Dropout:"
      ],
      "metadata": {
        "collapsed": false,
        "pycharm": {
          "name": "#%% md\n"
        },
        "id": "13lDKe3N-jXl"
      }
    },
    {
      "cell_type": "code",
      "execution_count": 28,
      "outputs": [
        {
          "output_type": "stream",
          "name": "stderr",
          "text": [
            "0: Train Loss: 3.388e+00: : 172it [00:01, 116.19it/s]\n"
          ]
        },
        {
          "output_type": "stream",
          "name": "stdout",
          "text": [
            "Accuracy of Train set: 0.057047896558004005\n"
          ]
        },
        {
          "output_type": "stream",
          "name": "stderr",
          "text": [
            "0: Validation Loss: 3.096e+00: : 43it [00:00, 167.78it/s]\n"
          ]
        },
        {
          "output_type": "stream",
          "name": "stdout",
          "text": [
            "Accuracy of Validation set: 0.11801129120378802\n",
            "\n",
            " ------------------------------------------------------------\n"
          ]
        },
        {
          "output_type": "stream",
          "name": "stderr",
          "text": [
            "1: Train Loss: 3.009e+00: : 172it [00:02, 74.18it/s]\n"
          ]
        },
        {
          "output_type": "stream",
          "name": "stdout",
          "text": [
            "Accuracy of Train set: 0.11414132216354034\n"
          ]
        },
        {
          "output_type": "stream",
          "name": "stderr",
          "text": [
            "1: Validation Loss: 2.662e+00: : 43it [00:00, 165.24it/s]\n"
          ]
        },
        {
          "output_type": "stream",
          "name": "stdout",
          "text": [
            "Accuracy of Validation set: 0.2724458204334365\n",
            "\n",
            " ------------------------------------------------------------\n"
          ]
        },
        {
          "output_type": "stream",
          "name": "stderr",
          "text": [
            "2: Train Loss: 2.603e+00: : 172it [00:01, 113.07it/s]\n"
          ]
        },
        {
          "output_type": "stream",
          "name": "stdout",
          "text": [
            "Accuracy of Train set: 0.20711163722454926\n"
          ]
        },
        {
          "output_type": "stream",
          "name": "stderr",
          "text": [
            "2: Validation Loss: 2.093e+00: : 43it [00:00, 163.20it/s]\n"
          ]
        },
        {
          "output_type": "stream",
          "name": "stdout",
          "text": [
            "Accuracy of Validation set: 0.3813513021307594\n",
            "\n",
            " ------------------------------------------------------------\n"
          ]
        },
        {
          "output_type": "stream",
          "name": "stderr",
          "text": [
            "3: Train Loss: 2.242e+00: : 172it [00:01, 113.92it/s]\n"
          ]
        },
        {
          "output_type": "stream",
          "name": "stdout",
          "text": [
            "Accuracy of Train set: 0.2869240575487161\n"
          ]
        },
        {
          "output_type": "stream",
          "name": "stderr",
          "text": [
            "3: Validation Loss: 1.736e+00: : 43it [00:00, 169.04it/s]\n"
          ]
        },
        {
          "output_type": "stream",
          "name": "stdout",
          "text": [
            "Accuracy of Validation set: 0.4946275723911856\n",
            "\n",
            " ------------------------------------------------------------\n"
          ]
        },
        {
          "output_type": "stream",
          "name": "stderr",
          "text": [
            "4: Train Loss: 1.962e+00: : 172it [00:01, 114.03it/s]\n"
          ]
        },
        {
          "output_type": "stream",
          "name": "stdout",
          "text": [
            "Accuracy of Train set: 0.36081770169368055\n"
          ]
        },
        {
          "output_type": "stream",
          "name": "stderr",
          "text": [
            "4: Validation Loss: 1.383e+00: : 43it [00:00, 171.73it/s]\n"
          ]
        },
        {
          "output_type": "stream",
          "name": "stdout",
          "text": [
            "Accuracy of Validation set: 0.5927881988708796\n",
            "\n",
            " ------------------------------------------------------------\n"
          ]
        },
        {
          "output_type": "stream",
          "name": "stderr",
          "text": [
            "5: Train Loss: 1.723e+00: : 172it [00:01, 112.78it/s]\n"
          ]
        },
        {
          "output_type": "stream",
          "name": "stdout",
          "text": [
            "Accuracy of Train set: 0.4319796029867055\n"
          ]
        },
        {
          "output_type": "stream",
          "name": "stderr",
          "text": [
            "5: Validation Loss: 1.165e+00: : 43it [00:00, 145.48it/s]\n"
          ]
        },
        {
          "output_type": "stream",
          "name": "stdout",
          "text": [
            "Accuracy of Validation set: 0.6674558368238936\n",
            "\n",
            " ------------------------------------------------------------\n"
          ]
        },
        {
          "output_type": "stream",
          "name": "stderr",
          "text": [
            "6: Train Loss: 1.527e+00: : 172it [00:01, 107.52it/s]\n"
          ]
        },
        {
          "output_type": "stream",
          "name": "stdout",
          "text": [
            "Accuracy of Train set: 0.4943088690584593\n"
          ]
        },
        {
          "output_type": "stream",
          "name": "stderr",
          "text": [
            "6: Validation Loss: 9.973e-01: : 43it [00:00, 159.35it/s]\n"
          ]
        },
        {
          "output_type": "stream",
          "name": "stdout",
          "text": [
            "Accuracy of Validation set: 0.6951374977235476\n",
            "\n",
            " ------------------------------------------------------------\n"
          ]
        },
        {
          "output_type": "stream",
          "name": "stderr",
          "text": [
            "7: Train Loss: 1.357e+00: : 172it [00:01, 108.57it/s]\n"
          ]
        },
        {
          "output_type": "stream",
          "name": "stdout",
          "text": [
            "Accuracy of Train set: 0.5497177199052996\n"
          ]
        },
        {
          "output_type": "stream",
          "name": "stderr",
          "text": [
            "7: Validation Loss: 8.588e-01: : 43it [00:00, 157.81it/s]\n"
          ]
        },
        {
          "output_type": "stream",
          "name": "stdout",
          "text": [
            "Accuracy of Validation set: 0.7559643052267346\n",
            "\n",
            " ------------------------------------------------------------\n"
          ]
        },
        {
          "output_type": "stream",
          "name": "stderr",
          "text": [
            "8: Train Loss: 1.235e+00: : 172it [00:01, 111.90it/s]\n"
          ]
        },
        {
          "output_type": "stream",
          "name": "stdout",
          "text": [
            "Accuracy of Train set: 0.5871881260244036\n"
          ]
        },
        {
          "output_type": "stream",
          "name": "stderr",
          "text": [
            "8: Validation Loss: 7.277e-01: : 43it [00:00, 165.23it/s]\n"
          ]
        },
        {
          "output_type": "stream",
          "name": "stdout",
          "text": [
            "Accuracy of Validation set: 0.7869240575487161\n",
            "\n",
            " ------------------------------------------------------------\n"
          ]
        },
        {
          "output_type": "stream",
          "name": "stderr",
          "text": [
            "9: Train Loss: 1.100e+00: : 172it [00:01, 111.44it/s]\n"
          ]
        },
        {
          "output_type": "stream",
          "name": "stdout",
          "text": [
            "Accuracy of Train set: 0.6242942997632489\n"
          ]
        },
        {
          "output_type": "stream",
          "name": "stderr",
          "text": [
            "9: Validation Loss: 6.510e-01: : 43it [00:00, 149.80it/s]\n"
          ]
        },
        {
          "output_type": "stream",
          "name": "stdout",
          "text": [
            "Accuracy of Validation set: 0.8209797851028956\n",
            "\n",
            " ------------------------------------------------------------\n"
          ]
        },
        {
          "output_type": "stream",
          "name": "stderr",
          "text": [
            "10: Train Loss: 1.007e+00: : 172it [00:01, 111.15it/s]\n"
          ]
        },
        {
          "output_type": "stream",
          "name": "stdout",
          "text": [
            "Accuracy of Train set: 0.6559825168457476\n"
          ]
        },
        {
          "output_type": "stream",
          "name": "stderr",
          "text": [
            "10: Validation Loss: 5.798e-01: : 43it [00:00, 157.82it/s]\n"
          ]
        },
        {
          "output_type": "stream",
          "name": "stdout",
          "text": [
            "Accuracy of Validation set: 0.8419231469677654\n",
            "\n",
            " ------------------------------------------------------------\n"
          ]
        },
        {
          "output_type": "stream",
          "name": "stderr",
          "text": [
            "11: Train Loss: 9.086e-01: : 172it [00:01, 109.56it/s]\n"
          ]
        },
        {
          "output_type": "stream",
          "name": "stdout",
          "text": [
            "Accuracy of Train set: 0.6876707339282462\n"
          ]
        },
        {
          "output_type": "stream",
          "name": "stderr",
          "text": [
            "11: Validation Loss: 4.822e-01: : 43it [00:00, 161.44it/s]\n"
          ]
        },
        {
          "output_type": "stream",
          "name": "stdout",
          "text": [
            "Accuracy of Validation set: 0.8743398288107813\n",
            "\n",
            " ------------------------------------------------------------\n"
          ]
        },
        {
          "output_type": "stream",
          "name": "stderr",
          "text": [
            "12: Train Loss: 8.266e-01: : 172it [00:01, 106.00it/s]\n"
          ]
        },
        {
          "output_type": "stream",
          "name": "stdout",
          "text": [
            "Accuracy of Train set: 0.7143962848297214\n"
          ]
        },
        {
          "output_type": "stream",
          "name": "stderr",
          "text": [
            "12: Validation Loss: 3.902e-01: : 43it [00:00, 145.88it/s]\n"
          ]
        },
        {
          "output_type": "stream",
          "name": "stdout",
          "text": [
            "Accuracy of Validation set: 0.8905481697322892\n",
            "\n",
            " ------------------------------------------------------------\n"
          ]
        },
        {
          "output_type": "stream",
          "name": "stderr",
          "text": [
            "13: Train Loss: 7.448e-01: : 172it [00:01, 95.07it/s]\n"
          ]
        },
        {
          "output_type": "stream",
          "name": "stdout",
          "text": [
            "Accuracy of Train set: 0.7467219085776725\n"
          ]
        },
        {
          "output_type": "stream",
          "name": "stderr",
          "text": [
            "13: Validation Loss: 3.768e-01: : 43it [00:00, 130.56it/s]\n"
          ]
        },
        {
          "output_type": "stream",
          "name": "stdout",
          "text": [
            "Accuracy of Validation set: 0.9062101620834092\n",
            "\n",
            " ------------------------------------------------------------\n"
          ]
        },
        {
          "output_type": "stream",
          "name": "stderr",
          "text": [
            "14: Train Loss: 7.093e-01: : 172it [00:01, 113.24it/s]\n"
          ]
        },
        {
          "output_type": "stream",
          "name": "stdout",
          "text": [
            "Accuracy of Train set: 0.756419595702058\n"
          ]
        },
        {
          "output_type": "stream",
          "name": "stderr",
          "text": [
            "14: Validation Loss: 3.212e-01: : 43it [00:00, 163.61it/s]\n"
          ]
        },
        {
          "output_type": "stream",
          "name": "stdout",
          "text": [
            "Accuracy of Validation set: 0.9298852668002185\n",
            "\n",
            " ------------------------------------------------------------\n"
          ]
        },
        {
          "output_type": "stream",
          "name": "stderr",
          "text": [
            "15: Train Loss: 6.414e-01: : 172it [00:01, 113.47it/s]\n"
          ]
        },
        {
          "output_type": "stream",
          "name": "stdout",
          "text": [
            "Accuracy of Train set: 0.7754052085230377\n"
          ]
        },
        {
          "output_type": "stream",
          "name": "stderr",
          "text": [
            "15: Validation Loss: 2.774e-01: : 43it [00:00, 152.55it/s]\n"
          ]
        },
        {
          "output_type": "stream",
          "name": "stdout",
          "text": [
            "Accuracy of Validation set: 0.9338918229830632\n",
            "\n",
            " ------------------------------------------------------------\n"
          ]
        },
        {
          "output_type": "stream",
          "name": "stderr",
          "text": [
            "16: Train Loss: 6.096e-01: : 172it [00:01, 111.30it/s]\n"
          ]
        },
        {
          "output_type": "stream",
          "name": "stdout",
          "text": [
            "Accuracy of Train set: 0.7900655618284466\n"
          ]
        },
        {
          "output_type": "stream",
          "name": "stderr",
          "text": [
            "16: Validation Loss: 2.259e-01: : 43it [00:00, 159.81it/s]\n"
          ]
        },
        {
          "output_type": "stream",
          "name": "stdout",
          "text": [
            "Accuracy of Validation set: 0.9471863048625023\n",
            "\n",
            " ------------------------------------------------------------\n"
          ]
        },
        {
          "output_type": "stream",
          "name": "stderr",
          "text": [
            "17: Train Loss: 5.667e-01: : 172it [00:01, 95.34it/s]\n"
          ]
        },
        {
          "output_type": "stream",
          "name": "stdout",
          "text": [
            "Accuracy of Train set: 0.8054088508468403\n"
          ]
        },
        {
          "output_type": "stream",
          "name": "stderr",
          "text": [
            "17: Validation Loss: 2.139e-01: : 43it [00:00, 129.87it/s]\n"
          ]
        },
        {
          "output_type": "stream",
          "name": "stdout",
          "text": [
            "Accuracy of Validation set: 0.9537424877071572\n",
            "\n",
            " ------------------------------------------------------------\n"
          ]
        },
        {
          "output_type": "stream",
          "name": "stderr",
          "text": [
            "18: Train Loss: 5.073e-01: : 172it [00:02, 77.35it/s]\n"
          ]
        },
        {
          "output_type": "stream",
          "name": "stdout",
          "text": [
            "Accuracy of Train set: 0.8270351484246949\n"
          ]
        },
        {
          "output_type": "stream",
          "name": "stderr",
          "text": [
            "18: Validation Loss: 1.893e-01: : 43it [00:00, 158.72it/s]\n"
          ]
        },
        {
          "output_type": "stream",
          "name": "stdout",
          "text": [
            "Accuracy of Validation set: 0.952467674376252\n",
            "\n",
            " ------------------------------------------------------------\n"
          ]
        },
        {
          "output_type": "stream",
          "name": "stderr",
          "text": [
            "19: Train Loss: 4.828e-01: : 172it [00:01, 111.82it/s]\n"
          ]
        },
        {
          "output_type": "stream",
          "name": "stdout",
          "text": [
            "Accuracy of Train set: 0.8336823893644145\n"
          ]
        },
        {
          "output_type": "stream",
          "name": "stderr",
          "text": [
            "19: Validation Loss: 1.526e-01: : 43it [00:00, 161.41it/s]\n"
          ]
        },
        {
          "output_type": "stream",
          "name": "stdout",
          "text": [
            "Accuracy of Validation set: 0.9721362229102167\n",
            "\n",
            " ------------------------------------------------------------\n"
          ]
        },
        {
          "output_type": "stream",
          "name": "stderr",
          "text": [
            "20: Train Loss: 4.511e-01: : 172it [00:01, 111.23it/s]\n"
          ]
        },
        {
          "output_type": "stream",
          "name": "stdout",
          "text": [
            "Accuracy of Train set: 0.8479329812420324\n"
          ]
        },
        {
          "output_type": "stream",
          "name": "stderr",
          "text": [
            "20: Validation Loss: 1.498e-01: : 43it [00:00, 160.74it/s]\n"
          ]
        },
        {
          "output_type": "stream",
          "name": "stdout",
          "text": [
            "Accuracy of Validation set: 0.9686760152977599\n",
            "\n",
            " ------------------------------------------------------------\n"
          ]
        },
        {
          "output_type": "stream",
          "name": "stderr",
          "text": [
            "21: Train Loss: 4.019e-01: : 172it [00:01, 106.18it/s]\n"
          ]
        },
        {
          "output_type": "stream",
          "name": "stdout",
          "text": [
            "Accuracy of Train set: 0.8642323802586049\n"
          ]
        },
        {
          "output_type": "stream",
          "name": "stderr",
          "text": [
            "21: Validation Loss: 1.251e-01: : 43it [00:00, 157.38it/s]\n"
          ]
        },
        {
          "output_type": "stream",
          "name": "stdout",
          "text": [
            "Accuracy of Validation set: 0.9739573848115097\n",
            "\n",
            " ------------------------------------------------------------\n"
          ]
        },
        {
          "output_type": "stream",
          "name": "stderr",
          "text": [
            "22: Train Loss: 4.059e-01: : 172it [00:01, 111.17it/s]\n"
          ]
        },
        {
          "output_type": "stream",
          "name": "stdout",
          "text": [
            "Accuracy of Train set: 0.8628665088326353\n"
          ]
        },
        {
          "output_type": "stream",
          "name": "stderr",
          "text": [
            "22: Validation Loss: 1.301e-01: : 43it [00:00, 158.87it/s]\n"
          ]
        },
        {
          "output_type": "stream",
          "name": "stdout",
          "text": [
            "Accuracy of Validation set: 0.9732289200509925\n",
            "\n",
            " ------------------------------------------------------------\n"
          ]
        },
        {
          "output_type": "stream",
          "name": "stderr",
          "text": [
            "23: Train Loss: 3.693e-01: : 172it [00:01, 109.04it/s]\n"
          ]
        },
        {
          "output_type": "stream",
          "name": "stdout",
          "text": [
            "Accuracy of Train set: 0.8761609907120743\n"
          ]
        },
        {
          "output_type": "stream",
          "name": "stderr",
          "text": [
            "23: Validation Loss: 9.353e-02: : 43it [00:00, 156.35it/s]\n"
          ]
        },
        {
          "output_type": "stream",
          "name": "stdout",
          "text": [
            "Accuracy of Validation set: 0.9863412857403023\n",
            "\n",
            " ------------------------------------------------------------\n"
          ]
        },
        {
          "output_type": "stream",
          "name": "stderr",
          "text": [
            "24: Train Loss: 3.382e-01: : 172it [00:01, 111.64it/s]\n"
          ]
        },
        {
          "output_type": "stream",
          "name": "stdout",
          "text": [
            "Accuracy of Train set: 0.8854033873611364\n"
          ]
        },
        {
          "output_type": "stream",
          "name": "stderr",
          "text": [
            "24: Validation Loss: 8.367e-02: : 43it [00:00, 158.89it/s]\n"
          ]
        },
        {
          "output_type": "stream",
          "name": "stdout",
          "text": [
            "Accuracy of Validation set: 0.9874339828810781\n",
            "\n",
            " ------------------------------------------------------------\n"
          ]
        },
        {
          "output_type": "stream",
          "name": "stderr",
          "text": [
            "25: Train Loss: 3.224e-01: : 172it [00:01, 111.56it/s]\n"
          ]
        },
        {
          "output_type": "stream",
          "name": "stdout",
          "text": [
            "Accuracy of Train set: 0.8911855763977418\n"
          ]
        },
        {
          "output_type": "stream",
          "name": "stderr",
          "text": [
            "25: Validation Loss: 7.632e-02: : 43it [00:00, 158.00it/s]\n"
          ]
        },
        {
          "output_type": "stream",
          "name": "stdout",
          "text": [
            "Accuracy of Validation set: 0.9874339828810781\n",
            "\n",
            " ------------------------------------------------------------\n"
          ]
        },
        {
          "output_type": "stream",
          "name": "stderr",
          "text": [
            "26: Train Loss: 3.083e-01: : 172it [00:01, 111.30it/s]\n"
          ]
        },
        {
          "output_type": "stream",
          "name": "stdout",
          "text": [
            "Accuracy of Train set: 0.8984246949553816\n"
          ]
        },
        {
          "output_type": "stream",
          "name": "stderr",
          "text": [
            "26: Validation Loss: 6.897e-02: : 43it [00:00, 159.31it/s]\n"
          ]
        },
        {
          "output_type": "stream",
          "name": "stdout",
          "text": [
            "Accuracy of Validation set: 0.9908941904935349\n",
            "\n",
            " ------------------------------------------------------------\n"
          ]
        },
        {
          "output_type": "stream",
          "name": "stderr",
          "text": [
            "27: Train Loss: 3.036e-01: : 172it [00:01, 110.99it/s]\n"
          ]
        },
        {
          "output_type": "stream",
          "name": "stdout",
          "text": [
            "Accuracy of Train set: 0.8981970497177199\n"
          ]
        },
        {
          "output_type": "stream",
          "name": "stderr",
          "text": [
            "27: Validation Loss: 7.034e-02: : 43it [00:00, 148.98it/s]\n"
          ]
        },
        {
          "output_type": "stream",
          "name": "stdout",
          "text": [
            "Accuracy of Validation set: 0.9876160990712074\n",
            "\n",
            " ------------------------------------------------------------\n"
          ]
        },
        {
          "output_type": "stream",
          "name": "stderr",
          "text": [
            "28: Train Loss: 2.915e-01: : 172it [00:01, 109.55it/s]\n"
          ]
        },
        {
          "output_type": "stream",
          "name": "stdout",
          "text": [
            "Accuracy of Train set: 0.9052540520852304\n"
          ]
        },
        {
          "output_type": "stream",
          "name": "stderr",
          "text": [
            "28: Validation Loss: 5.369e-02: : 43it [00:00, 153.51it/s]\n"
          ]
        },
        {
          "output_type": "stream",
          "name": "stdout",
          "text": [
            "Accuracy of Validation set: 0.9907120743034056\n",
            "\n",
            " ------------------------------------------------------------\n"
          ]
        },
        {
          "output_type": "stream",
          "name": "stderr",
          "text": [
            "29: Train Loss: 2.682e-01: : 172it [00:01, 109.45it/s]\n"
          ]
        },
        {
          "output_type": "stream",
          "name": "stdout",
          "text": [
            "Accuracy of Train set: 0.9124021125478055\n"
          ]
        },
        {
          "output_type": "stream",
          "name": "stderr",
          "text": [
            "29: Validation Loss: 5.426e-02: : 43it [00:00, 156.45it/s]\n"
          ]
        },
        {
          "output_type": "stream",
          "name": "stdout",
          "text": [
            "Accuracy of Validation set: 0.9899836095428883\n",
            "\n",
            " ------------------------------------------------------------\n"
          ]
        },
        {
          "output_type": "stream",
          "name": "stderr",
          "text": [
            "30: Train Loss: 2.405e-01: : 172it [00:01, 109.99it/s]\n"
          ]
        },
        {
          "output_type": "stream",
          "name": "stdout",
          "text": [
            "Accuracy of Train set: 0.9223729739573848\n"
          ]
        },
        {
          "output_type": "stream",
          "name": "stderr",
          "text": [
            "30: Validation Loss: 4.132e-02: : 43it [00:00, 162.46it/s]\n"
          ]
        },
        {
          "output_type": "stream",
          "name": "stdout",
          "text": [
            "Accuracy of Validation set: 0.9943543981059916\n",
            "\n",
            " ------------------------------------------------------------\n"
          ]
        },
        {
          "output_type": "stream",
          "name": "stderr",
          "text": [
            "31: Train Loss: 2.365e-01: : 172it [00:01, 111.63it/s]\n"
          ]
        },
        {
          "output_type": "stream",
          "name": "stdout",
          "text": [
            "Accuracy of Train set: 0.9223274449098525\n"
          ]
        },
        {
          "output_type": "stream",
          "name": "stderr",
          "text": [
            "31: Validation Loss: 4.743e-02: : 43it [00:00, 154.03it/s]\n"
          ]
        },
        {
          "output_type": "stream",
          "name": "stdout",
          "text": [
            "Accuracy of Validation set: 0.9899836095428883\n",
            "\n",
            " ------------------------------------------------------------\n"
          ]
        },
        {
          "output_type": "stream",
          "name": "stderr",
          "text": [
            "32: Train Loss: 2.198e-01: : 172it [00:01, 108.36it/s]\n"
          ]
        },
        {
          "output_type": "stream",
          "name": "stdout",
          "text": [
            "Accuracy of Train set: 0.9275632853760699\n"
          ]
        },
        {
          "output_type": "stream",
          "name": "stderr",
          "text": [
            "32: Validation Loss: 4.820e-02: : 43it [00:00, 145.63it/s]\n"
          ]
        },
        {
          "output_type": "stream",
          "name": "stdout",
          "text": [
            "Accuracy of Validation set: 0.9908941904935349\n",
            "\n",
            " ------------------------------------------------------------\n"
          ]
        },
        {
          "output_type": "stream",
          "name": "stderr",
          "text": [
            "33: Train Loss: 2.161e-01: : 172it [00:01, 109.04it/s]\n"
          ]
        },
        {
          "output_type": "stream",
          "name": "stdout",
          "text": [
            "Accuracy of Train set: 0.9285649244217811\n"
          ]
        },
        {
          "output_type": "stream",
          "name": "stderr",
          "text": [
            "33: Validation Loss: 4.840e-02: : 43it [00:00, 153.60it/s]\n"
          ]
        },
        {
          "output_type": "stream",
          "name": "stdout",
          "text": [
            "Accuracy of Validation set: 0.9910763066836642\n",
            "\n",
            " ------------------------------------------------------------\n"
          ]
        },
        {
          "output_type": "stream",
          "name": "stderr",
          "text": [
            "34: Train Loss: 2.057e-01: : 172it [00:01, 106.59it/s]\n"
          ]
        },
        {
          "output_type": "stream",
          "name": "stdout",
          "text": [
            "Accuracy of Train set: 0.9337097067929339\n"
          ]
        },
        {
          "output_type": "stream",
          "name": "stderr",
          "text": [
            "34: Validation Loss: 3.064e-02: : 43it [00:00, 152.16it/s]\n"
          ]
        },
        {
          "output_type": "stream",
          "name": "stdout",
          "text": [
            "Accuracy of Validation set: 0.9941722819158623\n",
            "\n",
            " ------------------------------------------------------------\n"
          ]
        },
        {
          "output_type": "stream",
          "name": "stderr",
          "text": [
            "35: Train Loss: 1.959e-01: : 172it [00:01, 107.80it/s]\n"
          ]
        },
        {
          "output_type": "stream",
          "name": "stdout",
          "text": [
            "Accuracy of Train set: 0.9380349663085048\n"
          ]
        },
        {
          "output_type": "stream",
          "name": "stderr",
          "text": [
            "35: Validation Loss: 2.419e-02: : 43it [00:00, 156.01it/s]\n"
          ]
        },
        {
          "output_type": "stream",
          "name": "stdout",
          "text": [
            "Accuracy of Validation set: 0.998178838098707\n",
            "\n",
            " ------------------------------------------------------------\n"
          ]
        },
        {
          "output_type": "stream",
          "name": "stderr",
          "text": [
            "36: Train Loss: 1.813e-01: : 172it [00:01, 94.49it/s]\n"
          ]
        },
        {
          "output_type": "stream",
          "name": "stdout",
          "text": [
            "Accuracy of Train set: 0.9422236386814787\n"
          ]
        },
        {
          "output_type": "stream",
          "name": "stderr",
          "text": [
            "36: Validation Loss: 2.611e-02: : 43it [00:00, 145.73it/s]\n"
          ]
        },
        {
          "output_type": "stream",
          "name": "stdout",
          "text": [
            "Accuracy of Validation set: 0.9974503733381898\n",
            "\n",
            " ------------------------------------------------------------\n"
          ]
        },
        {
          "output_type": "stream",
          "name": "stderr",
          "text": [
            "37: Train Loss: 1.965e-01: : 172it [00:01, 97.37it/s] \n"
          ]
        },
        {
          "output_type": "stream",
          "name": "stdout",
          "text": [
            "Accuracy of Train set: 0.9383991986887634\n"
          ]
        },
        {
          "output_type": "stream",
          "name": "stderr",
          "text": [
            "37: Validation Loss: 2.238e-02: : 43it [00:00, 153.10it/s]\n"
          ]
        },
        {
          "output_type": "stream",
          "name": "stdout",
          "text": [
            "Accuracy of Validation set: 0.9965397923875432\n",
            "\n",
            " ------------------------------------------------------------\n"
          ]
        },
        {
          "output_type": "stream",
          "name": "stderr",
          "text": [
            "38: Train Loss: 1.885e-01: : 172it [00:01, 105.73it/s]\n"
          ]
        },
        {
          "output_type": "stream",
          "name": "stdout",
          "text": [
            "Accuracy of Train set: 0.9400837734474595\n"
          ]
        },
        {
          "output_type": "stream",
          "name": "stderr",
          "text": [
            "38: Validation Loss: 3.570e-02: : 43it [00:00, 150.74it/s]\n"
          ]
        },
        {
          "output_type": "stream",
          "name": "stdout",
          "text": [
            "Accuracy of Validation set: 0.9892551447823712\n",
            "\n",
            " ------------------------------------------------------------\n"
          ]
        },
        {
          "output_type": "stream",
          "name": "stderr",
          "text": [
            "39: Train Loss: 1.692e-01: : 172it [00:01, 109.80it/s]\n"
          ]
        },
        {
          "output_type": "stream",
          "name": "stdout",
          "text": [
            "Accuracy of Train set: 0.9472318339100346\n"
          ]
        },
        {
          "output_type": "stream",
          "name": "stderr",
          "text": [
            "39: Validation Loss: 1.934e-02: : 43it [00:00, 154.76it/s]\n"
          ]
        },
        {
          "output_type": "stream",
          "name": "stdout",
          "text": [
            "Accuracy of Validation set: 0.998178838098707\n",
            "\n",
            " ------------------------------------------------------------\n"
          ]
        },
        {
          "output_type": "stream",
          "name": "stderr",
          "text": [
            "40: Train Loss: 1.590e-01: : 172it [00:01, 108.05it/s]\n"
          ]
        },
        {
          "output_type": "stream",
          "name": "stdout",
          "text": [
            "Accuracy of Train set: 0.9510107448552176\n"
          ]
        },
        {
          "output_type": "stream",
          "name": "stderr",
          "text": [
            "40: Validation Loss: 1.540e-02: : 43it [00:00, 141.75it/s]\n"
          ]
        },
        {
          "output_type": "stream",
          "name": "stdout",
          "text": [
            "Accuracy of Validation set: 0.9989073028592241\n",
            "\n",
            " ------------------------------------------------------------\n"
          ]
        },
        {
          "output_type": "stream",
          "name": "stderr",
          "text": [
            "41: Train Loss: 1.738e-01: : 172it [00:01, 108.54it/s]\n"
          ]
        },
        {
          "output_type": "stream",
          "name": "stdout",
          "text": [
            "Accuracy of Train set: 0.9456383172464032\n"
          ]
        },
        {
          "output_type": "stream",
          "name": "stderr",
          "text": [
            "41: Validation Loss: 2.750e-02: : 43it [00:00, 158.58it/s]\n"
          ]
        },
        {
          "output_type": "stream",
          "name": "stdout",
          "text": [
            "Accuracy of Validation set: 0.9938080495356038\n",
            "\n",
            " ------------------------------------------------------------\n"
          ]
        },
        {
          "output_type": "stream",
          "name": "stderr",
          "text": [
            "42: Train Loss: 1.813e-01: : 172it [00:01, 107.27it/s]\n"
          ]
        },
        {
          "output_type": "stream",
          "name": "stdout",
          "text": [
            "Accuracy of Train set: 0.9421325805864141\n"
          ]
        },
        {
          "output_type": "stream",
          "name": "stderr",
          "text": [
            "42: Validation Loss: 1.807e-02: : 43it [00:00, 148.74it/s]\n"
          ]
        },
        {
          "output_type": "stream",
          "name": "stdout",
          "text": [
            "Accuracy of Validation set: 0.9983609542888363\n",
            "\n",
            " ------------------------------------------------------------\n"
          ]
        },
        {
          "output_type": "stream",
          "name": "stderr",
          "text": [
            "43: Train Loss: 1.641e-01: : 172it [00:01, 108.70it/s]\n"
          ]
        },
        {
          "output_type": "stream",
          "name": "stdout",
          "text": [
            "Accuracy of Train set: 0.9473684210526315\n"
          ]
        },
        {
          "output_type": "stream",
          "name": "stderr",
          "text": [
            "43: Validation Loss: 1.989e-02: : 43it [00:00, 148.09it/s]\n"
          ]
        },
        {
          "output_type": "stream",
          "name": "stdout",
          "text": [
            "Accuracy of Validation set: 0.9979967219085777\n",
            "\n",
            " ------------------------------------------------------------\n"
          ]
        },
        {
          "output_type": "stream",
          "name": "stderr",
          "text": [
            "44: Train Loss: 1.636e-01: : 172it [00:01, 106.36it/s]\n"
          ]
        },
        {
          "output_type": "stream",
          "name": "stdout",
          "text": [
            "Accuracy of Train set: 0.9498269896193772\n"
          ]
        },
        {
          "output_type": "stream",
          "name": "stderr",
          "text": [
            "44: Validation Loss: 1.768e-02: : 43it [00:00, 150.76it/s]\n"
          ]
        },
        {
          "output_type": "stream",
          "name": "stdout",
          "text": [
            "Accuracy of Validation set: 0.9985430704789656\n",
            "\n",
            " ------------------------------------------------------------\n"
          ]
        },
        {
          "output_type": "stream",
          "name": "stderr",
          "text": [
            "45: Train Loss: 1.417e-01: : 172it [00:01, 103.50it/s]\n"
          ]
        },
        {
          "output_type": "stream",
          "name": "stdout",
          "text": [
            "Accuracy of Train set: 0.9560644691313058\n"
          ]
        },
        {
          "output_type": "stream",
          "name": "stderr",
          "text": [
            "45: Validation Loss: 9.976e-03: : 43it [00:00, 163.84it/s]\n"
          ]
        },
        {
          "output_type": "stream",
          "name": "stdout",
          "text": [
            "Accuracy of Validation set: 0.9994536514296121\n",
            "\n",
            " ------------------------------------------------------------\n"
          ]
        },
        {
          "output_type": "stream",
          "name": "stderr",
          "text": [
            "46: Train Loss: 1.447e-01: : 172it [00:01, 106.57it/s]\n"
          ]
        },
        {
          "output_type": "stream",
          "name": "stdout",
          "text": [
            "Accuracy of Train set: 0.9552904753232563\n"
          ]
        },
        {
          "output_type": "stream",
          "name": "stderr",
          "text": [
            "46: Validation Loss: 1.266e-02: : 43it [00:00, 160.63it/s]\n"
          ]
        },
        {
          "output_type": "stream",
          "name": "stdout",
          "text": [
            "Accuracy of Validation set: 0.9987251866690949\n",
            "\n",
            " ------------------------------------------------------------\n"
          ]
        },
        {
          "output_type": "stream",
          "name": "stderr",
          "text": [
            "47: Train Loss: 1.291e-01: : 172it [00:01, 109.22it/s]\n"
          ]
        },
        {
          "output_type": "stream",
          "name": "stdout",
          "text": [
            "Accuracy of Train set: 0.9595246767437625\n"
          ]
        },
        {
          "output_type": "stream",
          "name": "stderr",
          "text": [
            "47: Validation Loss: 1.289e-02: : 43it [00:00, 154.33it/s]\n"
          ]
        },
        {
          "output_type": "stream",
          "name": "stdout",
          "text": [
            "Accuracy of Validation set: 0.9998178838098707\n",
            "\n",
            " ------------------------------------------------------------\n"
          ]
        },
        {
          "output_type": "stream",
          "name": "stderr",
          "text": [
            "48: Train Loss: 1.439e-01: : 172it [00:01, 106.06it/s]\n"
          ]
        },
        {
          "output_type": "stream",
          "name": "stdout",
          "text": [
            "Accuracy of Train set: 0.9542433072300127\n"
          ]
        },
        {
          "output_type": "stream",
          "name": "stderr",
          "text": [
            "48: Validation Loss: 2.240e-02: : 43it [00:00, 149.73it/s]\n"
          ]
        },
        {
          "output_type": "stream",
          "name": "stdout",
          "text": [
            "Accuracy of Validation set: 0.9974503733381898\n",
            "\n",
            " ------------------------------------------------------------\n"
          ]
        },
        {
          "output_type": "stream",
          "name": "stderr",
          "text": [
            "49: Train Loss: 1.410e-01: : 172it [00:01, 104.53it/s]\n"
          ]
        },
        {
          "output_type": "stream",
          "name": "stdout",
          "text": [
            "Accuracy of Train set: 0.9578401019850665\n"
          ]
        },
        {
          "output_type": "stream",
          "name": "stderr",
          "text": [
            "49: Validation Loss: 3.395e-02: : 43it [00:00, 151.61it/s]\n"
          ]
        },
        {
          "output_type": "stream",
          "name": "stdout",
          "text": [
            "Accuracy of Validation set: 0.9896193771626297\n",
            "\n",
            " ------------------------------------------------------------\n"
          ]
        },
        {
          "output_type": "display_data",
          "data": {
            "text/plain": [
              "<Figure size 432x288 with 1 Axes>"
            ],
            "image/png": "[encoded data removed]"
          },
          "metadata": {
            "needs_background": "light"
          }
        },
        {
          "output_type": "display_data",
          "data": {
            "text/plain": [
              "<Figure size 432x288 with 1 Axes>"
            ],
            "image/png": "[encoded data removed]"
          },
          "metadata": {
            "needs_background": "light"
          }
        }
      ],
      "source": [
        "train_losses.clear()\n",
        "val_losses.clear()\n",
        "train_accuracies.clear()\n",
        "val_accuracies.clear()\n",
        "\n",
        "# Training config\n",
        "lr = 8e-5\n",
        "model = HandLettersDetector(layers_inputs, dropout=0.25).to(device)\n",
        "criterion = nn.CrossEntropyLoss()\n",
        "optimizer = optim.Adam(model.parameters(), lr=lr)\n",
        "model, min_val_loss = train_model(model, [train_loader, val_loader], 50, criterion, optimizer)"
      ],
      "metadata": {
        "pycharm": {
          "name": "#%%\n"
        },
        "colab": {
          "base_uri": "https://localhost:8080/",
          "height": 1000
        },
        "id": "rkmJ-nr4-jXl",
        "outputId": "5fccd2b0-eeae-4009-90d2-945e4058f099"
      }
    },
    {
      "cell_type": "code",
      "execution_count": 29,
      "outputs": [
        {
          "output_type": "execute_result",
          "data": {
            "text/plain": [
              "0.009975888150667985"
            ]
          },
          "metadata": {},
          "execution_count": 29
        }
      ],
      "source": [
        "min_val_loss"
      ],
      "metadata": {
        "pycharm": {
          "name": "#%%\n"
        },
        "colab": {
          "base_uri": "https://localhost:8080/"
        },
        "id": "trkxEGxk-jXl",
        "outputId": "2fb715b2-70e0-49e6-a57a-e19ac45c87c8"
      }
    },
    {
      "cell_type": "code",
      "execution_count": 30,
      "outputs": [
        {
          "output_type": "stream",
          "name": "stderr",
          "text": [
            ": Test Loss: 8.507e-01: : 57it [00:00, 177.55it/s]"
          ]
        },
        {
          "output_type": "stream",
          "name": "stdout",
          "text": [
            "Accuracy of Test set: 0.7992191857222533\n"
          ]
        },
        {
          "output_type": "stream",
          "name": "stderr",
          "text": [
            "\n"
          ]
        }
      ],
      "source": [
        "test_loss, test_acc = one_epoch(model, test_loader, criterion, train=False, set_name='Test')"
      ],
      "metadata": {
        "pycharm": {
          "name": "#%%\n"
        },
        "colab": {
          "base_uri": "https://localhost:8080/"
        },
        "id": "7uUQ2c0U-jXl",
        "outputId": "456bf329-6a1a-4bb8-f15a-0a78bd047258"
      }
    },
    {
      "cell_type": "code",
      "source": [
        "from PIL import Image\n",
        "from torchvision.transforms import ToTensor, Grayscale\n",
        "totensor = ToTensor()\n",
        "grayscale = Grayscale()"
      ],
      "metadata": {
        "id": "hOwc_ZgdGuYC"
      },
      "execution_count": 35,
      "outputs": []
    },
    {
      "cell_type": "code",
      "source": [
        "images = [f'HW2_data/test{i}.jpg' for i in range(1, 4)]\n",
        "for iamage_name in images:\n",
        "    img = grayscale(Image.open(iamage_name))\n",
        "    plt.imshow(img)\n",
        "    with torch.no_grad():\n",
        "        x = totensor(img).view(1, -1)\n",
        "        x = x.to(device)\n",
        "        p = model(x).cpu().numpy()\n",
        "        y = np.argmax(p)\n",
        "        plt.title(f'Letter {idx_to_letter[y]}')\n",
        "        plt.xticks([])\n",
        "        plt.yticks([])\n",
        "        plt.show()"
      ],
      "metadata": {
        "colab": {
          "base_uri": "https://localhost:8080/",
          "height": 770
        },
        "id": "pX7wmRzlHQLW",
        "outputId": "69452b27-5285-4f90-d84a-ed722fce8980"
      },
      "execution_count": 47,
      "outputs": [
        {
          "output_type": "display_data",
          "data": {
            "text/plain": [
              "<Figure size 432x288 with 1 Axes>"
            ],
            "image/png": "[encoded data removed]"
          },
          "metadata": {}
        },
        {
          "output_type": "display_data",
          "data": {
            "text/plain": [
              "<Figure size 432x288 with 1 Axes>"
            ],
            "image/png": "[encoded data removed]"
          },
          "metadata": {}
        },
        {
          "output_type": "display_data",
          "data": {
            "text/plain": [
              "<Figure size 432x288 with 1 Axes>"
            ],
            "image/png": "[encoded data removed]"
          },
          "metadata": {}
        }
      ]
    }
  ],
  "metadata": {
    "kernelspec": {
      "display_name": "Python 3",
      "language": "python",
      "name": "python3"
    },
    "language_info": {
      "codemirror_mode": {
        "name": "ipython",
        "version": 2
      },
      "file_extension": ".py",
      "mimetype": "text/x-python",
      "name": "python",
      "nbconvert_exporter": "python",
      "pygments_lexer": "ipython2",
      "version": "2.7.6"
    },
    "colab": {
      "provenance": []
    },
    "accelerator": "GPU",
    "gpuClass": "standard"
  },
  "nbformat": 4,
  "nbformat_minor": 0
}