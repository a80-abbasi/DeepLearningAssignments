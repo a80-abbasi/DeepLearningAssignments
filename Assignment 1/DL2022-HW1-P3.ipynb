{
 "cells": [
  {
   "cell_type": "markdown",
   "metadata": {
    "deletable": false,
    "editable": false,
    "heading_collapsed": true,
    "run_control": {
     "frozen": true
    },
    "pycharm": {
     "name": "#%% md\n"
    }
   },
   "source": [
    "# Deep Learning"
   ]
  },
  {
   "cell_type": "markdown",
   "metadata": {
    "deletable": false,
    "editable": false,
    "heading_collapsed": true,
    "hidden": true,
    "run_control": {
     "frozen": true
    },
    "pycharm": {
     "name": "#%% md\n"
    }
   },
   "source": [
    "## HW1- Problem 3 - Regression (100 pts)"
   ]
  },
  {
   "cell_type": "markdown",
   "metadata": {
    "heading_collapsed": true,
    "hidden": true,
    "pycharm": {
     "name": "#%% md\n"
    }
   },
   "source": [
    "### Please fill this part\n",
    "\n",
    "\n",
    "1.   Full Name: Ali Abbasi\n",
    "2.   Student Number: 98105879\n",
    "\n",
    "\n",
    "*You are just allowded to change those parts that start with \"TO DO\". Please do not change other parts.*\n",
    "\n",
    "*It is highly recommended to read each codeline carefully and try to understand what it exactly does. Best of luck and have fun!*"
   ]
  },
  {
   "cell_type": "code",
   "execution_count": 1,
   "metadata": {
    "hidden": true,
    "pycharm": {
     "name": "#%%\n"
    }
   },
   "outputs": [],
   "source": [
    "# You are not allowed to import other packages.\n",
    "\n",
    "import numpy as np\n",
    "import pandas as pd\n",
    "\n",
    "from matplotlib import pyplot as plt\n",
    "from sklearn.metrics import mean_squared_error"
   ]
  },
  {
   "cell_type": "markdown",
   "metadata": {
    "deletable": false,
    "editable": false,
    "heading_collapsed": true,
    "hidden": true,
    "run_control": {
     "frozen": true
    },
    "pycharm": {
     "name": "#%% md\n"
    }
   },
   "source": [
    "### Part1:\n",
    "Consider the dataset which has been given to you. Split the dataset into the `training dataset` and `test dataset`. You can use `80%` of the data for training and the rest for testing."
   ]
  },
  {
   "cell_type": "code",
   "execution_count": 2,
   "metadata": {
    "hidden": true,
    "pycharm": {
     "name": "#%%\n"
    }
   },
   "outputs": [],
   "source": [
    "dataset = pd.read_csv(\"./data/data01.csv\", index_col=0)\n",
    "\n",
    "# implement the split part\n",
    "# name them: x_train, x_test, y_train, y_test\n",
    "np.random.seed(25)\n",
    "dataset = dataset.sample(frac=1).reset_index(drop=True)\n",
    "train_ratio = 0.8\n",
    "train_len = int(train_ratio * len(dataset))\n",
    "train = dataset[:train_len]\n",
    "test = dataset[train_len:]\n",
    "x_train = train.X.to_numpy().reshape(-1, 1)\n",
    "y_train = train.Y.to_numpy()\n",
    "\n",
    "x_test = test.X.to_numpy().reshape(-1, 1)\n",
    "y_test = test.Y.to_numpy()"
   ]
  },
  {
   "cell_type": "markdown",
   "metadata": {
    "deletable": false,
    "editable": false,
    "heading_collapsed": true,
    "hidden": true,
    "run_control": {
     "frozen": true
    },
    "pycharm": {
     "name": "#%% md\n"
    }
   },
   "source": [
    "### Part2:\n",
    "Assume there is simple linear relationship between X and Y. Train a simple `Linear Regression` on the training dataset and report its accuracy on the training and testing dataset, separately."
   ]
  },
  {
   "cell_type": "code",
   "execution_count": 3,
   "metadata": {
    "hidden": true,
    "pycharm": {
     "name": "#%%\n"
    }
   },
   "outputs": [
    {
     "data": {
      "text/plain": "array([-0.98421784,  0.80771867])"
     },
     "execution_count": 3,
     "metadata": {},
     "output_type": "execute_result"
    }
   ],
   "source": [
    "# here you can implement via sgd or use least square solution. we suggest the second one inv(A^T A) * A^T y.\n",
    "# consider m as the returned line --> m[0] = the slope , m[1] = y intercept, also don't forget to use numpy for calculating m.\n",
    "A = np.concatenate([x_train, np.ones_like(x_train)], axis=1)\n",
    "m = np.linalg.inv(A.T @ A) @ A.T @ y_train\n",
    "m"
   ]
  },
  {
   "cell_type": "code",
   "execution_count": 4,
   "metadata": {
    "hidden": true,
    "pycharm": {
     "name": "#%%\n"
    }
   },
   "outputs": [
    {
     "name": "stdout",
     "output_type": "stream",
     "text": [
      "MSE train error: 0.33755001627406583\n",
      "MSE test error: 0.30808615332876665\n"
     ]
    }
   ],
   "source": [
    "predicted_train_y = m[0] * x_train + m[1]\n",
    "predicted_test_y = m[0] * x_test + m[1]\n",
    "\n",
    "train_error = mean_squared_error(y_train, predicted_train_y)\n",
    "test_error = mean_squared_error(y_test, predicted_test_y)\n",
    "\n",
    "print(f\"MSE train error: {train_error}\\nMSE test error: {test_error}\")"
   ]
  },
  {
   "cell_type": "markdown",
   "metadata": {
    "deletable": false,
    "editable": false,
    "heading_collapsed": true,
    "hidden": true,
    "run_control": {
     "frozen": true
    },
    "pycharm": {
     "name": "#%% md\n"
    }
   },
   "source": [
    "### Part3:\n",
    "Draw the line you've found in the last part, on train and test points (each separately)."
   ]
  },
  {
   "cell_type": "code",
   "execution_count": 5,
   "metadata": {
    "hidden": true,
    "pycharm": {
     "name": "#%%\n"
    }
   },
   "outputs": [
    {
     "data": {
      "text/plain": "Text(0.5, 1.0, 'Train dataset')"
     },
     "execution_count": 5,
     "metadata": {},
     "output_type": "execute_result"
    },
    {
     "data": {
      "text/plain": "<Figure size 432x288 with 1 Axes>",
      "image/png": "[encoded data removed]"
     },
     "metadata": {},
     "output_type": "display_data"
    }
   ],
   "source": [
    "plt.scatter(x_train, y_train)\n",
    "plt.scatter(x_train, m[0] * x_train + m[1], s=1)\n",
    "plt.title(\"Train dataset\")"
   ]
  },
  {
   "cell_type": "code",
   "execution_count": 6,
   "metadata": {
    "hidden": true,
    "pycharm": {
     "name": "#%%\n"
    }
   },
   "outputs": [
    {
     "data": {
      "text/plain": "Text(0.5, 1.0, 'Test dataset')"
     },
     "execution_count": 6,
     "metadata": {},
     "output_type": "execute_result"
    },
    {
     "data": {
      "text/plain": "<Figure size 432x288 with 1 Axes>",
      "image/png": "[encoded data removed]"
     },
     "metadata": {},
     "output_type": "display_data"
    }
   ],
   "source": [
    "plt.scatter(x_test, y_test)\n",
    "plt.scatter(x_test, m[0] * x_test + m[1], s=1)\n",
    "plt.title(\"Test dataset\")"
   ]
  },
  {
   "cell_type": "markdown",
   "metadata": {
    "deletable": false,
    "editable": false,
    "heading_collapsed": true,
    "hidden": true,
    "run_control": {
     "frozen": true
    },
    "pycharm": {
     "name": "#%% md\n"
    }
   },
   "source": [
    "### Part4:\n",
    "Were the reported accuracies acceptable?\n",
    "\n",
    "What about the line you drew in the last part?\n",
    "Was it appropriate for the dataset?\n",
    "<br><br/>\n",
    "Explain what are the main problems here."
   ]
  },
  {
   "cell_type": "markdown",
   "metadata": {
    "hidden": true,
    "pycharm": {
     "name": "#%% md\n"
    }
   },
   "source": [
    "1. Considering small values of `y_train` (between -2 and 2), 0.3 square error with true y on average is not a acceptable accuracy.\n",
    "2. No it wasn't! There is some sinusoidal (or higher degree polynomial) like behaviour in y-x plot which our simple linear model can't adapt to it.\n",
    "3. The main problem is strength of our model in estimating the function y=f(x). We supposed that f is a simple linear function. One good solution would be using higher order polynomial functions for finding relations between y and x.\n"
   ]
  },
  {
   "cell_type": "markdown",
   "metadata": {
    "deletable": false,
    "editable": false,
    "heading_collapsed": true,
    "hidden": true,
    "run_control": {
     "frozen": true
    },
    "pycharm": {
     "name": "#%% md\n"
    }
   },
   "source": [
    "### Part5:\n",
    "Now, consider the `Locally Weighted Linear Regression` approach for this problem. Do expect it performs better than simple `Linear Regression` for this dataset?"
   ]
  },
  {
   "cell_type": "markdown",
   "metadata": {
    "hidden": true,
    "pycharm": {
     "name": "#%% md\n"
    }
   },
   "source": [
    "Yes! Due to relatively large number of datapoints, this non-parametric method will perform well in the range of data we have."
   ]
  },
  {
   "cell_type": "markdown",
   "metadata": {
    "deletable": false,
    "editable": false,
    "heading_collapsed": true,
    "hidden": true,
    "run_control": {
     "frozen": true
    },
    "pycharm": {
     "name": "#%% md\n"
    }
   },
   "source": [
    "### Part6:\n",
    "Here, we want to implement the `suggested model`. You can implement any weight function you want, the below implementation is just a sample:\n",
    "<br><br/>\n",
    "\\begin{equation*}\n",
    "    w^{(i)}=exp\\left(-\\frac{(\\mathbf x^{(i)}-\\mathbf x)^\\top(\\mathbf x^{(i)}-\\mathbf x)}{2\\tau^2}\\right)\n",
    "\\end{equation*}"
   ]
  },
  {
   "cell_type": "code",
   "execution_count": 7,
   "metadata": {
    "hidden": true,
    "pycharm": {
     "name": "#%%\n"
    }
   },
   "outputs": [],
   "source": [
    "def dist2(X, Y):\n",
    "    sx = np.sum(X ** 2, axis=1, keepdims=True)\n",
    "    sy = np.sum(Y ** 2, axis=1, keepdims=True)\n",
    "    return -2 * X.dot(Y.T) + sx + sy.T\n",
    "\n",
    "\n",
    "def get_weight_matrix(query_x, X_train, scale):\n",
    "    n, d = X_train.shape\n",
    "    dists = dist2(np.reshape(query_x, (1, -1)), X_train)[0]\n",
    "    W = np.diag(np.exp(-dists / (2 * scale * scale)))\n",
    "    return W"
   ]
  },
  {
   "cell_type": "markdown",
   "metadata": {
    "deletable": false,
    "editable": false,
    "hidden": true,
    "run_control": {
     "frozen": true
    },
    "pycharm": {
     "name": "#%% md\n"
    }
   },
   "source": [
    "Now implement the `closed form solution` based on the following formula:\n",
    "<br><br/>\n",
    "\\begin{equation*}\n",
    "    \\boldsymbol\\theta=(X^\\top WX)^{-1}(X^\\top WY)\n",
    "\\end{equation*}\n",
    "<br><br/>\n",
    "Of course if you use another form, implement your own."
   ]
  },
  {
   "cell_type": "code",
   "execution_count": 8,
   "metadata": {
    "hidden": true,
    "pycharm": {
     "name": "#%%\n"
    }
   },
   "outputs": [],
   "source": [
    "def predict(train_X, train_Y, query_x, scale):\n",
    "    n, d = train_X.shape\n",
    "    X = np.hstack((train_X, np.ones((n, 1))))\n",
    "    qx = np.concatenate([query_x, [1]])\n",
    "    W = get_weight_matrix(qx, X, scale)\n",
    "\n",
    "    theta = np.linalg.inv(X.T @ W @ X) @ X.T @ W @ train_Y\n",
    "\n",
    "    return np.dot(qx, theta)"
   ]
  },
  {
   "cell_type": "markdown",
   "metadata": {
    "deletable": false,
    "editable": false,
    "heading_collapsed": true,
    "hidden": true,
    "run_control": {
     "frozen": true
    },
    "pycharm": {
     "name": "#%% md\n"
    }
   },
   "source": [
    "### Part7:\n",
    "Report accuracy of this model on the test dataset. Also, draw a plot that contains (x_test, y_test) pairs and (x_test, predicted_y) pairs that differ in color."
   ]
  },
  {
   "cell_type": "code",
   "execution_count": 9,
   "metadata": {
    "hidden": true,
    "pycharm": {
     "name": "#%%\n"
    }
   },
   "outputs": [
    {
     "name": "stdout",
     "output_type": "stream",
     "text": [
      "MSE test error: 0.07306713664853992\n"
     ]
    }
   ],
   "source": [
    "scale = 0.1\n",
    "predicted_test = [predict(x_train, y_train, query, scale) for query in x_test]\n",
    "error = mean_squared_error(y_test, predicted_test)\n",
    "print(f\"MSE test error: {error}\")"
   ]
  },
  {
   "cell_type": "code",
   "execution_count": 10,
   "metadata": {
    "hidden": true,
    "pycharm": {
     "name": "#%%\n"
    }
   },
   "outputs": [
    {
     "data": {
      "text/plain": "<matplotlib.collections.PathCollection at 0x21118ab0f40>"
     },
     "execution_count": 10,
     "metadata": {},
     "output_type": "execute_result"
    },
    {
     "data": {
      "text/plain": "<Figure size 432x288 with 1 Axes>",
      "image/png": "[encoded data removed]"
     },
     "metadata": {},
     "output_type": "display_data"
    }
   ],
   "source": [
    "plt.scatter(x_test, y_test, c=\"blue\")\n",
    "plt.scatter(x_test, predicted_test, c=\"yellow\")"
   ]
  },
  {
   "cell_type": "markdown",
   "metadata": {
    "deletable": false,
    "editable": false,
    "heading_collapsed": true,
    "hidden": true,
    "run_control": {
     "frozen": true
    },
    "pycharm": {
     "name": "#%% md\n"
    }
   },
   "source": [
    "### Part8:\n",
    "Is the performance of the new model better than the previous one? `Explain`."
   ]
  },
  {
   "cell_type": "markdown",
   "metadata": {
    "hidden": true,
    "pycharm": {
     "name": "#%% md\n"
    }
   },
   "source": [
    "Yes much better. There is a smooth curve predicting y values for test data with very good average error."
   ]
  },
  {
   "cell_type": "markdown",
   "metadata": {
    "deletable": false,
    "editable": false,
    "heading_collapsed": true,
    "hidden": true,
    "run_control": {
     "frozen": true
    },
    "pycharm": {
     "name": "#%% md\n"
    }
   },
   "source": [
    "### Part9:\n",
    "Now, we want to consider the `KNN` approach for this problem; Do you think it will perform well?"
   ]
  },
  {
   "cell_type": "markdown",
   "metadata": {
    "hidden": true,
    "pycharm": {
     "name": "#%% md\n"
    }
   },
   "source": [
    "It will perform well for xs in range of existing xs in our dataset."
   ]
  },
  {
   "cell_type": "markdown",
   "metadata": {
    "deletable": false,
    "editable": false,
    "heading_collapsed": true,
    "hidden": true,
    "run_control": {
     "frozen": true
    },
    "pycharm": {
     "name": "#%% md\n"
    }
   },
   "source": [
    "### Part10:\n",
    "Implementing the `KNN model`."
   ]
  },
  {
   "cell_type": "code",
   "execution_count": 11,
   "metadata": {
    "hidden": true,
    "pycharm": {
     "name": "#%%\n"
    }
   },
   "outputs": [],
   "source": [
    "class KNN:\n",
    "    def __init__(self, number_neighbours, X, Y):\n",
    "        self.k = number_neighbours\n",
    "        self.X = X\n",
    "        self.Y = Y\n",
    "\n",
    "    def distance(self, X1, X2):\n",
    "        # implement the distance function\n",
    "        return dist2(X1, X2)\n",
    "\n",
    "    def return_nn_ids(self, x):\n",
    "        dists = self.distance(np.reshape(x, (1, -1)), self.X)[0]\n",
    "        # find indices of k nearest neighbours to x\n",
    "        indices = np.argsort(dists)[:self.k]\n",
    "        return indices\n",
    "\n",
    "    def predict(self, x):\n",
    "        neareest_indices = self.return_nn_ids(x)\n",
    "        predicted_y = np.mean(self.Y[neareest_indices])\n",
    "        return predicted_y"
   ]
  },
  {
   "cell_type": "code",
   "execution_count": 12,
   "metadata": {
    "hidden": true,
    "pycharm": {
     "name": "#%%\n"
    }
   },
   "outputs": [],
   "source": [
    "def evaluation(k, x_train, y_train, x_test, y_test):\n",
    "    model = KNN(k, x_train, y_train)\n",
    "    predicted_y = [model.predict(x) for x in x_test]\n",
    "    error = mean_squared_error(y_test, predicted_y)\n",
    "    return error, predicted_y"
   ]
  },
  {
   "cell_type": "code",
   "execution_count": 13,
   "metadata": {
    "hidden": true,
    "pycharm": {
     "name": "#%%\n"
    }
   },
   "outputs": [
    {
     "name": "stdout",
     "output_type": "stream",
     "text": [
      "best k=7\n",
      "MSE error of KNN for test dataset: 0.07449446916396216\n"
     ]
    }
   ],
   "source": [
    "best_k = 1\n",
    "best_err = np.inf\n",
    "for k in np.random.randint(1, 20, size=10):\n",
    "    error_knn, _ = evaluation(k, x_train, y_train, x_test, y_test)\n",
    "    if error_knn < best_err:\n",
    "        best_k = k\n",
    "        best_err = error_knn\n",
    "print(f'best k={best_k}')\n",
    "error_knn, predicted_y = evaluation(best_k, x_train, y_train, x_test, y_test)\n",
    "print(f\"MSE error of KNN for test dataset: {error_knn}\")"
   ]
  },
  {
   "cell_type": "code",
   "execution_count": 14,
   "metadata": {
    "hidden": true,
    "pycharm": {
     "name": "#%%\n"
    }
   },
   "outputs": [
    {
     "data": {
      "text/plain": "<matplotlib.collections.PathCollection at 0x21118968df0>"
     },
     "execution_count": 14,
     "metadata": {},
     "output_type": "execute_result"
    },
    {
     "data": {
      "text/plain": "<Figure size 432x288 with 1 Axes>",
      "image/png": "[encoded data removed]"
     },
     "metadata": {},
     "output_type": "display_data"
    }
   ],
   "source": [
    "plt.scatter(x_test, y_test, c=\"blue\")\n",
    "plt.scatter(x_test, predicted_y, c=\"yellow\")"
   ]
  },
  {
   "cell_type": "markdown",
   "metadata": {
    "deletable": false,
    "editable": false,
    "hidden": true,
    "run_control": {
     "frozen": true
    },
    "pycharm": {
     "name": "#%% md\n"
    }
   },
   "source": [
    "To find best K for this algorithm we suggest to use cross-validation.\n",
    "<br><br/>\n",
    "Did this model perform well (due to the plot and test accuracy)?"
   ]
  },
  {
   "cell_type": "markdown",
   "metadata": {
    "hidden": true,
    "pycharm": {
     "name": "#%% md\n"
    }
   },
   "source": [
    "Yes it is almost as good as Locally Weighted Regression on our test data. But one shortcoming of this model is if we predict y for any x higher than 2 or lower than zero (numbers not present in the dataset), it will predict same y as x=2 or x=0 (because they are their nearest neighbor!); while Locally Weighted Regression perceives some of its nearest neighbors' behaviours and predict accordingly. For example, it may predict a line similar to xs in range 0 and 0.25 for xs lower than 0."
   ]
  }
 ],
 "metadata": {
  "kernelspec": {
   "display_name": "Python 3.7.4 64-bit",
   "language": "python",
   "name": "python3"
  },
  "language_info": {
   "codemirror_mode": {
    "name": "ipython",
    "version": 3
   },
   "file_extension": ".py",
   "mimetype": "text/x-python",
   "name": "python",
   "nbconvert_exporter": "python",
   "pygments_lexer": "ipython3",
   "version": "3.7.4"
  },
  "toc": {
   "base_numbering": 1,
   "nav_menu": {},
   "number_sections": true,
   "sideBar": true,
   "skip_h1_title": false,
   "title_cell": "Table of Contents",
   "title_sidebar": "Contents",
   "toc_cell": false,
   "toc_position": {},
   "toc_section_display": true,
   "toc_window_display": false
  },
  "varInspector": {
   "cols": {
    "lenName": 16,
    "lenType": 16,
    "lenVar": 40
   },
   "kernels_config": {
    "python": {
     "delete_cmd_postfix": "",
     "delete_cmd_prefix": "del ",
     "library": "var_list.py",
     "varRefreshCmd": "print(var_dic_list())"
    },
    "r": {
     "delete_cmd_postfix": ") ",
     "delete_cmd_prefix": "rm(",
     "library": "var_list.r",
     "varRefreshCmd": "cat(var_dic_list()) "
    }
   },
   "types_to_exclude": [
    "module",
    "function",
    "builtin_function_or_method",
    "instance",
    "_Feature"
   ],
   "window_display": false
  },
  "vscode": {
   "interpreter": {
    "hash": "aee8b7b246df8f9039afb4144a1f6fd8d2ca17a180786b69acc140d282b71a49"
   }
  }
 },
 "nbformat": 4,
 "nbformat_minor": 4
}