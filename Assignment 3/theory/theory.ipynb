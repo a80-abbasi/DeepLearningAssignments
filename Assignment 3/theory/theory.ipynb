{
 "cells": [
  {
   "cell_type": "code",
   "execution_count": 2,
   "metadata": {},
   "outputs": [],
   "source": [
    "import numpy as np\n",
    "import matplotlib.pyplot as plt\n",
    "\n",
    "import torch\n",
    "from torch.nn import functional as F"
   ]
  },
  {
   "cell_type": "code",
   "execution_count": 3,
   "metadata": {},
   "outputs": [
    {
     "data": {
      "text/plain": [
       "array([[255,   0, 255,   0, 255,   0, 255,   0],\n",
       "       [  0, 255,   0, 255,   0, 255,   0, 255],\n",
       "       [255,   0, 255,   0, 255,   0, 255,   0],\n",
       "       [  0, 255,   0, 255,   0, 255,   0, 255],\n",
       "       [255,   0, 255,   0, 255,   0, 255,   0],\n",
       "       [  0, 255,   0, 255,   0, 255,   0, 255],\n",
       "       [255,   0, 255,   0, 255,   0, 255,   0],\n",
       "       [  0, 255,   0, 255,   0, 255,   0, 255]], dtype=int32)"
      ]
     },
     "execution_count": 3,
     "metadata": {},
     "output_type": "execute_result"
    }
   ],
   "source": [
    "i, j = np.indices((8, 8))\n",
    "x = 1 - (i + j) % 2\n",
    "x = x * 255\n",
    "x"
   ]
  },
  {
   "cell_type": "code",
   "execution_count": 4,
   "metadata": {},
   "outputs": [
    {
     "data": {
      "image/png": "[encoded data removed]",
      "text/plain": [
       "<Figure size 432x288 with 1 Axes>"
      ]
     },
     "metadata": {
      "needs_background": "light"
     },
     "output_type": "display_data"
    }
   ],
   "source": [
    "plt.imshow(x, cmap='gray');"
   ]
  },
  {
   "cell_type": "code",
   "execution_count": 5,
   "metadata": {},
   "outputs": [],
   "source": [
    "x = torch.tensor(x, dtype=torch.float32)\n",
    "x = x.view(1, 1, 8, 8)\n",
    "weights = torch.ones(1, 1, 3, 3) / 9"
   ]
  },
  {
   "cell_type": "code",
   "execution_count": 33,
   "metadata": {},
   "outputs": [
    {
     "data": {
      "image/png": "[encoded data removed]",
      "text/plain": [
       "<Figure size 432x288 with 1 Axes>"
      ]
     },
     "metadata": {
      "needs_background": "light"
     },
     "output_type": "display_data"
    }
   ],
   "source": [
    "y = x.clone()[0, 0]\n",
    "y[1:-1, 1:-1] = F.conv2d(x, weights)[0, 0]\n",
    "y = y.detach().numpy()\n",
    "plt.imshow(y, cmap='gray', vmin=0, vmax=255);"
   ]
  }
 ],
 "metadata": {
  "kernelspec": {
   "display_name": "Python 3",
   "language": "python",
   "name": "python3"
  },
  "language_info": {
   "codemirror_mode": {
    "name": "ipython",
    "version": 3
   },
   "file_extension": ".py",
   "mimetype": "text/x-python",
   "name": "python",
   "nbconvert_exporter": "python",
   "pygments_lexer": "ipython3",
   "version": "3.9.7"
  },
  "orig_nbformat": 4,
  "vscode": {
   "interpreter": {
    "hash": "11938c6bc6919ae2720b4d5011047913343b08a43b18698fd82dedb0d4417594"
   }
  }
 },
 "nbformat": 4,
 "nbformat_minor": 2
}
