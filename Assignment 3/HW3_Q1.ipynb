{
  "cells": [
    {
      "cell_type": "markdown",
      "metadata": {
        "collapsed": false,
        "id": "-_oVxF3tc-fw",
        "pycharm": {
          "name": "#%% md\n"
        }
      },
      "source": [
        "# Deep Learning - Assignment 3 - Problem 1\n",
        "### Ali Abbasi - 98105879"
      ]
    },
    {
      "cell_type": "code",
      "execution_count": null,
      "metadata": {
        "colab": {
          "base_uri": "https://localhost:8080/"
        },
        "id": "fxa44R2fnNmv",
        "outputId": "4326cd43-6330-4415-9aa4-e6d958580fe8"
      },
      "outputs": [],
      "source": [
        "!git clone https://github.com/a80-abbasi/DeepLearningAssignments.git\n",
        "%cd \"./DeepLearningAssignments/Assignment 3\"\n",
        "!unzip archive.zip"
      ]
    },
    {
      "cell_type": "markdown",
      "metadata": {
        "collapsed": false,
        "id": "a81Jd7nkCon2",
        "pycharm": {
          "name": "#%% md\n"
        }
      },
      "source": [
        "# Importing Libraries"
      ]
    },
    {
      "cell_type": "code",
      "execution_count": 2,
      "metadata": {
        "collapsed": true,
        "id": "J9Kf0GnOCooA",
        "pycharm": {
          "name": "#%%\n"
        }
      },
      "outputs": [],
      "source": [
        "import torch\n",
        "import torchvision\n",
        "from torchvision import transforms as T\n",
        "from torch.utils.data import DataLoader\n",
        "from torch import nn, optim\n",
        "from torch.nn import functional as F\n",
        "\n",
        "import tqdm\n",
        "import os\n",
        "from PIL import Image\n",
        "import numpy as np\n",
        "from matplotlib import pyplot as plt"
      ]
    },
    {
      "cell_type": "code",
      "execution_count": 8,
      "metadata": {
        "id": "l8qyrpNPnIds"
      },
      "outputs": [],
      "source": [
        "torch.manual_seed(24)\n",
        "np.random.seed(24)"
      ]
    },
    {
      "cell_type": "markdown",
      "metadata": {
        "collapsed": false,
        "id": "6LxaPjpaCooF",
        "pycharm": {
          "name": "#%% md\n"
        }
      },
      "source": [
        "# Datasets and Dataloaders"
      ]
    },
    {
      "cell_type": "code",
      "execution_count": 3,
      "metadata": {
        "id": "dDend70anIdw"
      },
      "outputs": [],
      "source": [
        "import bisect\n",
        "\n",
        "class Footwear(torch.utils.data.Dataset):\n",
        "    def __init__(self, dataset_path, transform=None, shuffle=True):\n",
        "        self.transform = transform\n",
        "        self.target_names = os.listdir(dataset_path)\n",
        "        self.name_to_label = {name: i for i, name in enumerate(self.target_names)}\n",
        "        self.label_to_name = {i: name for name, i in self.name_to_label.items()}\n",
        "        self.files = []\n",
        "        self.labels = []\n",
        "        for label, name in enumerate(self.target_names):\n",
        "            for file in os.listdir(os.path.join(dataset_path, name)):\n",
        "                self.files.append(os.path.join(dataset_path, name, file))\n",
        "                self.labels.append(label)\n",
        "        self.files = np.array(self.files)\n",
        "        self.labels = np.array(self.labels)\n",
        "        if shuffle:\n",
        "            idx = np.random.permutation(len(self.files))\n",
        "            self.files = self.files[idx]\n",
        "            self.labels = self.labels[idx]\n",
        "\n",
        "    def __len__(self):\n",
        "        return len(self.labels)\n",
        "\n",
        "    def __getitem__(self, item):\n",
        "        assert item < self.__len__(), f\"Index {item} is out of range\"\n",
        "        file = self.files[item]\n",
        "        label = self.labels[item]\n",
        "        imgage = Image.open(file)\n",
        "        if self.transform is not None:\n",
        "            imgage = self.transform(imgage)\n",
        "        return imgage, label\n"
      ]
    },
    {
      "cell_type": "code",
      "execution_count": 10,
      "metadata": {
        "colab": {
          "base_uri": "https://localhost:8080/"
        },
        "id": "q2MFCjGCpidZ",
        "outputId": "3ee84761-eb18-4715-9585-cccc278090c3"
      },
      "outputs": [
        {
          "name": "stdout",
          "output_type": "stream",
          "text": [
            "{torch.Size([3, 102, 135]), torch.Size([3, 102, 136])}\n"
          ]
        }
      ],
      "source": [
        "dataset = Footwear(\"Shoe vs Sandal vs Boot Dataset\", transform=T.Compose([T.ToTensor()]))\n",
        "\n",
        "shapes = set()\n",
        "for i in range(len(dataset)):\n",
        "  x, y = dataset[i]\n",
        "  shapes.add(x.shape)\n",
        "\n",
        "print(shapes)"
      ]
    },
    {
      "cell_type": "code",
      "execution_count": 4,
      "metadata": {
        "id": "0mPzaFnmCooG",
        "pycharm": {
          "name": "#%%\n"
        }
      },
      "outputs": [],
      "source": [
        "dataset = Footwear(\"Shoe vs Sandal vs Boot Dataset\", transform=T.Compose([T.ToTensor(), T.Resize((50, 65))]))\n",
        "\n",
        "test_size = int(len(dataset) * 0.3)\n",
        "train_size = len(dataset) - test_size\n",
        "val_size = int(train_size * 0.2)\n",
        "train_size = train_size - val_size\n",
        "train_set, val_set, test_set = torch.utils.data.random_split(dataset, [train_size, val_size, test_size])"
      ]
    },
    {
      "cell_type": "code",
      "execution_count": 5,
      "metadata": {
        "colab": {
          "base_uri": "https://localhost:8080/"
        },
        "id": "OkqHXMh_nId4",
        "outputId": "905fe2f3-e050-4773-d8e3-589883661f86"
      },
      "outputs": [
        {
          "data": {
            "text/plain": [
              "(8400, 2100, 4500)"
            ]
          },
          "execution_count": 5,
          "metadata": {},
          "output_type": "execute_result"
        }
      ],
      "source": [
        "train_size, val_size, test_size"
      ]
    },
    {
      "cell_type": "code",
      "execution_count": 6,
      "metadata": {
        "colab": {
          "base_uri": "https://localhost:8080/"
        },
        "id": "VdZzDZ3qCooH",
        "outputId": "002e556d-f677-44d3-b165-3c21cd9dc732",
        "pycharm": {
          "name": "#%%\n"
        }
      },
      "outputs": [
        {
          "data": {
            "text/plain": [
              "torch.Size([3, 50, 65])"
            ]
          },
          "execution_count": 6,
          "metadata": {},
          "output_type": "execute_result"
        }
      ],
      "source": [
        "image_shape = train_set[0][0].shape\n",
        "input_dim = np.prod(image_shape).item()\n",
        "num_classes = len(dataset.target_names)\n",
        "image_shape"
      ]
    },
    {
      "cell_type": "code",
      "execution_count": 14,
      "metadata": {
        "id": "5Djr2omhCooJ",
        "pycharm": {
          "name": "#%%\n"
        }
      },
      "outputs": [],
      "source": [
        "train_loader = DataLoader(train_set, 64, shuffle=True)\n",
        "test_loader = DataLoader(test_set, 64, shuffle=True)\n",
        "val_loader = DataLoader(val_set, 64, shuffle=True)"
      ]
    },
    {
      "cell_type": "markdown",
      "metadata": {
        "collapsed": false,
        "id": "4d6w_jvnc-f4",
        "pycharm": {
          "name": "#%% md\n"
        }
      },
      "source": [
        "## Visualization"
      ]
    },
    {
      "cell_type": "code",
      "execution_count": 15,
      "metadata": {
        "colab": {
          "base_uri": "https://localhost:8080/",
          "height": 221
        },
        "id": "jINGxJsEc-f4",
        "outputId": "92d9c4b1-69a0-4a74-aa96-da57bb9af513",
        "pycharm": {
          "name": "#%%\n"
        }
      },
      "outputs": [
        {
          "data": {
            "image/png": "[encoded data removed]",
            "text/plain": [
              "<Figure size 720x720 with 3 Axes>"
            ]
          },
          "metadata": {},
          "output_type": "display_data"
        }
      ],
      "source": [
        "fig, axes = plt.subplots(1,3, figsize=(10, 10))\n",
        "axes = axes.flat\n",
        "topil = T.ToPILImage()\n",
        "for j in range(len(dataset.target_names)):\n",
        "    i = np.random.choice(np.where(np.array(dataset.labels) == j)[0])\n",
        "    x, y = dataset[i]\n",
        "    ax = axes[j]\n",
        "    img = topil(x)\n",
        "    ax.imshow(img)\n",
        "    ax.set_title(dataset.label_to_name[y])\n",
        "    ax.set_xticks([])\n",
        "    ax.set_yticks([])\n",
        "plt.tight_layout()\n",
        "plt.show()"
      ]
    },
    {
      "cell_type": "markdown",
      "metadata": {
        "collapsed": false,
        "id": "wuIW9R2u-jXh",
        "pycharm": {
          "name": "#%% md\n"
        }
      },
      "source": [
        "# MLP Model"
      ]
    },
    {
      "cell_type": "code",
      "execution_count": 16,
      "metadata": {
        "id": "VIHT59A8-jXh",
        "pycharm": {
          "name": "#%%\n"
        }
      },
      "outputs": [],
      "source": [
        "from more_itertools import pairwise\n",
        "\n",
        "class MLP_Model(nn.Module):\n",
        "    \n",
        "    def __init__(self, layers_inputs, dropout=False):\n",
        "        super().__init__()\n",
        "        layers_shape = list(pairwise(layers_inputs))\n",
        "        layers = []\n",
        "        for shape in layers_shape[:-1]:\n",
        "            layers.append(nn.Linear(*shape))\n",
        "            layers.append(nn.ReLU())\n",
        "            if dropout:\n",
        "                layers.append(nn.Dropout(dropout))\n",
        "        layers.append(nn.Linear(*layers_shape[-1]))\n",
        "        self.layers = nn.Sequential(*layers)\n",
        "\n",
        "    def forward(self, x):\n",
        "        x = x.view(x.shape[0], -1)\n",
        "        return self.layers(x)"
      ]
    },
    {
      "cell_type": "code",
      "execution_count": 17,
      "metadata": {
        "colab": {
          "base_uri": "https://localhost:8080/"
        },
        "id": "svr0JCUJ-jXi",
        "outputId": "baeb2c2d-2440-4c14-9eb2-3bbd17d85277",
        "pycharm": {
          "name": "#%%\n"
        }
      },
      "outputs": [
        {
          "data": {
            "text/plain": [
              "MLP_Model(\n",
              "  (layers): Sequential(\n",
              "    (0): Linear(in_features=9750, out_features=256, bias=True)\n",
              "    (1): ReLU()\n",
              "    (2): Dropout(p=0.4, inplace=False)\n",
              "    (3): Linear(in_features=256, out_features=128, bias=True)\n",
              "    (4): ReLU()\n",
              "    (5): Dropout(p=0.4, inplace=False)\n",
              "    (6): Linear(in_features=128, out_features=64, bias=True)\n",
              "    (7): ReLU()\n",
              "    (8): Dropout(p=0.4, inplace=False)\n",
              "    (9): Linear(in_features=64, out_features=3, bias=True)\n",
              "  )\n",
              ")"
            ]
          },
          "execution_count": 17,
          "metadata": {},
          "output_type": "execute_result"
        }
      ],
      "source": [
        "layers_inputs = [input_dim, 256, 128, 64, num_classes]\n",
        "model = MLP_Model(layers_inputs, dropout=0.4)\n",
        "model"
      ]
    },
    {
      "cell_type": "markdown",
      "metadata": {
        "collapsed": false,
        "id": "rLRZUJpH-jXi",
        "pycharm": {
          "name": "#%% md\n"
        }
      },
      "source": [
        "# Training Model"
      ]
    },
    {
      "cell_type": "code",
      "execution_count": 18,
      "metadata": {
        "id": "G9Gpk9KR-jXi",
        "pycharm": {
          "name": "#%%\n"
        }
      },
      "outputs": [],
      "source": [
        "device = torch.device(\"cuda\" if torch.cuda.is_available() else \"cpu\")"
      ]
    },
    {
      "cell_type": "code",
      "execution_count": 19,
      "metadata": {
        "id": "Eb35MFGa-jXi",
        "pycharm": {
          "name": "#%%\n"
        }
      },
      "outputs": [],
      "source": [
        "from sklearn.metrics import accuracy_score, f1_score, precision_score, recall_score, confusion_matrix, ConfusionMatrixDisplay"
      ]
    },
    {
      "cell_type": "code",
      "execution_count": 20,
      "metadata": {
        "id": "JUJ4MVZ1-jXj",
        "pycharm": {
          "name": "#%%\n"
        }
      },
      "outputs": [],
      "source": [
        "def one_epoch(model, loader, criterion, optimizer=None, epoch='', train=True, set_name='Train', metrics=None):\n",
        "    total_loss = 0\n",
        "    N = len(loader.dataset)\n",
        "    Y = []\n",
        "    Y_pred = []\n",
        "    if train:\n",
        "        model.train()\n",
        "    else:\n",
        "        model.eval()\n",
        "\n",
        "    with torch.set_grad_enabled(train), tqdm.tqdm(enumerate(loader), total=len(loader)) as pbar:\n",
        "        for i, (x, y) in pbar:\n",
        "            if train:\n",
        "                optimizer.zero_grad()\n",
        "\n",
        "            x = x.to(device)\n",
        "            y = y.to(device)\n",
        "            p = model(x)\n",
        "\n",
        "            loss = criterion(p, y.long())\n",
        "\n",
        "            total_loss += loss.item() * len(x)\n",
        "            pbar.set_description(f'{epoch}: {set_name} Loss: {total_loss / N:.3e}')\n",
        "            if train:\n",
        "                loss.backward()\n",
        "                optimizer.step()\n",
        "\n",
        "            y_pred = p.argmax(dim=-1)\n",
        "            Y.append(y.cpu().numpy())\n",
        "            Y_pred.append(y_pred.cpu().numpy())\n",
        "\n",
        "    total_loss /= N\n",
        "\n",
        "    Y = np.concatenate(Y)\n",
        "    Y_pred = np.concatenate(Y_pred)\n",
        "    acc = accuracy_score(Y_pred, Y)\n",
        "    print(f'Accuracy of {set_name} set: {acc}')\n",
        "\n",
        "    result = {'loss': total_loss, 'accuracy': acc}\n",
        "    if metrics is not None:\n",
        "        result.update({metric: metric_func(Y, Y_pred) for metric, metric_func in metrics.items()})\n",
        "\n",
        "    return result"
      ]
    },
    {
      "cell_type": "code",
      "execution_count": 21,
      "metadata": {
        "id": "9h9QncHw-jXj",
        "pycharm": {
          "name": "#%%\n"
        }
      },
      "outputs": [],
      "source": [
        "train_losses = []\n",
        "val_losses = []\n",
        "train_accuracies = []\n",
        "val_accuracies = []"
      ]
    },
    {
      "cell_type": "code",
      "execution_count": 22,
      "metadata": {
        "id": "kCx7AocEnIeS"
      },
      "outputs": [],
      "source": [
        "from torch.utils.tensorboard import SummaryWriter"
      ]
    },
    {
      "cell_type": "code",
      "execution_count": 23,
      "metadata": {
        "id": "hKZUblYj-jXj",
        "pycharm": {
          "name": "#%%\n"
        }
      },
      "outputs": [],
      "source": [
        "def train_model(model, dataloaders, num_epochs, criterion, optimizer, model_name='pytroch-model', tensorboard_writer=None):\n",
        "    train_loader, val_loader = dataloaders\n",
        "    min_val_loss = np.inf\n",
        "    for epoch in range(num_epochs):\n",
        "        result = one_epoch(model, train_loader, criterion, optimizer, epoch, train=True, set_name='Train')\n",
        "        train_loss = result['loss']\n",
        "        train_acc = result['accuracy']\n",
        "        train_losses.append(train_loss)\n",
        "        train_accuracies.append(train_acc)\n",
        "        val_result = one_epoch(model, val_loader, criterion, epoch=epoch, train=False, set_name='Validation')\n",
        "        val_loss = val_result['loss']\n",
        "        val_acc = val_result['accuracy']\n",
        "        val_losses.append(val_loss)\n",
        "        val_accuracies.append(val_acc)\n",
        "        print('\\n', '-' * 60)\n",
        "        if val_loss < min_val_loss:\n",
        "            min_val_loss = val_loss\n",
        "            torch.save(model.state_dict(), f'{model_name}.pt')\n",
        "        if tensorboard_writer:\n",
        "            tensorboard_writer.add_scalars('Loss', {'train': train_loss, 'val': val_loss}, epoch)\n",
        "            tensorboard_writer.add_scalars('Accuracy', {'train': train_acc, 'val': val_acc}, epoch)\n",
        "\n",
        "    tensorboard_writer.close()\n",
        "    plt.plot(train_losses, label='train')\n",
        "    plt.plot(val_losses, label='val')\n",
        "    plt.title('loss history of training and val sets')\n",
        "    plt.legend()\n",
        "    plt.show()\n",
        "\n",
        "    plt.plot(train_accuracies, label='train')\n",
        "    plt.plot(val_accuracies, label='val')\n",
        "    plt.title('Accuracy history of training and val sets')\n",
        "    plt.legend()\n",
        "    plt.show()\n",
        "\n",
        "    model.load_state_dict(torch.load(f'{model_name}.pt'))\n",
        "    return model, min_val_loss"
      ]
    },
    {
      "cell_type": "markdown",
      "metadata": {
        "collapsed": false,
        "id": "x5WwAVdB-jXj",
        "pycharm": {
          "name": "#%% md\n"
        }
      },
      "source": [
        "### Training:"
      ]
    },
    {
      "cell_type": "code",
      "execution_count": 24,
      "metadata": {
        "colab": {
          "base_uri": "https://localhost:8080/",
          "height": 1000
        },
        "id": "0WeA23Md-jXj",
        "outputId": "4aaf6a38-a0d0-49f7-c580-57ccbc40f313",
        "pycharm": {
          "name": "#%%\n"
        }
      },
      "outputs": [
        {
          "name": "stderr",
          "output_type": "stream",
          "text": [
            "0: Train Loss: 8.291e-01: : 132it [00:07, 17.06it/s]\n"
          ]
        },
        {
          "name": "stdout",
          "output_type": "stream",
          "text": [
            "Accuracy of Train set: 0.5791666666666667\n"
          ]
        },
        {
          "name": "stderr",
          "output_type": "stream",
          "text": [
            "0: Validation Loss: 5.622e-01: : 33it [00:01, 22.28it/s]\n"
          ]
        },
        {
          "name": "stdout",
          "output_type": "stream",
          "text": [
            "Accuracy of Validation set: 0.7471428571428571\n",
            "\n",
            " ------------------------------------------------------------\n"
          ]
        },
        {
          "name": "stderr",
          "output_type": "stream",
          "text": [
            "1: Train Loss: 6.300e-01: : 132it [00:06, 20.52it/s]\n"
          ]
        },
        {
          "name": "stdout",
          "output_type": "stream",
          "text": [
            "Accuracy of Train set: 0.7164285714285714\n"
          ]
        },
        {
          "name": "stderr",
          "output_type": "stream",
          "text": [
            "1: Validation Loss: 4.587e-01: : 33it [00:01, 22.73it/s]\n"
          ]
        },
        {
          "name": "stdout",
          "output_type": "stream",
          "text": [
            "Accuracy of Validation set: 0.8152380952380952\n",
            "\n",
            " ------------------------------------------------------------\n"
          ]
        },
        {
          "name": "stderr",
          "output_type": "stream",
          "text": [
            "2: Train Loss: 5.978e-01: : 132it [00:06, 20.61it/s]\n"
          ]
        },
        {
          "name": "stdout",
          "output_type": "stream",
          "text": [
            "Accuracy of Train set: 0.7388095238095238\n"
          ]
        },
        {
          "name": "stderr",
          "output_type": "stream",
          "text": [
            "2: Validation Loss: 4.187e-01: : 33it [00:01, 22.30it/s]\n"
          ]
        },
        {
          "name": "stdout",
          "output_type": "stream",
          "text": [
            "Accuracy of Validation set: 0.8552380952380952\n",
            "\n",
            " ------------------------------------------------------------\n"
          ]
        },
        {
          "name": "stderr",
          "output_type": "stream",
          "text": [
            "3: Train Loss: 6.001e-01: : 132it [00:06, 20.92it/s]\n"
          ]
        },
        {
          "name": "stdout",
          "output_type": "stream",
          "text": [
            "Accuracy of Train set: 0.7347619047619047\n"
          ]
        },
        {
          "name": "stderr",
          "output_type": "stream",
          "text": [
            "3: Validation Loss: 4.270e-01: : 33it [00:01, 22.85it/s]\n"
          ]
        },
        {
          "name": "stdout",
          "output_type": "stream",
          "text": [
            "Accuracy of Validation set: 0.8585714285714285\n",
            "\n",
            " ------------------------------------------------------------\n"
          ]
        },
        {
          "name": "stderr",
          "output_type": "stream",
          "text": [
            "4: Train Loss: 5.685e-01: : 132it [00:06, 20.65it/s]\n"
          ]
        },
        {
          "name": "stdout",
          "output_type": "stream",
          "text": [
            "Accuracy of Train set: 0.7648809523809523\n"
          ]
        },
        {
          "name": "stderr",
          "output_type": "stream",
          "text": [
            "4: Validation Loss: 4.269e-01: : 33it [00:01, 22.62it/s]\n"
          ]
        },
        {
          "name": "stdout",
          "output_type": "stream",
          "text": [
            "Accuracy of Validation set: 0.8242857142857143\n",
            "\n",
            " ------------------------------------------------------------\n"
          ]
        },
        {
          "name": "stderr",
          "output_type": "stream",
          "text": [
            "5: Train Loss: 5.410e-01: : 132it [00:06, 20.90it/s]\n"
          ]
        },
        {
          "name": "stdout",
          "output_type": "stream",
          "text": [
            "Accuracy of Train set: 0.7777380952380952\n"
          ]
        },
        {
          "name": "stderr",
          "output_type": "stream",
          "text": [
            "5: Validation Loss: 4.376e-01: : 33it [00:01, 22.43it/s]\n"
          ]
        },
        {
          "name": "stdout",
          "output_type": "stream",
          "text": [
            "Accuracy of Validation set: 0.8542857142857143\n",
            "\n",
            " ------------------------------------------------------------\n"
          ]
        },
        {
          "name": "stderr",
          "output_type": "stream",
          "text": [
            "6: Train Loss: 5.508e-01: : 132it [00:06, 20.62it/s]\n"
          ]
        },
        {
          "name": "stdout",
          "output_type": "stream",
          "text": [
            "Accuracy of Train set: 0.7642857142857142\n"
          ]
        },
        {
          "name": "stderr",
          "output_type": "stream",
          "text": [
            "6: Validation Loss: 3.707e-01: : 33it [00:01, 22.10it/s]\n"
          ]
        },
        {
          "name": "stdout",
          "output_type": "stream",
          "text": [
            "Accuracy of Validation set: 0.8733333333333333\n",
            "\n",
            " ------------------------------------------------------------\n"
          ]
        },
        {
          "name": "stderr",
          "output_type": "stream",
          "text": [
            "7: Train Loss: 5.740e-01: : 132it [00:06, 20.90it/s]\n"
          ]
        },
        {
          "name": "stdout",
          "output_type": "stream",
          "text": [
            "Accuracy of Train set: 0.7359523809523809\n"
          ]
        },
        {
          "name": "stderr",
          "output_type": "stream",
          "text": [
            "7: Validation Loss: 5.042e-01: : 33it [00:01, 22.57it/s]\n"
          ]
        },
        {
          "name": "stdout",
          "output_type": "stream",
          "text": [
            "Accuracy of Validation set: 0.8247619047619048\n",
            "\n",
            " ------------------------------------------------------------\n"
          ]
        },
        {
          "name": "stderr",
          "output_type": "stream",
          "text": [
            "8: Train Loss: 5.493e-01: : 132it [00:07, 17.67it/s]\n"
          ]
        },
        {
          "name": "stdout",
          "output_type": "stream",
          "text": [
            "Accuracy of Train set: 0.7728571428571429\n"
          ]
        },
        {
          "name": "stderr",
          "output_type": "stream",
          "text": [
            "8: Validation Loss: 3.698e-01: : 33it [00:01, 22.37it/s]\n"
          ]
        },
        {
          "name": "stdout",
          "output_type": "stream",
          "text": [
            "Accuracy of Validation set: 0.8866666666666667\n",
            "\n",
            " ------------------------------------------------------------\n"
          ]
        },
        {
          "name": "stderr",
          "output_type": "stream",
          "text": [
            "9: Train Loss: 5.707e-01: : 132it [00:06, 20.96it/s]\n"
          ]
        },
        {
          "name": "stdout",
          "output_type": "stream",
          "text": [
            "Accuracy of Train set: 0.7590476190476191\n"
          ]
        },
        {
          "name": "stderr",
          "output_type": "stream",
          "text": [
            "9: Validation Loss: 3.878e-01: : 33it [00:01, 22.40it/s]\n"
          ]
        },
        {
          "name": "stdout",
          "output_type": "stream",
          "text": [
            "Accuracy of Validation set: 0.8576190476190476\n",
            "\n",
            " ------------------------------------------------------------\n"
          ]
        },
        {
          "name": "stderr",
          "output_type": "stream",
          "text": [
            "10: Train Loss: 5.743e-01: : 132it [00:06, 20.81it/s]\n"
          ]
        },
        {
          "name": "stdout",
          "output_type": "stream",
          "text": [
            "Accuracy of Train set: 0.7578571428571429\n"
          ]
        },
        {
          "name": "stderr",
          "output_type": "stream",
          "text": [
            "10: Validation Loss: 3.975e-01: : 33it [00:01, 22.33it/s]\n"
          ]
        },
        {
          "name": "stdout",
          "output_type": "stream",
          "text": [
            "Accuracy of Validation set: 0.8823809523809524\n",
            "\n",
            " ------------------------------------------------------------\n"
          ]
        },
        {
          "name": "stderr",
          "output_type": "stream",
          "text": [
            "11: Train Loss: 5.476e-01: : 132it [00:06, 21.09it/s]\n"
          ]
        },
        {
          "name": "stdout",
          "output_type": "stream",
          "text": [
            "Accuracy of Train set: 0.763452380952381\n"
          ]
        },
        {
          "name": "stderr",
          "output_type": "stream",
          "text": [
            "11: Validation Loss: 3.606e-01: : 33it [00:01, 22.77it/s]\n"
          ]
        },
        {
          "name": "stdout",
          "output_type": "stream",
          "text": [
            "Accuracy of Validation set: 0.8909523809523809\n",
            "\n",
            " ------------------------------------------------------------\n"
          ]
        },
        {
          "name": "stderr",
          "output_type": "stream",
          "text": [
            "12: Train Loss: 5.806e-01: : 132it [00:06, 20.76it/s]\n"
          ]
        },
        {
          "name": "stdout",
          "output_type": "stream",
          "text": [
            "Accuracy of Train set: 0.75\n"
          ]
        },
        {
          "name": "stderr",
          "output_type": "stream",
          "text": [
            "12: Validation Loss: 3.781e-01: : 33it [00:01, 16.86it/s]\n"
          ]
        },
        {
          "name": "stdout",
          "output_type": "stream",
          "text": [
            "Accuracy of Validation set: 0.89\n",
            "\n",
            " ------------------------------------------------------------\n"
          ]
        },
        {
          "name": "stderr",
          "output_type": "stream",
          "text": [
            "13: Train Loss: 5.431e-01: : 132it [00:13, 10.06it/s]\n"
          ]
        },
        {
          "name": "stdout",
          "output_type": "stream",
          "text": [
            "Accuracy of Train set: 0.7671428571428571\n"
          ]
        },
        {
          "name": "stderr",
          "output_type": "stream",
          "text": [
            "13: Validation Loss: 4.085e-01: : 33it [00:03, 10.55it/s]\n"
          ]
        },
        {
          "name": "stdout",
          "output_type": "stream",
          "text": [
            "Accuracy of Validation set: 0.8766666666666667\n",
            "\n",
            " ------------------------------------------------------------\n"
          ]
        },
        {
          "name": "stderr",
          "output_type": "stream",
          "text": [
            "14: Train Loss: 5.374e-01: : 132it [00:06, 19.10it/s]\n"
          ]
        },
        {
          "name": "stdout",
          "output_type": "stream",
          "text": [
            "Accuracy of Train set: 0.7776190476190477\n"
          ]
        },
        {
          "name": "stderr",
          "output_type": "stream",
          "text": [
            "14: Validation Loss: 3.222e-01: : 33it [00:01, 22.44it/s]\n"
          ]
        },
        {
          "name": "stdout",
          "output_type": "stream",
          "text": [
            "Accuracy of Validation set: 0.8933333333333333\n",
            "\n",
            " ------------------------------------------------------------\n"
          ]
        },
        {
          "name": "stderr",
          "output_type": "stream",
          "text": [
            "15: Train Loss: 5.243e-01: : 132it [00:06, 20.66it/s]\n"
          ]
        },
        {
          "name": "stdout",
          "output_type": "stream",
          "text": [
            "Accuracy of Train set: 0.7822619047619047\n"
          ]
        },
        {
          "name": "stderr",
          "output_type": "stream",
          "text": [
            "15: Validation Loss: 4.678e-01: : 33it [00:01, 21.83it/s]\n"
          ]
        },
        {
          "name": "stdout",
          "output_type": "stream",
          "text": [
            "Accuracy of Validation set: 0.871904761904762\n",
            "\n",
            " ------------------------------------------------------------\n"
          ]
        },
        {
          "name": "stderr",
          "output_type": "stream",
          "text": [
            "16: Train Loss: 5.472e-01: : 132it [00:06, 20.79it/s]\n"
          ]
        },
        {
          "name": "stdout",
          "output_type": "stream",
          "text": [
            "Accuracy of Train set: 0.7676190476190476\n"
          ]
        },
        {
          "name": "stderr",
          "output_type": "stream",
          "text": [
            "16: Validation Loss: 3.725e-01: : 33it [00:01, 21.82it/s]\n"
          ]
        },
        {
          "name": "stdout",
          "output_type": "stream",
          "text": [
            "Accuracy of Validation set: 0.8714285714285714\n",
            "\n",
            " ------------------------------------------------------------\n"
          ]
        },
        {
          "name": "stderr",
          "output_type": "stream",
          "text": [
            "17: Train Loss: 5.366e-01: : 132it [00:06, 20.98it/s]\n"
          ]
        },
        {
          "name": "stdout",
          "output_type": "stream",
          "text": [
            "Accuracy of Train set: 0.7703571428571429\n"
          ]
        },
        {
          "name": "stderr",
          "output_type": "stream",
          "text": [
            "17: Validation Loss: 4.120e-01: : 33it [00:01, 22.76it/s]\n"
          ]
        },
        {
          "name": "stdout",
          "output_type": "stream",
          "text": [
            "Accuracy of Validation set: 0.8819047619047619\n",
            "\n",
            " ------------------------------------------------------------\n"
          ]
        },
        {
          "name": "stderr",
          "output_type": "stream",
          "text": [
            "18: Train Loss: 5.127e-01: : 132it [00:06, 21.02it/s]\n"
          ]
        },
        {
          "name": "stdout",
          "output_type": "stream",
          "text": [
            "Accuracy of Train set: 0.7822619047619047\n"
          ]
        },
        {
          "name": "stderr",
          "output_type": "stream",
          "text": [
            "18: Validation Loss: 3.810e-01: : 33it [00:01, 22.38it/s]\n"
          ]
        },
        {
          "name": "stdout",
          "output_type": "stream",
          "text": [
            "Accuracy of Validation set: 0.8904761904761904\n",
            "\n",
            " ------------------------------------------------------------\n"
          ]
        },
        {
          "name": "stderr",
          "output_type": "stream",
          "text": [
            "19: Train Loss: 5.180e-01: : 132it [00:06, 20.92it/s]\n"
          ]
        },
        {
          "name": "stdout",
          "output_type": "stream",
          "text": [
            "Accuracy of Train set: 0.7822619047619047\n"
          ]
        },
        {
          "name": "stderr",
          "output_type": "stream",
          "text": [
            "19: Validation Loss: 3.470e-01: : 33it [00:01, 22.37it/s]\n"
          ]
        },
        {
          "name": "stdout",
          "output_type": "stream",
          "text": [
            "Accuracy of Validation set: 0.8938095238095238\n",
            "\n",
            " ------------------------------------------------------------\n"
          ]
        },
        {
          "name": "stderr",
          "output_type": "stream",
          "text": [
            "20: Train Loss: 5.137e-01: : 132it [00:06, 20.80it/s]\n"
          ]
        },
        {
          "name": "stdout",
          "output_type": "stream",
          "text": [
            "Accuracy of Train set: 0.7880952380952381\n"
          ]
        },
        {
          "name": "stderr",
          "output_type": "stream",
          "text": [
            "20: Validation Loss: 3.854e-01: : 33it [00:01, 22.11it/s]\n"
          ]
        },
        {
          "name": "stdout",
          "output_type": "stream",
          "text": [
            "Accuracy of Validation set: 0.8933333333333333\n",
            "\n",
            " ------------------------------------------------------------\n"
          ]
        },
        {
          "name": "stderr",
          "output_type": "stream",
          "text": [
            "21: Train Loss: 5.044e-01: : 132it [00:06, 20.58it/s]\n"
          ]
        },
        {
          "name": "stdout",
          "output_type": "stream",
          "text": [
            "Accuracy of Train set: 0.7884523809523809\n"
          ]
        },
        {
          "name": "stderr",
          "output_type": "stream",
          "text": [
            "21: Validation Loss: 4.339e-01: : 33it [00:01, 22.59it/s]\n"
          ]
        },
        {
          "name": "stdout",
          "output_type": "stream",
          "text": [
            "Accuracy of Validation set: 0.8538095238095238\n",
            "\n",
            " ------------------------------------------------------------\n"
          ]
        },
        {
          "name": "stderr",
          "output_type": "stream",
          "text": [
            "22: Train Loss: 4.982e-01: : 132it [00:07, 17.74it/s]\n"
          ]
        },
        {
          "name": "stdout",
          "output_type": "stream",
          "text": [
            "Accuracy of Train set: 0.795\n"
          ]
        },
        {
          "name": "stderr",
          "output_type": "stream",
          "text": [
            "22: Validation Loss: 3.291e-01: : 33it [00:01, 22.35it/s]\n"
          ]
        },
        {
          "name": "stdout",
          "output_type": "stream",
          "text": [
            "Accuracy of Validation set: 0.8861904761904762\n",
            "\n",
            " ------------------------------------------------------------\n"
          ]
        },
        {
          "name": "stderr",
          "output_type": "stream",
          "text": [
            "23: Train Loss: 4.687e-01: : 132it [00:06, 20.33it/s]\n"
          ]
        },
        {
          "name": "stdout",
          "output_type": "stream",
          "text": [
            "Accuracy of Train set: 0.8147619047619048\n"
          ]
        },
        {
          "name": "stderr",
          "output_type": "stream",
          "text": [
            "23: Validation Loss: 3.667e-01: : 33it [00:01, 22.22it/s]\n"
          ]
        },
        {
          "name": "stdout",
          "output_type": "stream",
          "text": [
            "Accuracy of Validation set: 0.8842857142857142\n",
            "\n",
            " ------------------------------------------------------------\n"
          ]
        },
        {
          "name": "stderr",
          "output_type": "stream",
          "text": [
            "24: Train Loss: 4.737e-01: : 132it [00:06, 20.75it/s]\n"
          ]
        },
        {
          "name": "stdout",
          "output_type": "stream",
          "text": [
            "Accuracy of Train set: 0.8054761904761905\n"
          ]
        },
        {
          "name": "stderr",
          "output_type": "stream",
          "text": [
            "24: Validation Loss: 3.677e-01: : 33it [00:01, 22.32it/s]\n"
          ]
        },
        {
          "name": "stdout",
          "output_type": "stream",
          "text": [
            "Accuracy of Validation set: 0.8828571428571429\n",
            "\n",
            " ------------------------------------------------------------\n"
          ]
        },
        {
          "data": {
            "image/png": "[encoded data removed]",
            "text/plain": [
              "<Figure size 432x288 with 1 Axes>"
            ]
          },
          "metadata": {
            "needs_background": "light"
          },
          "output_type": "display_data"
        },
        {
          "data": {
            "image/png": "[encoded data removed]",
            "text/plain": [
              "<Figure size 432x288 with 1 Axes>"
            ]
          },
          "metadata": {
            "needs_background": "light"
          },
          "output_type": "display_data"
        }
      ],
      "source": [
        "train_losses.clear()\n",
        "val_losses.clear()\n",
        "train_accuracies.clear()\n",
        "val_accuracies.clear()\n",
        "\n",
        "# Training config\n",
        "lr = 0.001\n",
        "model = MLP_Model(layers_inputs, dropout=0.4).to(device)\n",
        "criterion = nn.CrossEntropyLoss()\n",
        "optimizer = optim.Adam(model.parameters(), lr=lr)\n",
        "writer = SummaryWriter('/runs/MLP')\n",
        "model, min_val_loss = train_model(model, [train_loader, val_loader], 25, criterion, optimizer, tensorboard_writer=writer)"
      ]
    },
    {
      "cell_type": "markdown",
      "metadata": {
        "id": "QK1UDiSanIeZ"
      },
      "source": [
        "### MLP Results"
      ]
    },
    {
      "cell_type": "code",
      "execution_count": 27,
      "metadata": {
        "id": "8OPdy2l7nIeZ"
      },
      "outputs": [],
      "source": [
        "average_policy = 'macro'\n",
        "metrics = {'accuracy': accuracy_score, 'precision': lambda y1, y2: precision_score(y1, y2, average=average_policy),\n",
        "           'recall': lambda y1, y2: recall_score(y1, y2, average=average_policy),\n",
        "           'f1': lambda y1, y2: f1_score(y1, y2, average=average_policy),\n",
        "           'confusion_matrix': confusion_matrix}"
      ]
    },
    {
      "cell_type": "code",
      "execution_count": 29,
      "metadata": {
        "colab": {
          "base_uri": "https://localhost:8080/",
          "height": 403
        },
        "id": "h2_CpldmnIeb",
        "outputId": "71510aee-9416-4bdf-9ead-b89229dd76fe"
      },
      "outputs": [
        {
          "name": "stderr",
          "output_type": "stream",
          "text": [
            ": Test Loss: 3.401e-01: : 71it [00:04, 16.06it/s]\n"
          ]
        },
        {
          "name": "stdout",
          "output_type": "stream",
          "text": [
            "Accuracy of Test set: 0.8835555555555555\n"
          ]
        },
        {
          "data": {
            "text/plain": [
              "{'loss': 0.340121816555659,\n",
              " 'accuracy': 0.8835555555555555,\n",
              " 'precision': 0.8844216235971688,\n",
              " 'recall': 0.8832504405406215,\n",
              " 'f1': 0.8827702995055021}"
            ]
          },
          "execution_count": 29,
          "metadata": {},
          "output_type": "execute_result"
        },
        {
          "data": {
            "image/png": "[encoded data removed]",
            "text/plain": [
              "<Figure size 432x288 with 2 Axes>"
            ]
          },
          "metadata": {
            "needs_background": "light"
          },
          "output_type": "display_data"
        }
      ],
      "source": [
        "test_results = one_epoch(model, test_loader, criterion, train=False, set_name='Test', metrics=metrics)\n",
        "disp = ConfusionMatrixDisplay(test_results.pop('confusion_matrix'), display_labels=dataset.target_names)\n",
        "disp.plot()\n",
        "test_results"
      ]
    },
    {
      "cell_type": "code",
      "execution_count": 30,
      "metadata": {
        "colab": {
          "base_uri": "https://localhost:8080/",
          "height": 401
        },
        "id": "NDTrAuGHnIec",
        "outputId": "8e8b62ed-01f8-4869-ead7-a509eaf3d695"
      },
      "outputs": [
        {
          "name": "stderr",
          "output_type": "stream",
          "text": [
            ": Validation Loss: 3.222e-01: : 33it [00:01, 22.04it/s]\n"
          ]
        },
        {
          "name": "stdout",
          "output_type": "stream",
          "text": [
            "Accuracy of Validation set: 0.8933333333333333\n"
          ]
        },
        {
          "data": {
            "text/plain": [
              "{'loss': 0.3221804814111619,\n",
              " 'accuracy': 0.8933333333333333,\n",
              " 'precision': 0.8934669518436013,\n",
              " 'recall': 0.8924469121908495,\n",
              " 'f1': 0.8925359692971716}"
            ]
          },
          "execution_count": 30,
          "metadata": {},
          "output_type": "execute_result"
        },
        {
          "data": {
            "image/png": "[encoded data removed]",
            "text/plain": [
              "<Figure size 432x288 with 2 Axes>"
            ]
          },
          "metadata": {
            "needs_background": "light"
          },
          "output_type": "display_data"
        }
      ],
      "source": [
        "val_results = one_epoch(model, val_loader, criterion, train=False, set_name='Validation', metrics=metrics)\n",
        "disp = ConfusionMatrixDisplay(val_results.pop('confusion_matrix'), display_labels=dataset.target_names)\n",
        "disp.plot()\n",
        "val_results"
      ]
    },
    {
      "cell_type": "code",
      "execution_count": 31,
      "metadata": {
        "colab": {
          "base_uri": "https://localhost:8080/",
          "height": 401
        },
        "id": "3-PSMDsNnIee",
        "outputId": "3eb80e1a-e189-48b1-dd32-a92041731c36"
      },
      "outputs": [
        {
          "name": "stderr",
          "output_type": "stream",
          "text": [
            ": Train Loss: 3.120e-01: : 132it [00:06, 21.67it/s]"
          ]
        },
        {
          "name": "stdout",
          "output_type": "stream",
          "text": [
            "Accuracy of Train set: 0.8933333333333333\n"
          ]
        },
        {
          "name": "stderr",
          "output_type": "stream",
          "text": [
            "\n"
          ]
        },
        {
          "data": {
            "text/plain": [
              "{'loss': 0.31202149186815537,\n",
              " 'accuracy': 0.8933333333333333,\n",
              " 'precision': 0.8944053003134093,\n",
              " 'recall': 0.8937800244299602,\n",
              " 'f1': 0.8933284125754123}"
            ]
          },
          "execution_count": 31,
          "metadata": {},
          "output_type": "execute_result"
        },
        {
          "data": {
            "image/png": "[encoded data removed]",
            "text/plain": [
              "<Figure size 432x288 with 2 Axes>"
            ]
          },
          "metadata": {
            "needs_background": "light"
          },
          "output_type": "display_data"
        }
      ],
      "source": [
        "train_results = one_epoch(model, train_loader, criterion, train=False, set_name='Train', metrics=metrics)\n",
        "disp = ConfusionMatrixDisplay(train_results.pop('confusion_matrix'), display_labels=dataset.target_names)\n",
        "disp.plot()\n",
        "train_results"
      ]
    },
    {
      "cell_type": "markdown",
      "metadata": {
        "id": "MJRZO6BGnIee"
      },
      "source": [
        "### MLP Number of Parameters"
      ]
    },
    {
      "cell_type": "code",
      "execution_count": 32,
      "metadata": {
        "colab": {
          "base_uri": "https://localhost:8080/"
        },
        "id": "OYvldgsJnIef",
        "outputId": "a1536b06-1822-456b-9de9-f002b13b2308"
      },
      "outputs": [
        {
          "name": "stdout",
          "output_type": "stream",
          "text": [
            "Number of parameters: 2537603\n"
          ]
        }
      ],
      "source": [
        "print(f'Number of parameters: {sum(p.numel() for p in model.parameters() if p.requires_grad)}')"
      ]
    },
    {
      "attachments": {},
      "cell_type": "markdown",
      "metadata": {
        "id": "O6pXMQvBnIeg"
      },
      "source": [
        "### Tensorboard Results\n",
        "Now we can see the tensorboard results for this part by running the command `tensorboard --logdir=runs/MLP` in the terminal. Since it opens in a tab, we can see the results in the following image:"
      ]
    },
    {
      "attachments": {},
      "cell_type": "markdown",
      "metadata": {},
      "source": [
        "![MLP-tensorboard](Images/MLP-tensorboard.png)"
      ]
    },
    {
      "cell_type": "markdown",
      "metadata": {
        "id": "5GRYTLk_nIeh"
      },
      "source": [
        "# Convolutional Model"
      ]
    },
    {
      "cell_type": "code",
      "execution_count": 7,
      "metadata": {
        "id": "tTVmWSVDnIei"
      },
      "outputs": [],
      "source": [
        "class DropBlock2D(nn.Module):\n",
        "    def __init__(self, block_size, drop_rate, batchwise=True):\n",
        "        super(DropBlock2D, self).__init__()\n",
        "        self.block_size = block_size\n",
        "        self.droprate = drop_rate\n",
        "        self.batchwise = batchwise\n",
        "        self.gamma = None\n",
        "        self.bernoulli = None\n",
        "\n",
        "    def forward(self, x):\n",
        "        if not self.training or self.droprate == 0:\n",
        "            return x\n",
        "\n",
        "        if self.gamma is None or self.bernoulli is None:\n",
        "            self._create_params(x)\n",
        "\n",
        "        if self.batchwise:\n",
        "            mask = self.bernoulli.sample((1, *x.size()[1:])).to(x.device)\n",
        "        else:\n",
        "            mask = self.bernoulli.sample(x.size()).to(x.device)\n",
        "        \n",
        "        mask = F.max_pool2d(mask, self.block_size, stride=1, padding=self.block_size // 2)\n",
        "        if self.block_size % 2 == 0:\n",
        "            mask = mask[:, :, :-1, :-1]\n",
        "        mask = 1 - mask\n",
        "\n",
        "        normalize_scale = (mask.numel() / mask.float().sum().add(1e-6)).to(dtype=x.dtype)\n",
        "        out = x * mask * normalize_scale\n",
        "        return out\n",
        "\n",
        "    def _create_params(self, x):\n",
        "        gamma = self.droprate / (self.block_size ** 2)\n",
        "        bernoulli = torch.distributions.bernoulli.Bernoulli(gamma)\n",
        "\n",
        "        self.gamma = gamma\n",
        "        self.bernoulli = bernoulli"
      ]
    },
    {
      "cell_type": "code",
      "execution_count": 61,
      "metadata": {
        "colab": {
          "base_uri": "https://localhost:8080/",
          "height": 268
        },
        "id": "4kT-UUfknIel",
        "outputId": "82c73ebf-213a-40cd-ae60-7ff39a5cd4dd"
      },
      "outputs": [
        {
          "data": {
            "image/png": "[encoded data removed]",
            "text/plain": [
              "<Figure size 432x288 with 1 Axes>"
            ]
          },
          "metadata": {
            "needs_background": "light"
          },
          "output_type": "display_data"
        }
      ],
      "source": [
        "plt.imshow(DropBlock2D(5, 0.1)(torch.ones(1, 1, 100, 100)).squeeze().detach().numpy())\n",
        "plt.show()"
      ]
    },
    {
      "cell_type": "code",
      "execution_count": 8,
      "metadata": {
        "id": "N_dVJ0Q4nIem"
      },
      "outputs": [],
      "source": [
        "class Conv_Model(nn.Module):\n",
        "    \n",
        "    def __init__(self, input_shape, conv_layers, dropout_type=None, dropout_rate=None, batch_norm=False, kernel_factorization=False):\n",
        "        super().__init__()\n",
        "        layers = []\n",
        "        for conv in conv_layers:\n",
        "            if conv[0] == 'pool':\n",
        "                layers.append(nn.MaxPool2d(conv[1:]))\n",
        "                continue\n",
        "            if kernel_factorization:\n",
        "                conv_1 = [*conv]\n",
        "                conv_1[2] = (1, conv_1[2])\n",
        "                layers.append(nn.Conv2d(*conv_1))\n",
        "                conv_2 = [*conv]\n",
        "                conv_2[2] = (conv_2[2], 1)\n",
        "                conv_2[0] = conv_1[1]\n",
        "                layers.append(nn.Conv2d(*conv_2))\n",
        "            else:\n",
        "                layers.append(nn.Conv2d(*conv))\n",
        "            if batch_norm:\n",
        "                layers.append(nn.BatchNorm2d(conv[1]))\n",
        "            layers.append(nn.ReLU())\n",
        "            if dropout_type == 'block':\n",
        "                layers.append(DropBlock2D(5, dropout_rate))\n",
        "            elif dropout_type == 'dropout':\n",
        "                layers.append(nn.Dropout(dropout_rate))\n",
        "        self.convs = nn.Sequential(*layers)\n",
        "        with torch.no_grad():\n",
        "            conv_output_shape = self.convs(torch.zeros(1, *input_shape)).shape[1:]\n",
        "        self.classifier = nn.Linear(np.prod(conv_output_shape), num_classes)\n",
        "\n",
        "    def forward(self, x):\n",
        "        x = self.convs(x)\n",
        "        x = x.view(x.shape[0], -1)\n",
        "        x = self.classifier(x)\n",
        "        return x"
      ]
    },
    {
      "attachments": {},
      "cell_type": "markdown",
      "metadata": {},
      "source": [
        "### Training Convolutional Model:"
      ]
    },
    {
      "cell_type": "code",
      "execution_count": 97,
      "metadata": {
        "colab": {
          "base_uri": "https://localhost:8080/",
          "height": 1000
        },
        "id": "XTNkbsBrnIeo",
        "outputId": "d2860066-1661-4c41-ea8d-4411618fdec1"
      },
      "outputs": [
        {
          "name": "stderr",
          "output_type": "stream",
          "text": [
            "0: Train Loss: 6.340e-01: : 132it [00:06, 19.23it/s]\n"
          ]
        },
        {
          "name": "stdout",
          "output_type": "stream",
          "text": [
            "Accuracy of Train set: 0.7107142857142857\n"
          ]
        },
        {
          "name": "stderr",
          "output_type": "stream",
          "text": [
            "0: Validation Loss: 3.842e-01: : 33it [00:01, 21.85it/s]\n"
          ]
        },
        {
          "name": "stdout",
          "output_type": "stream",
          "text": [
            "Accuracy of Validation set: 0.8566666666666667\n",
            "\n",
            " ------------------------------------------------------------\n"
          ]
        },
        {
          "name": "stderr",
          "output_type": "stream",
          "text": [
            "1: Train Loss: 3.929e-01: : 132it [00:06, 19.36it/s]\n"
          ]
        },
        {
          "name": "stdout",
          "output_type": "stream",
          "text": [
            "Accuracy of Train set: 0.8433333333333334\n"
          ]
        },
        {
          "name": "stderr",
          "output_type": "stream",
          "text": [
            "1: Validation Loss: 2.764e-01: : 33it [00:01, 22.62it/s]\n"
          ]
        },
        {
          "name": "stdout",
          "output_type": "stream",
          "text": [
            "Accuracy of Validation set: 0.9052380952380953\n",
            "\n",
            " ------------------------------------------------------------\n"
          ]
        },
        {
          "name": "stderr",
          "output_type": "stream",
          "text": [
            "2: Train Loss: 2.928e-01: : 132it [00:06, 19.47it/s]\n"
          ]
        },
        {
          "name": "stdout",
          "output_type": "stream",
          "text": [
            "Accuracy of Train set: 0.8902380952380953\n"
          ]
        },
        {
          "name": "stderr",
          "output_type": "stream",
          "text": [
            "2: Validation Loss: 2.448e-01: : 33it [00:01, 22.06it/s]\n"
          ]
        },
        {
          "name": "stdout",
          "output_type": "stream",
          "text": [
            "Accuracy of Validation set: 0.9071428571428571\n",
            "\n",
            " ------------------------------------------------------------\n"
          ]
        },
        {
          "name": "stderr",
          "output_type": "stream",
          "text": [
            "3: Train Loss: 2.474e-01: : 132it [00:06, 19.51it/s]\n"
          ]
        },
        {
          "name": "stdout",
          "output_type": "stream",
          "text": [
            "Accuracy of Train set: 0.9067857142857143\n"
          ]
        },
        {
          "name": "stderr",
          "output_type": "stream",
          "text": [
            "3: Validation Loss: 2.167e-01: : 33it [00:01, 22.35it/s]\n"
          ]
        },
        {
          "name": "stdout",
          "output_type": "stream",
          "text": [
            "Accuracy of Validation set: 0.9266666666666666\n",
            "\n",
            " ------------------------------------------------------------\n"
          ]
        },
        {
          "name": "stderr",
          "output_type": "stream",
          "text": [
            "4: Train Loss: 2.255e-01: : 132it [00:06, 19.45it/s]\n"
          ]
        },
        {
          "name": "stdout",
          "output_type": "stream",
          "text": [
            "Accuracy of Train set: 0.915952380952381\n"
          ]
        },
        {
          "name": "stderr",
          "output_type": "stream",
          "text": [
            "4: Validation Loss: 1.919e-01: : 33it [00:01, 22.09it/s]\n"
          ]
        },
        {
          "name": "stdout",
          "output_type": "stream",
          "text": [
            "Accuracy of Validation set: 0.9333333333333333\n",
            "\n",
            " ------------------------------------------------------------\n"
          ]
        },
        {
          "name": "stderr",
          "output_type": "stream",
          "text": [
            "5: Train Loss: 2.008e-01: : 132it [00:06, 18.99it/s]\n"
          ]
        },
        {
          "name": "stdout",
          "output_type": "stream",
          "text": [
            "Accuracy of Train set: 0.9286904761904762\n"
          ]
        },
        {
          "name": "stderr",
          "output_type": "stream",
          "text": [
            "5: Validation Loss: 1.705e-01: : 33it [00:01, 21.86it/s]\n"
          ]
        },
        {
          "name": "stdout",
          "output_type": "stream",
          "text": [
            "Accuracy of Validation set: 0.9357142857142857\n",
            "\n",
            " ------------------------------------------------------------\n"
          ]
        },
        {
          "name": "stderr",
          "output_type": "stream",
          "text": [
            "6: Train Loss: 1.852e-01: : 132it [00:06, 18.87it/s]\n"
          ]
        },
        {
          "name": "stdout",
          "output_type": "stream",
          "text": [
            "Accuracy of Train set: 0.9342857142857143\n"
          ]
        },
        {
          "name": "stderr",
          "output_type": "stream",
          "text": [
            "6: Validation Loss: 1.671e-01: : 33it [00:01, 21.52it/s]\n"
          ]
        },
        {
          "name": "stdout",
          "output_type": "stream",
          "text": [
            "Accuracy of Validation set: 0.9414285714285714\n",
            "\n",
            " ------------------------------------------------------------\n"
          ]
        },
        {
          "name": "stderr",
          "output_type": "stream",
          "text": [
            "7: Train Loss: 1.814e-01: : 132it [00:08, 16.13it/s]\n"
          ]
        },
        {
          "name": "stdout",
          "output_type": "stream",
          "text": [
            "Accuracy of Train set: 0.9370238095238095\n"
          ]
        },
        {
          "name": "stderr",
          "output_type": "stream",
          "text": [
            "7: Validation Loss: 1.676e-01: : 33it [00:01, 22.17it/s]\n"
          ]
        },
        {
          "name": "stdout",
          "output_type": "stream",
          "text": [
            "Accuracy of Validation set: 0.9476190476190476\n",
            "\n",
            " ------------------------------------------------------------\n"
          ]
        },
        {
          "name": "stderr",
          "output_type": "stream",
          "text": [
            "8: Train Loss: 1.674e-01: : 132it [00:06, 18.94it/s]\n"
          ]
        },
        {
          "name": "stdout",
          "output_type": "stream",
          "text": [
            "Accuracy of Train set: 0.9396428571428571\n"
          ]
        },
        {
          "name": "stderr",
          "output_type": "stream",
          "text": [
            "8: Validation Loss: 1.442e-01: : 33it [00:01, 21.43it/s]\n"
          ]
        },
        {
          "name": "stdout",
          "output_type": "stream",
          "text": [
            "Accuracy of Validation set: 0.95\n",
            "\n",
            " ------------------------------------------------------------\n"
          ]
        },
        {
          "name": "stderr",
          "output_type": "stream",
          "text": [
            "9: Train Loss: 1.664e-01: : 132it [00:07, 18.58it/s]\n"
          ]
        },
        {
          "name": "stdout",
          "output_type": "stream",
          "text": [
            "Accuracy of Train set: 0.9386904761904762\n"
          ]
        },
        {
          "name": "stderr",
          "output_type": "stream",
          "text": [
            "9: Validation Loss: 1.566e-01: : 33it [00:01, 21.68it/s]\n"
          ]
        },
        {
          "name": "stdout",
          "output_type": "stream",
          "text": [
            "Accuracy of Validation set: 0.9442857142857143\n",
            "\n",
            " ------------------------------------------------------------\n"
          ]
        },
        {
          "name": "stderr",
          "output_type": "stream",
          "text": [
            "10: Train Loss: 1.605e-01: : 132it [00:06, 19.12it/s]\n"
          ]
        },
        {
          "name": "stdout",
          "output_type": "stream",
          "text": [
            "Accuracy of Train set: 0.9402380952380952\n"
          ]
        },
        {
          "name": "stderr",
          "output_type": "stream",
          "text": [
            "10: Validation Loss: 1.460e-01: : 33it [00:01, 21.95it/s]\n"
          ]
        },
        {
          "name": "stdout",
          "output_type": "stream",
          "text": [
            "Accuracy of Validation set: 0.9495238095238095\n",
            "\n",
            " ------------------------------------------------------------\n"
          ]
        },
        {
          "name": "stderr",
          "output_type": "stream",
          "text": [
            "11: Train Loss: 1.527e-01: : 132it [00:06, 19.05it/s]\n"
          ]
        },
        {
          "name": "stdout",
          "output_type": "stream",
          "text": [
            "Accuracy of Train set: 0.944047619047619\n"
          ]
        },
        {
          "name": "stderr",
          "output_type": "stream",
          "text": [
            "11: Validation Loss: 1.370e-01: : 33it [00:01, 21.66it/s]\n"
          ]
        },
        {
          "name": "stdout",
          "output_type": "stream",
          "text": [
            "Accuracy of Validation set: 0.9533333333333334\n",
            "\n",
            " ------------------------------------------------------------\n"
          ]
        },
        {
          "name": "stderr",
          "output_type": "stream",
          "text": [
            "12: Train Loss: 1.372e-01: : 132it [00:07, 18.68it/s]\n"
          ]
        },
        {
          "name": "stdout",
          "output_type": "stream",
          "text": [
            "Accuracy of Train set: 0.9542857142857143\n"
          ]
        },
        {
          "name": "stderr",
          "output_type": "stream",
          "text": [
            "12: Validation Loss: 1.326e-01: : 33it [00:01, 21.42it/s]\n"
          ]
        },
        {
          "name": "stdout",
          "output_type": "stream",
          "text": [
            "Accuracy of Validation set: 0.9566666666666667\n",
            "\n",
            " ------------------------------------------------------------\n"
          ]
        },
        {
          "name": "stderr",
          "output_type": "stream",
          "text": [
            "13: Train Loss: 1.468e-01: : 132it [00:07, 18.79it/s]\n"
          ]
        },
        {
          "name": "stdout",
          "output_type": "stream",
          "text": [
            "Accuracy of Train set: 0.9483333333333334\n"
          ]
        },
        {
          "name": "stderr",
          "output_type": "stream",
          "text": [
            "13: Validation Loss: 1.391e-01: : 33it [00:01, 21.95it/s]\n"
          ]
        },
        {
          "name": "stdout",
          "output_type": "stream",
          "text": [
            "Accuracy of Validation set: 0.9485714285714286\n",
            "\n",
            " ------------------------------------------------------------\n"
          ]
        },
        {
          "name": "stderr",
          "output_type": "stream",
          "text": [
            "14: Train Loss: 1.277e-01: : 132it [00:06, 19.08it/s]\n"
          ]
        },
        {
          "name": "stdout",
          "output_type": "stream",
          "text": [
            "Accuracy of Train set: 0.9533333333333334\n"
          ]
        },
        {
          "name": "stderr",
          "output_type": "stream",
          "text": [
            "14: Validation Loss: 1.310e-01: : 33it [00:01, 21.71it/s]\n"
          ]
        },
        {
          "name": "stdout",
          "output_type": "stream",
          "text": [
            "Accuracy of Validation set: 0.9533333333333334\n",
            "\n",
            " ------------------------------------------------------------\n"
          ]
        },
        {
          "name": "stderr",
          "output_type": "stream",
          "text": [
            "15: Train Loss: 1.213e-01: : 132it [00:06, 19.35it/s]\n"
          ]
        },
        {
          "name": "stdout",
          "output_type": "stream",
          "text": [
            "Accuracy of Train set: 0.9557142857142857\n"
          ]
        },
        {
          "name": "stderr",
          "output_type": "stream",
          "text": [
            "15: Validation Loss: 1.101e-01: : 33it [00:01, 21.96it/s]\n"
          ]
        },
        {
          "name": "stdout",
          "output_type": "stream",
          "text": [
            "Accuracy of Validation set: 0.9595238095238096\n",
            "\n",
            " ------------------------------------------------------------\n"
          ]
        },
        {
          "name": "stderr",
          "output_type": "stream",
          "text": [
            "16: Train Loss: 1.324e-01: : 132it [00:07, 17.58it/s]\n"
          ]
        },
        {
          "name": "stdout",
          "output_type": "stream",
          "text": [
            "Accuracy of Train set: 0.950595238095238\n"
          ]
        },
        {
          "name": "stderr",
          "output_type": "stream",
          "text": [
            "16: Validation Loss: 1.401e-01: : 33it [00:01, 20.94it/s]\n"
          ]
        },
        {
          "name": "stdout",
          "output_type": "stream",
          "text": [
            "Accuracy of Validation set: 0.9495238095238095\n",
            "\n",
            " ------------------------------------------------------------\n"
          ]
        },
        {
          "name": "stderr",
          "output_type": "stream",
          "text": [
            "17: Train Loss: 1.223e-01: : 132it [00:06, 19.03it/s]\n"
          ]
        },
        {
          "name": "stdout",
          "output_type": "stream",
          "text": [
            "Accuracy of Train set: 0.9558333333333333\n"
          ]
        },
        {
          "name": "stderr",
          "output_type": "stream",
          "text": [
            "17: Validation Loss: 1.309e-01: : 33it [00:01, 21.86it/s]\n"
          ]
        },
        {
          "name": "stdout",
          "output_type": "stream",
          "text": [
            "Accuracy of Validation set: 0.9580952380952381\n",
            "\n",
            " ------------------------------------------------------------\n"
          ]
        },
        {
          "name": "stderr",
          "output_type": "stream",
          "text": [
            "18: Train Loss: 1.209e-01: : 132it [00:07, 18.83it/s]\n"
          ]
        },
        {
          "name": "stdout",
          "output_type": "stream",
          "text": [
            "Accuracy of Train set: 0.9545238095238096\n"
          ]
        },
        {
          "name": "stderr",
          "output_type": "stream",
          "text": [
            "18: Validation Loss: 1.280e-01: : 33it [00:01, 21.55it/s]\n"
          ]
        },
        {
          "name": "stdout",
          "output_type": "stream",
          "text": [
            "Accuracy of Validation set: 0.9552380952380952\n",
            "\n",
            " ------------------------------------------------------------\n"
          ]
        },
        {
          "name": "stderr",
          "output_type": "stream",
          "text": [
            "19: Train Loss: 1.161e-01: : 132it [00:06, 18.89it/s]\n"
          ]
        },
        {
          "name": "stdout",
          "output_type": "stream",
          "text": [
            "Accuracy of Train set: 0.9575\n"
          ]
        },
        {
          "name": "stderr",
          "output_type": "stream",
          "text": [
            "19: Validation Loss: 1.105e-01: : 33it [00:01, 21.56it/s]\n"
          ]
        },
        {
          "name": "stdout",
          "output_type": "stream",
          "text": [
            "Accuracy of Validation set: 0.9623809523809523\n",
            "\n",
            " ------------------------------------------------------------\n"
          ]
        },
        {
          "name": "stderr",
          "output_type": "stream",
          "text": [
            "20: Train Loss: 1.186e-01: : 132it [00:06, 18.99it/s]\n"
          ]
        },
        {
          "name": "stdout",
          "output_type": "stream",
          "text": [
            "Accuracy of Train set: 0.9589285714285715\n"
          ]
        },
        {
          "name": "stderr",
          "output_type": "stream",
          "text": [
            "20: Validation Loss: 1.219e-01: : 33it [00:01, 21.55it/s]\n"
          ]
        },
        {
          "name": "stdout",
          "output_type": "stream",
          "text": [
            "Accuracy of Validation set: 0.9538095238095238\n",
            "\n",
            " ------------------------------------------------------------\n"
          ]
        },
        {
          "name": "stderr",
          "output_type": "stream",
          "text": [
            "21: Train Loss: 1.024e-01: : 132it [00:06, 18.96it/s]\n"
          ]
        },
        {
          "name": "stdout",
          "output_type": "stream",
          "text": [
            "Accuracy of Train set: 0.9617857142857142\n"
          ]
        },
        {
          "name": "stderr",
          "output_type": "stream",
          "text": [
            "21: Validation Loss: 1.086e-01: : 33it [00:01, 21.41it/s]\n"
          ]
        },
        {
          "name": "stdout",
          "output_type": "stream",
          "text": [
            "Accuracy of Validation set: 0.9638095238095238\n",
            "\n",
            " ------------------------------------------------------------\n"
          ]
        },
        {
          "name": "stderr",
          "output_type": "stream",
          "text": [
            "22: Train Loss: 1.049e-01: : 132it [00:07, 18.85it/s]\n"
          ]
        },
        {
          "name": "stdout",
          "output_type": "stream",
          "text": [
            "Accuracy of Train set: 0.9623809523809523\n"
          ]
        },
        {
          "name": "stderr",
          "output_type": "stream",
          "text": [
            "22: Validation Loss: 1.591e-01: : 33it [00:01, 21.86it/s]\n"
          ]
        },
        {
          "name": "stdout",
          "output_type": "stream",
          "text": [
            "Accuracy of Validation set: 0.9466666666666667\n",
            "\n",
            " ------------------------------------------------------------\n"
          ]
        },
        {
          "name": "stderr",
          "output_type": "stream",
          "text": [
            "23: Train Loss: 1.078e-01: : 132it [00:06, 19.03it/s]\n"
          ]
        },
        {
          "name": "stdout",
          "output_type": "stream",
          "text": [
            "Accuracy of Train set: 0.9597619047619048\n"
          ]
        },
        {
          "name": "stderr",
          "output_type": "stream",
          "text": [
            "23: Validation Loss: 1.184e-01: : 33it [00:01, 21.97it/s]\n"
          ]
        },
        {
          "name": "stdout",
          "output_type": "stream",
          "text": [
            "Accuracy of Validation set: 0.959047619047619\n",
            "\n",
            " ------------------------------------------------------------\n"
          ]
        },
        {
          "name": "stderr",
          "output_type": "stream",
          "text": [
            "24: Train Loss: 1.101e-01: : 132it [00:06, 19.26it/s]\n"
          ]
        },
        {
          "name": "stdout",
          "output_type": "stream",
          "text": [
            "Accuracy of Train set: 0.9608333333333333\n"
          ]
        },
        {
          "name": "stderr",
          "output_type": "stream",
          "text": [
            "24: Validation Loss: 1.027e-01: : 33it [00:01, 22.02it/s]\n"
          ]
        },
        {
          "name": "stdout",
          "output_type": "stream",
          "text": [
            "Accuracy of Validation set: 0.9633333333333334\n",
            "\n",
            " ------------------------------------------------------------\n"
          ]
        },
        {
          "data": {
            "image/png": "[encoded data removed]",
            "text/plain": [
              "<Figure size 432x288 with 1 Axes>"
            ]
          },
          "metadata": {
            "needs_background": "light"
          },
          "output_type": "display_data"
        },
        {
          "data": {
            "image/png": "[encoded data removed]",
            "text/plain": [
              "<Figure size 432x288 with 1 Axes>"
            ]
          },
          "metadata": {
            "needs_background": "light"
          },
          "output_type": "display_data"
        }
      ],
      "source": [
        "train_losses.clear()\n",
        "val_losses.clear()\n",
        "train_accuracies.clear()\n",
        "val_accuracies.clear()\n",
        "\n",
        "# Training config\n",
        "lr = 0.001\n",
        "# conv layers: (in_channels, out_channels, kernel_size, stride, padding)\n",
        "conv_layers = [(3, 32, 11, 3), (32, 64, 5), (64, 64, 3), (64, 64, 3)]\n",
        "model = Conv_Model(image_shape, conv_layers, dropout_type='dropout', dropout_rate=0.4).to(device)\n",
        "\n",
        "criterion = nn.CrossEntropyLoss()\n",
        "optimizer = optim.Adam(model.parameters(), lr=lr)\n",
        "writer = SummaryWriter('/runs/Conv1')\n",
        "model, min_val_loss = train_model(model, [train_loader, val_loader], 25, criterion, optimizer, tensorboard_writer=writer)"
      ]
    },
    {
      "cell_type": "code",
      "execution_count": 40,
      "metadata": {
        "colab": {
          "base_uri": "https://localhost:8080/",
          "height": 401
        },
        "id": "VxMj69m1nIep",
        "outputId": "4c2dec9c-bd99-4cb7-80ae-68f58e4d0e9d"
      },
      "outputs": [
        {
          "name": "stderr",
          "output_type": "stream",
          "text": [
            ": Test Loss: 1.210e-01: : 71it [00:03, 22.09it/s]"
          ]
        },
        {
          "name": "stdout",
          "output_type": "stream",
          "text": [
            "Accuracy of Test set: 0.9606666666666667\n"
          ]
        },
        {
          "name": "stderr",
          "output_type": "stream",
          "text": [
            "\n"
          ]
        },
        {
          "data": {
            "text/plain": [
              "{'loss': 0.12099685246414608,\n",
              " 'accuracy': 0.9606666666666667,\n",
              " 'precision': 0.9611376960301521,\n",
              " 'recall': 0.9605166538980248,\n",
              " 'f1': 0.9604617346169407}"
            ]
          },
          "execution_count": 40,
          "metadata": {},
          "output_type": "execute_result"
        },
        {
          "data": {
            "image/png": "[encoded data removed]",
            "text/plain": [
              "<Figure size 432x288 with 2 Axes>"
            ]
          },
          "metadata": {
            "needs_background": "light"
          },
          "output_type": "display_data"
        }
      ],
      "source": [
        "test_results = one_epoch(model, test_loader, criterion, train=False, set_name='Test', metrics=metrics)\n",
        "disp = ConfusionMatrixDisplay(test_results.pop('confusion_matrix'), display_labels=dataset.target_names)\n",
        "disp.plot()\n",
        "test_results"
      ]
    },
    {
      "cell_type": "code",
      "execution_count": 41,
      "metadata": {
        "colab": {
          "base_uri": "https://localhost:8080/"
        },
        "id": "QN_8ajbBnIeq",
        "outputId": "a5a75db1-0ff5-4a70-dcb4-707258f07d16"
      },
      "outputs": [
        {
          "name": "stdout",
          "output_type": "stream",
          "text": [
            "Number of parameters: 149443\n"
          ]
        }
      ],
      "source": [
        "print(f'Number of parameters: {sum(p.numel() for p in model.parameters() if p.requires_grad)}')"
      ]
    },
    {
      "attachments": {},
      "cell_type": "markdown",
      "metadata": {},
      "source": [
        "Tensorboard results:"
      ]
    },
    {
      "attachments": {},
      "cell_type": "markdown",
      "metadata": {
        "id": "jGw9B2C9nIer"
      },
      "source": [
        "![Conv1-tensorboard](Images/Conv1-tensorboard.png)"
      ]
    },
    {
      "attachments": {},
      "cell_type": "markdown",
      "metadata": {},
      "source": [
        "As expected, we achieved a much better result, with significantly less number of parameters compared to MLP model."
      ]
    },
    {
      "cell_type": "markdown",
      "metadata": {
        "id": "RmMDUWQEnIer"
      },
      "source": [
        "# Block Dropout"
      ]
    },
    {
      "cell_type": "code",
      "execution_count": 63,
      "metadata": {
        "colab": {
          "base_uri": "https://localhost:8080/",
          "height": 1000
        },
        "id": "pmg89us5nIes",
        "outputId": "07c4de6b-2780-462c-c22a-0a1bc15c25a1"
      },
      "outputs": [
        {
          "name": "stderr",
          "output_type": "stream",
          "text": [
            "0: Train Loss: 8.638e-01: : 132it [00:07, 18.64it/s]\n"
          ]
        },
        {
          "name": "stdout",
          "output_type": "stream",
          "text": [
            "Accuracy of Train set: 0.5766666666666667\n"
          ]
        },
        {
          "name": "stderr",
          "output_type": "stream",
          "text": [
            "0: Validation Loss: 6.018e-01: : 33it [00:01, 21.60it/s]\n"
          ]
        },
        {
          "name": "stdout",
          "output_type": "stream",
          "text": [
            "Accuracy of Validation set: 0.7376190476190476\n",
            "\n",
            " ------------------------------------------------------------\n"
          ]
        },
        {
          "name": "stderr",
          "output_type": "stream",
          "text": [
            "1: Train Loss: 6.226e-01: : 132it [00:07, 17.15it/s]\n"
          ]
        },
        {
          "name": "stdout",
          "output_type": "stream",
          "text": [
            "Accuracy of Train set: 0.7198809523809524\n"
          ]
        },
        {
          "name": "stderr",
          "output_type": "stream",
          "text": [
            "1: Validation Loss: 5.279e-01: : 33it [00:01, 22.11it/s]\n"
          ]
        },
        {
          "name": "stdout",
          "output_type": "stream",
          "text": [
            "Accuracy of Validation set: 0.7666666666666667\n",
            "\n",
            " ------------------------------------------------------------\n"
          ]
        },
        {
          "name": "stderr",
          "output_type": "stream",
          "text": [
            "2: Train Loss: 5.460e-01: : 132it [00:07, 18.81it/s]\n"
          ]
        },
        {
          "name": "stdout",
          "output_type": "stream",
          "text": [
            "Accuracy of Train set: 0.7691666666666667\n"
          ]
        },
        {
          "name": "stderr",
          "output_type": "stream",
          "text": [
            "2: Validation Loss: 4.225e-01: : 33it [00:01, 21.72it/s]\n"
          ]
        },
        {
          "name": "stdout",
          "output_type": "stream",
          "text": [
            "Accuracy of Validation set: 0.8252380952380952\n",
            "\n",
            " ------------------------------------------------------------\n"
          ]
        },
        {
          "name": "stderr",
          "output_type": "stream",
          "text": [
            "3: Train Loss: 5.058e-01: : 132it [00:07, 18.61it/s]\n"
          ]
        },
        {
          "name": "stdout",
          "output_type": "stream",
          "text": [
            "Accuracy of Train set: 0.8021428571428572\n"
          ]
        },
        {
          "name": "stderr",
          "output_type": "stream",
          "text": [
            "3: Validation Loss: 3.472e-01: : 33it [00:01, 21.72it/s]\n"
          ]
        },
        {
          "name": "stdout",
          "output_type": "stream",
          "text": [
            "Accuracy of Validation set: 0.8690476190476191\n",
            "\n",
            " ------------------------------------------------------------\n"
          ]
        },
        {
          "name": "stderr",
          "output_type": "stream",
          "text": [
            "4: Train Loss: 4.459e-01: : 132it [00:07, 18.76it/s]\n"
          ]
        },
        {
          "name": "stdout",
          "output_type": "stream",
          "text": [
            "Accuracy of Train set: 0.8202380952380952\n"
          ]
        },
        {
          "name": "stderr",
          "output_type": "stream",
          "text": [
            "4: Validation Loss: 3.174e-01: : 33it [00:01, 21.85it/s]\n"
          ]
        },
        {
          "name": "stdout",
          "output_type": "stream",
          "text": [
            "Accuracy of Validation set: 0.8947619047619048\n",
            "\n",
            " ------------------------------------------------------------\n"
          ]
        },
        {
          "name": "stderr",
          "output_type": "stream",
          "text": [
            "5: Train Loss: 3.901e-01: : 132it [00:07, 18.68it/s]\n"
          ]
        },
        {
          "name": "stdout",
          "output_type": "stream",
          "text": [
            "Accuracy of Train set: 0.8457142857142858\n"
          ]
        },
        {
          "name": "stderr",
          "output_type": "stream",
          "text": [
            "5: Validation Loss: 2.839e-01: : 33it [00:01, 21.62it/s]\n"
          ]
        },
        {
          "name": "stdout",
          "output_type": "stream",
          "text": [
            "Accuracy of Validation set: 0.9095238095238095\n",
            "\n",
            " ------------------------------------------------------------\n"
          ]
        },
        {
          "name": "stderr",
          "output_type": "stream",
          "text": [
            "6: Train Loss: 3.351e-01: : 132it [00:07, 18.84it/s]\n"
          ]
        },
        {
          "name": "stdout",
          "output_type": "stream",
          "text": [
            "Accuracy of Train set: 0.8701190476190476\n"
          ]
        },
        {
          "name": "stderr",
          "output_type": "stream",
          "text": [
            "6: Validation Loss: 2.588e-01: : 33it [00:01, 21.47it/s]\n"
          ]
        },
        {
          "name": "stdout",
          "output_type": "stream",
          "text": [
            "Accuracy of Validation set: 0.9047619047619048\n",
            "\n",
            " ------------------------------------------------------------\n"
          ]
        },
        {
          "name": "stderr",
          "output_type": "stream",
          "text": [
            "7: Train Loss: 3.046e-01: : 132it [00:06, 18.94it/s]\n"
          ]
        },
        {
          "name": "stdout",
          "output_type": "stream",
          "text": [
            "Accuracy of Train set: 0.881547619047619\n"
          ]
        },
        {
          "name": "stderr",
          "output_type": "stream",
          "text": [
            "7: Validation Loss: 2.330e-01: : 33it [00:01, 21.69it/s]\n"
          ]
        },
        {
          "name": "stdout",
          "output_type": "stream",
          "text": [
            "Accuracy of Validation set: 0.9195238095238095\n",
            "\n",
            " ------------------------------------------------------------\n"
          ]
        },
        {
          "name": "stderr",
          "output_type": "stream",
          "text": [
            "8: Train Loss: 2.935e-01: : 132it [00:06, 18.96it/s]\n"
          ]
        },
        {
          "name": "stdout",
          "output_type": "stream",
          "text": [
            "Accuracy of Train set: 0.8896428571428572\n"
          ]
        },
        {
          "name": "stderr",
          "output_type": "stream",
          "text": [
            "8: Validation Loss: 2.236e-01: : 33it [00:01, 21.77it/s]\n"
          ]
        },
        {
          "name": "stdout",
          "output_type": "stream",
          "text": [
            "Accuracy of Validation set: 0.9242857142857143\n",
            "\n",
            " ------------------------------------------------------------\n"
          ]
        },
        {
          "name": "stderr",
          "output_type": "stream",
          "text": [
            "9: Train Loss: 2.813e-01: : 132it [00:06, 18.87it/s]\n"
          ]
        },
        {
          "name": "stdout",
          "output_type": "stream",
          "text": [
            "Accuracy of Train set: 0.8980952380952381\n"
          ]
        },
        {
          "name": "stderr",
          "output_type": "stream",
          "text": [
            "9: Validation Loss: 2.050e-01: : 33it [00:01, 22.04it/s]\n"
          ]
        },
        {
          "name": "stdout",
          "output_type": "stream",
          "text": [
            "Accuracy of Validation set: 0.9285714285714286\n",
            "\n",
            " ------------------------------------------------------------\n"
          ]
        },
        {
          "name": "stderr",
          "output_type": "stream",
          "text": [
            "10: Train Loss: 2.715e-01: : 132it [00:07, 18.58it/s]\n"
          ]
        },
        {
          "name": "stdout",
          "output_type": "stream",
          "text": [
            "Accuracy of Train set: 0.8998809523809523\n"
          ]
        },
        {
          "name": "stderr",
          "output_type": "stream",
          "text": [
            "10: Validation Loss: 1.831e-01: : 33it [00:01, 21.84it/s]\n"
          ]
        },
        {
          "name": "stdout",
          "output_type": "stream",
          "text": [
            "Accuracy of Validation set: 0.9347619047619048\n",
            "\n",
            " ------------------------------------------------------------\n"
          ]
        },
        {
          "name": "stderr",
          "output_type": "stream",
          "text": [
            "11: Train Loss: 2.466e-01: : 132it [00:07, 18.55it/s]\n"
          ]
        },
        {
          "name": "stdout",
          "output_type": "stream",
          "text": [
            "Accuracy of Train set: 0.9098809523809523\n"
          ]
        },
        {
          "name": "stderr",
          "output_type": "stream",
          "text": [
            "11: Validation Loss: 2.016e-01: : 33it [00:01, 22.18it/s]\n"
          ]
        },
        {
          "name": "stdout",
          "output_type": "stream",
          "text": [
            "Accuracy of Validation set: 0.9233333333333333\n",
            "\n",
            " ------------------------------------------------------------\n"
          ]
        },
        {
          "name": "stderr",
          "output_type": "stream",
          "text": [
            "12: Train Loss: 2.433e-01: : 132it [00:06, 18.91it/s]\n"
          ]
        },
        {
          "name": "stdout",
          "output_type": "stream",
          "text": [
            "Accuracy of Train set: 0.9089285714285714\n"
          ]
        },
        {
          "name": "stderr",
          "output_type": "stream",
          "text": [
            "12: Validation Loss: 1.773e-01: : 33it [00:01, 21.37it/s]\n"
          ]
        },
        {
          "name": "stdout",
          "output_type": "stream",
          "text": [
            "Accuracy of Validation set: 0.94\n",
            "\n",
            " ------------------------------------------------------------\n"
          ]
        },
        {
          "name": "stderr",
          "output_type": "stream",
          "text": [
            "13: Train Loss: 2.173e-01: : 132it [00:06, 18.88it/s]\n"
          ]
        },
        {
          "name": "stdout",
          "output_type": "stream",
          "text": [
            "Accuracy of Train set: 0.9198809523809524\n"
          ]
        },
        {
          "name": "stderr",
          "output_type": "stream",
          "text": [
            "13: Validation Loss: 1.844e-01: : 33it [00:01, 22.22it/s]\n"
          ]
        },
        {
          "name": "stdout",
          "output_type": "stream",
          "text": [
            "Accuracy of Validation set: 0.9347619047619048\n",
            "\n",
            " ------------------------------------------------------------\n"
          ]
        },
        {
          "name": "stderr",
          "output_type": "stream",
          "text": [
            "14: Train Loss: 2.019e-01: : 132it [00:07, 18.77it/s]\n"
          ]
        },
        {
          "name": "stdout",
          "output_type": "stream",
          "text": [
            "Accuracy of Train set: 0.9282142857142858\n"
          ]
        },
        {
          "name": "stderr",
          "output_type": "stream",
          "text": [
            "14: Validation Loss: 1.574e-01: : 33it [00:02, 16.07it/s]\n"
          ]
        },
        {
          "name": "stdout",
          "output_type": "stream",
          "text": [
            "Accuracy of Validation set: 0.9452380952380952\n",
            "\n",
            " ------------------------------------------------------------\n"
          ]
        },
        {
          "name": "stderr",
          "output_type": "stream",
          "text": [
            "15: Train Loss: 1.885e-01: : 132it [00:07, 18.85it/s]\n"
          ]
        },
        {
          "name": "stdout",
          "output_type": "stream",
          "text": [
            "Accuracy of Train set: 0.9295238095238095\n"
          ]
        },
        {
          "name": "stderr",
          "output_type": "stream",
          "text": [
            "15: Validation Loss: 1.726e-01: : 33it [00:01, 21.89it/s]\n"
          ]
        },
        {
          "name": "stdout",
          "output_type": "stream",
          "text": [
            "Accuracy of Validation set: 0.9361904761904762\n",
            "\n",
            " ------------------------------------------------------------\n"
          ]
        },
        {
          "name": "stderr",
          "output_type": "stream",
          "text": [
            "16: Train Loss: 2.022e-01: : 132it [00:07, 18.84it/s]\n"
          ]
        },
        {
          "name": "stdout",
          "output_type": "stream",
          "text": [
            "Accuracy of Train set: 0.9263095238095238\n"
          ]
        },
        {
          "name": "stderr",
          "output_type": "stream",
          "text": [
            "16: Validation Loss: 1.559e-01: : 33it [00:01, 22.36it/s]\n"
          ]
        },
        {
          "name": "stdout",
          "output_type": "stream",
          "text": [
            "Accuracy of Validation set: 0.9495238095238095\n",
            "\n",
            " ------------------------------------------------------------\n"
          ]
        },
        {
          "name": "stderr",
          "output_type": "stream",
          "text": [
            "17: Train Loss: 1.900e-01: : 132it [00:07, 18.76it/s]\n"
          ]
        },
        {
          "name": "stdout",
          "output_type": "stream",
          "text": [
            "Accuracy of Train set: 0.9291666666666667\n"
          ]
        },
        {
          "name": "stderr",
          "output_type": "stream",
          "text": [
            "17: Validation Loss: 1.583e-01: : 33it [00:01, 22.41it/s]\n"
          ]
        },
        {
          "name": "stdout",
          "output_type": "stream",
          "text": [
            "Accuracy of Validation set: 0.9471428571428572\n",
            "\n",
            " ------------------------------------------------------------\n"
          ]
        },
        {
          "name": "stderr",
          "output_type": "stream",
          "text": [
            "18: Train Loss: 1.852e-01: : 132it [00:07, 18.79it/s]\n"
          ]
        },
        {
          "name": "stdout",
          "output_type": "stream",
          "text": [
            "Accuracy of Train set: 0.9325\n"
          ]
        },
        {
          "name": "stderr",
          "output_type": "stream",
          "text": [
            "18: Validation Loss: 1.359e-01: : 33it [00:01, 22.11it/s]\n"
          ]
        },
        {
          "name": "stdout",
          "output_type": "stream",
          "text": [
            "Accuracy of Validation set: 0.9523809523809523\n",
            "\n",
            " ------------------------------------------------------------\n"
          ]
        },
        {
          "name": "stderr",
          "output_type": "stream",
          "text": [
            "19: Train Loss: 1.808e-01: : 132it [00:07, 18.82it/s]\n"
          ]
        },
        {
          "name": "stdout",
          "output_type": "stream",
          "text": [
            "Accuracy of Train set: 0.9322619047619047\n"
          ]
        },
        {
          "name": "stderr",
          "output_type": "stream",
          "text": [
            "19: Validation Loss: 1.473e-01: : 33it [00:01, 21.45it/s]\n"
          ]
        },
        {
          "name": "stdout",
          "output_type": "stream",
          "text": [
            "Accuracy of Validation set: 0.9504761904761905\n",
            "\n",
            " ------------------------------------------------------------\n"
          ]
        },
        {
          "name": "stderr",
          "output_type": "stream",
          "text": [
            "20: Train Loss: 1.801e-01: : 132it [00:06, 19.00it/s]\n"
          ]
        },
        {
          "name": "stdout",
          "output_type": "stream",
          "text": [
            "Accuracy of Train set: 0.9326190476190476\n"
          ]
        },
        {
          "name": "stderr",
          "output_type": "stream",
          "text": [
            "20: Validation Loss: 1.396e-01: : 33it [00:01, 22.26it/s]\n"
          ]
        },
        {
          "name": "stdout",
          "output_type": "stream",
          "text": [
            "Accuracy of Validation set: 0.9476190476190476\n",
            "\n",
            " ------------------------------------------------------------\n"
          ]
        },
        {
          "name": "stderr",
          "output_type": "stream",
          "text": [
            "21: Train Loss: 1.657e-01: : 132it [00:06, 18.90it/s]\n"
          ]
        },
        {
          "name": "stdout",
          "output_type": "stream",
          "text": [
            "Accuracy of Train set: 0.9384523809523809\n"
          ]
        },
        {
          "name": "stderr",
          "output_type": "stream",
          "text": [
            "21: Validation Loss: 1.374e-01: : 33it [00:01, 22.20it/s]\n"
          ]
        },
        {
          "name": "stdout",
          "output_type": "stream",
          "text": [
            "Accuracy of Validation set: 0.949047619047619\n",
            "\n",
            " ------------------------------------------------------------\n"
          ]
        },
        {
          "name": "stderr",
          "output_type": "stream",
          "text": [
            "22: Train Loss: 1.767e-01: : 132it [00:07, 18.75it/s]\n"
          ]
        },
        {
          "name": "stdout",
          "output_type": "stream",
          "text": [
            "Accuracy of Train set: 0.9353571428571429\n"
          ]
        },
        {
          "name": "stderr",
          "output_type": "stream",
          "text": [
            "22: Validation Loss: 1.411e-01: : 33it [00:01, 21.68it/s]\n"
          ]
        },
        {
          "name": "stdout",
          "output_type": "stream",
          "text": [
            "Accuracy of Validation set: 0.9480952380952381\n",
            "\n",
            " ------------------------------------------------------------\n"
          ]
        },
        {
          "name": "stderr",
          "output_type": "stream",
          "text": [
            "23: Train Loss: 1.627e-01: : 132it [00:06, 18.92it/s]\n"
          ]
        },
        {
          "name": "stdout",
          "output_type": "stream",
          "text": [
            "Accuracy of Train set: 0.9396428571428571\n"
          ]
        },
        {
          "name": "stderr",
          "output_type": "stream",
          "text": [
            "23: Validation Loss: 1.409e-01: : 33it [00:01, 21.73it/s]\n"
          ]
        },
        {
          "name": "stdout",
          "output_type": "stream",
          "text": [
            "Accuracy of Validation set: 0.9523809523809523\n",
            "\n",
            " ------------------------------------------------------------\n"
          ]
        },
        {
          "name": "stderr",
          "output_type": "stream",
          "text": [
            "24: Train Loss: 1.580e-01: : 132it [00:07, 17.30it/s]\n"
          ]
        },
        {
          "name": "stdout",
          "output_type": "stream",
          "text": [
            "Accuracy of Train set: 0.9438095238095238\n"
          ]
        },
        {
          "name": "stderr",
          "output_type": "stream",
          "text": [
            "24: Validation Loss: 1.188e-01: : 33it [00:01, 21.74it/s]\n"
          ]
        },
        {
          "name": "stdout",
          "output_type": "stream",
          "text": [
            "Accuracy of Validation set: 0.96\n",
            "\n",
            " ------------------------------------------------------------\n"
          ]
        },
        {
          "data": {
            "image/png": "[encoded data removed]",
            "text/plain": [
              "<Figure size 432x288 with 1 Axes>"
            ]
          },
          "metadata": {
            "needs_background": "light"
          },
          "output_type": "display_data"
        },
        {
          "data": {
            "image/png": "[encoded data removed]",
            "text/plain": [
              "<Figure size 432x288 with 1 Axes>"
            ]
          },
          "metadata": {
            "needs_background": "light"
          },
          "output_type": "display_data"
        }
      ],
      "source": [
        "train_losses.clear()\n",
        "val_losses.clear()\n",
        "train_accuracies.clear()\n",
        "val_accuracies.clear()\n",
        "\n",
        "# Training config\n",
        "lr = 0.001\n",
        "conv_layers = [(3, 32, 11, 3), (32, 64, 5), (64, 64, 3), (64, 64, 3)]\n",
        "model = Conv_Model(image_shape, conv_layers, dropout_type='block', dropout_rate=0.4).to(device)\n",
        "criterion = nn.CrossEntropyLoss()\n",
        "optimizer = optim.Adam(model.parameters(), lr=lr)\n",
        "writer = SummaryWriter('/runs/Conv2')\n",
        "model, min_val_loss = train_model(model, [train_loader, val_loader], 25, criterion, optimizer, tensorboard_writer=writer)"
      ]
    },
    {
      "cell_type": "code",
      "execution_count": 64,
      "metadata": {
        "colab": {
          "base_uri": "https://localhost:8080/",
          "height": 401
        },
        "id": "YvJgPKQrnIes",
        "outputId": "53750002-090f-41ee-c59b-979a258fa60f"
      },
      "outputs": [
        {
          "name": "stderr",
          "output_type": "stream",
          "text": [
            ": Test Loss: 1.244e-01: : 71it [00:03, 22.20it/s]\n"
          ]
        },
        {
          "name": "stdout",
          "output_type": "stream",
          "text": [
            "Accuracy of Test set: 0.9542222222222222\n"
          ]
        },
        {
          "data": {
            "text/plain": [
              "{'loss': 0.12436343572205967,\n",
              " 'accuracy': 0.9542222222222222,\n",
              " 'precision': 0.9543783606748679,\n",
              " 'recall': 0.9540862178259092,\n",
              " 'f1': 0.9540394285914457}"
            ]
          },
          "execution_count": 64,
          "metadata": {},
          "output_type": "execute_result"
        },
        {
          "data": {
            "image/png": "[encoded data removed]",
            "text/plain": [
              "<Figure size 432x288 with 2 Axes>"
            ]
          },
          "metadata": {
            "needs_background": "light"
          },
          "output_type": "display_data"
        }
      ],
      "source": [
        "test_results = one_epoch(model, test_loader, criterion, train=False, set_name='Test', metrics=metrics)\n",
        "disp = ConfusionMatrixDisplay(test_results.pop('confusion_matrix'), display_labels=dataset.target_names)\n",
        "disp.plot()\n",
        "test_results"
      ]
    },
    {
      "cell_type": "code",
      "execution_count": 65,
      "metadata": {
        "colab": {
          "base_uri": "https://localhost:8080/"
        },
        "id": "VdLZ_o3CnIet",
        "outputId": "e9278c63-9878-4092-ec2c-faf9ec1ce9e9"
      },
      "outputs": [
        {
          "name": "stdout",
          "output_type": "stream",
          "text": [
            "Number of parameters: 149443\n"
          ]
        }
      ],
      "source": [
        "print(f'Number of parameters: {sum(p.numel() for p in model.parameters() if p.requires_grad)}')"
      ]
    },
    {
      "attachments": {},
      "cell_type": "markdown",
      "metadata": {},
      "source": [
        "Tensorboard Results:"
      ]
    },
    {
      "attachments": {},
      "cell_type": "markdown",
      "metadata": {
        "id": "sP_Uo6BgnIeu"
      },
      "source": [
        "![Conv2-tensorboard](Images/Conv2-tensorboard.png)"
      ]
    },
    {
      "cell_type": "markdown",
      "metadata": {
        "id": "C8acrqoLnIez"
      },
      "source": [
        "# Kernel Factorization"
      ]
    },
    {
      "cell_type": "code",
      "execution_count": 78,
      "metadata": {
        "colab": {
          "base_uri": "https://localhost:8080/",
          "height": 1000
        },
        "id": "sBByrLDMnIez",
        "outputId": "a7535f34-4120-42ed-e9e9-85b8ae006e57"
      },
      "outputs": [
        {
          "name": "stderr",
          "output_type": "stream",
          "text": [
            "0: Train Loss: 6.857e-01: : 132it [00:10, 12.37it/s]\n"
          ]
        },
        {
          "name": "stdout",
          "output_type": "stream",
          "text": [
            "Accuracy of Train set: 0.6839285714285714\n"
          ]
        },
        {
          "name": "stderr",
          "output_type": "stream",
          "text": [
            "0: Validation Loss: 4.507e-01: : 33it [00:01, 19.77it/s]\n"
          ]
        },
        {
          "name": "stdout",
          "output_type": "stream",
          "text": [
            "Accuracy of Validation set: 0.8219047619047619\n",
            "\n",
            " ------------------------------------------------------------\n"
          ]
        },
        {
          "name": "stderr",
          "output_type": "stream",
          "text": [
            "1: Train Loss: 4.593e-01: : 132it [00:10, 12.55it/s]\n"
          ]
        },
        {
          "name": "stdout",
          "output_type": "stream",
          "text": [
            "Accuracy of Train set: 0.8154761904761905\n"
          ]
        },
        {
          "name": "stderr",
          "output_type": "stream",
          "text": [
            "1: Validation Loss: 3.648e-01: : 33it [00:01, 19.95it/s]\n"
          ]
        },
        {
          "name": "stdout",
          "output_type": "stream",
          "text": [
            "Accuracy of Validation set: 0.8685714285714285\n",
            "\n",
            " ------------------------------------------------------------\n"
          ]
        },
        {
          "name": "stderr",
          "output_type": "stream",
          "text": [
            "2: Train Loss: 3.959e-01: : 132it [00:10, 12.50it/s]\n"
          ]
        },
        {
          "name": "stdout",
          "output_type": "stream",
          "text": [
            "Accuracy of Train set: 0.8483333333333334\n"
          ]
        },
        {
          "name": "stderr",
          "output_type": "stream",
          "text": [
            "2: Validation Loss: 2.881e-01: : 33it [00:01, 19.65it/s]\n"
          ]
        },
        {
          "name": "stdout",
          "output_type": "stream",
          "text": [
            "Accuracy of Validation set: 0.8985714285714286\n",
            "\n",
            " ------------------------------------------------------------\n"
          ]
        },
        {
          "name": "stderr",
          "output_type": "stream",
          "text": [
            "3: Train Loss: 3.307e-01: : 132it [00:10, 12.66it/s]\n"
          ]
        },
        {
          "name": "stdout",
          "output_type": "stream",
          "text": [
            "Accuracy of Train set: 0.8807142857142857\n"
          ]
        },
        {
          "name": "stderr",
          "output_type": "stream",
          "text": [
            "3: Validation Loss: 3.751e-01: : 33it [00:01, 19.79it/s]\n"
          ]
        },
        {
          "name": "stdout",
          "output_type": "stream",
          "text": [
            "Accuracy of Validation set: 0.8857142857142857\n",
            "\n",
            " ------------------------------------------------------------\n"
          ]
        },
        {
          "name": "stderr",
          "output_type": "stream",
          "text": [
            "4: Train Loss: 2.841e-01: : 132it [00:10, 12.70it/s]\n"
          ]
        },
        {
          "name": "stdout",
          "output_type": "stream",
          "text": [
            "Accuracy of Train set: 0.8980952380952381\n"
          ]
        },
        {
          "name": "stderr",
          "output_type": "stream",
          "text": [
            "4: Validation Loss: 2.357e-01: : 33it [00:01, 19.88it/s]\n"
          ]
        },
        {
          "name": "stdout",
          "output_type": "stream",
          "text": [
            "Accuracy of Validation set: 0.9238095238095239\n",
            "\n",
            " ------------------------------------------------------------\n"
          ]
        },
        {
          "name": "stderr",
          "output_type": "stream",
          "text": [
            "5: Train Loss: 2.358e-01: : 132it [00:11, 11.53it/s]\n"
          ]
        },
        {
          "name": "stdout",
          "output_type": "stream",
          "text": [
            "Accuracy of Train set: 0.915\n"
          ]
        },
        {
          "name": "stderr",
          "output_type": "stream",
          "text": [
            "5: Validation Loss: 2.114e-01: : 33it [00:01, 19.96it/s]\n"
          ]
        },
        {
          "name": "stdout",
          "output_type": "stream",
          "text": [
            "Accuracy of Validation set: 0.9228571428571428\n",
            "\n",
            " ------------------------------------------------------------\n"
          ]
        },
        {
          "name": "stderr",
          "output_type": "stream",
          "text": [
            "6: Train Loss: 2.288e-01: : 132it [00:10, 12.62it/s]\n"
          ]
        },
        {
          "name": "stdout",
          "output_type": "stream",
          "text": [
            "Accuracy of Train set: 0.9171428571428571\n"
          ]
        },
        {
          "name": "stderr",
          "output_type": "stream",
          "text": [
            "6: Validation Loss: 1.833e-01: : 33it [00:01, 19.81it/s]\n"
          ]
        },
        {
          "name": "stdout",
          "output_type": "stream",
          "text": [
            "Accuracy of Validation set: 0.9414285714285714\n",
            "\n",
            " ------------------------------------------------------------\n"
          ]
        },
        {
          "name": "stderr",
          "output_type": "stream",
          "text": [
            "7: Train Loss: 2.012e-01: : 132it [00:10, 12.62it/s]\n"
          ]
        },
        {
          "name": "stdout",
          "output_type": "stream",
          "text": [
            "Accuracy of Train set: 0.9278571428571428\n"
          ]
        },
        {
          "name": "stderr",
          "output_type": "stream",
          "text": [
            "7: Validation Loss: 2.213e-01: : 33it [00:01, 19.76it/s]\n"
          ]
        },
        {
          "name": "stdout",
          "output_type": "stream",
          "text": [
            "Accuracy of Validation set: 0.9195238095238095\n",
            "\n",
            " ------------------------------------------------------------\n"
          ]
        },
        {
          "name": "stderr",
          "output_type": "stream",
          "text": [
            "8: Train Loss: 1.989e-01: : 132it [00:10, 12.03it/s]\n"
          ]
        },
        {
          "name": "stdout",
          "output_type": "stream",
          "text": [
            "Accuracy of Train set: 0.9254761904761905\n"
          ]
        },
        {
          "name": "stderr",
          "output_type": "stream",
          "text": [
            "8: Validation Loss: 1.794e-01: : 33it [00:01, 18.79it/s]\n"
          ]
        },
        {
          "name": "stdout",
          "output_type": "stream",
          "text": [
            "Accuracy of Validation set: 0.9385714285714286\n",
            "\n",
            " ------------------------------------------------------------\n"
          ]
        },
        {
          "name": "stderr",
          "output_type": "stream",
          "text": [
            "9: Train Loss: 1.798e-01: : 132it [00:10, 12.55it/s]\n"
          ]
        },
        {
          "name": "stdout",
          "output_type": "stream",
          "text": [
            "Accuracy of Train set: 0.934404761904762\n"
          ]
        },
        {
          "name": "stderr",
          "output_type": "stream",
          "text": [
            "9: Validation Loss: 1.557e-01: : 33it [00:01, 19.23it/s]\n"
          ]
        },
        {
          "name": "stdout",
          "output_type": "stream",
          "text": [
            "Accuracy of Validation set: 0.9438095238095238\n",
            "\n",
            " ------------------------------------------------------------\n"
          ]
        },
        {
          "name": "stderr",
          "output_type": "stream",
          "text": [
            "10: Train Loss: 1.990e-01: : 132it [00:10, 12.60it/s]\n"
          ]
        },
        {
          "name": "stdout",
          "output_type": "stream",
          "text": [
            "Accuracy of Train set: 0.9269047619047619\n"
          ]
        },
        {
          "name": "stderr",
          "output_type": "stream",
          "text": [
            "10: Validation Loss: 2.497e-01: : 33it [00:01, 19.90it/s]\n"
          ]
        },
        {
          "name": "stdout",
          "output_type": "stream",
          "text": [
            "Accuracy of Validation set: 0.9204761904761904\n",
            "\n",
            " ------------------------------------------------------------\n"
          ]
        },
        {
          "name": "stderr",
          "output_type": "stream",
          "text": [
            "11: Train Loss: 1.878e-01: : 132it [00:10, 12.49it/s]\n"
          ]
        },
        {
          "name": "stdout",
          "output_type": "stream",
          "text": [
            "Accuracy of Train set: 0.9332142857142857\n"
          ]
        },
        {
          "name": "stderr",
          "output_type": "stream",
          "text": [
            "11: Validation Loss: 1.460e-01: : 33it [00:01, 19.86it/s]\n"
          ]
        },
        {
          "name": "stdout",
          "output_type": "stream",
          "text": [
            "Accuracy of Validation set: 0.950952380952381\n",
            "\n",
            " ------------------------------------------------------------\n"
          ]
        },
        {
          "name": "stderr",
          "output_type": "stream",
          "text": [
            "12: Train Loss: 1.731e-01: : 132it [00:10, 12.59it/s]\n"
          ]
        },
        {
          "name": "stdout",
          "output_type": "stream",
          "text": [
            "Accuracy of Train set: 0.9370238095238095\n"
          ]
        },
        {
          "name": "stderr",
          "output_type": "stream",
          "text": [
            "12: Validation Loss: 1.613e-01: : 33it [00:01, 19.03it/s]\n"
          ]
        },
        {
          "name": "stdout",
          "output_type": "stream",
          "text": [
            "Accuracy of Validation set: 0.9461904761904761\n",
            "\n",
            " ------------------------------------------------------------\n"
          ]
        },
        {
          "name": "stderr",
          "output_type": "stream",
          "text": [
            "13: Train Loss: 1.489e-01: : 132it [00:10, 12.40it/s]\n"
          ]
        },
        {
          "name": "stdout",
          "output_type": "stream",
          "text": [
            "Accuracy of Train set: 0.9472619047619047\n"
          ]
        },
        {
          "name": "stderr",
          "output_type": "stream",
          "text": [
            "13: Validation Loss: 1.718e-01: : 33it [00:01, 19.55it/s]\n"
          ]
        },
        {
          "name": "stdout",
          "output_type": "stream",
          "text": [
            "Accuracy of Validation set: 0.9395238095238095\n",
            "\n",
            " ------------------------------------------------------------\n"
          ]
        },
        {
          "name": "stderr",
          "output_type": "stream",
          "text": [
            "14: Train Loss: 1.319e-01: : 132it [00:10, 12.58it/s]\n"
          ]
        },
        {
          "name": "stdout",
          "output_type": "stream",
          "text": [
            "Accuracy of Train set: 0.9529761904761904\n"
          ]
        },
        {
          "name": "stderr",
          "output_type": "stream",
          "text": [
            "14: Validation Loss: 1.470e-01: : 33it [00:01, 19.16it/s]\n"
          ]
        },
        {
          "name": "stdout",
          "output_type": "stream",
          "text": [
            "Accuracy of Validation set: 0.9566666666666667\n",
            "\n",
            " ------------------------------------------------------------\n"
          ]
        },
        {
          "name": "stderr",
          "output_type": "stream",
          "text": [
            "15: Train Loss: 1.293e-01: : 132it [00:10, 12.53it/s]\n"
          ]
        },
        {
          "name": "stdout",
          "output_type": "stream",
          "text": [
            "Accuracy of Train set: 0.9532142857142857\n"
          ]
        },
        {
          "name": "stderr",
          "output_type": "stream",
          "text": [
            "15: Validation Loss: 1.769e-01: : 33it [00:01, 19.81it/s]\n"
          ]
        },
        {
          "name": "stdout",
          "output_type": "stream",
          "text": [
            "Accuracy of Validation set: 0.9466666666666667\n",
            "\n",
            " ------------------------------------------------------------\n"
          ]
        },
        {
          "name": "stderr",
          "output_type": "stream",
          "text": [
            "16: Train Loss: 1.374e-01: : 132it [00:10, 12.63it/s]\n"
          ]
        },
        {
          "name": "stdout",
          "output_type": "stream",
          "text": [
            "Accuracy of Train set: 0.9529761904761904\n"
          ]
        },
        {
          "name": "stderr",
          "output_type": "stream",
          "text": [
            "16: Validation Loss: 1.451e-01: : 33it [00:01, 19.83it/s]\n"
          ]
        },
        {
          "name": "stdout",
          "output_type": "stream",
          "text": [
            "Accuracy of Validation set: 0.9528571428571428\n",
            "\n",
            " ------------------------------------------------------------\n"
          ]
        },
        {
          "name": "stderr",
          "output_type": "stream",
          "text": [
            "17: Train Loss: 1.149e-01: : 132it [00:10, 12.52it/s]\n"
          ]
        },
        {
          "name": "stdout",
          "output_type": "stream",
          "text": [
            "Accuracy of Train set: 0.9586904761904762\n"
          ]
        },
        {
          "name": "stderr",
          "output_type": "stream",
          "text": [
            "17: Validation Loss: 1.496e-01: : 33it [00:01, 19.33it/s]\n"
          ]
        },
        {
          "name": "stdout",
          "output_type": "stream",
          "text": [
            "Accuracy of Validation set: 0.9538095238095238\n",
            "\n",
            " ------------------------------------------------------------\n"
          ]
        },
        {
          "name": "stderr",
          "output_type": "stream",
          "text": [
            "18: Train Loss: 1.154e-01: : 132it [00:10, 12.61it/s]\n"
          ]
        },
        {
          "name": "stdout",
          "output_type": "stream",
          "text": [
            "Accuracy of Train set: 0.9591666666666666\n"
          ]
        },
        {
          "name": "stderr",
          "output_type": "stream",
          "text": [
            "18: Validation Loss: 1.483e-01: : 33it [00:01, 19.52it/s]\n"
          ]
        },
        {
          "name": "stdout",
          "output_type": "stream",
          "text": [
            "Accuracy of Validation set: 0.9580952380952381\n",
            "\n",
            " ------------------------------------------------------------\n"
          ]
        },
        {
          "name": "stderr",
          "output_type": "stream",
          "text": [
            "19: Train Loss: 1.051e-01: : 132it [00:10, 12.52it/s]\n"
          ]
        },
        {
          "name": "stdout",
          "output_type": "stream",
          "text": [
            "Accuracy of Train set: 0.9629761904761904\n"
          ]
        },
        {
          "name": "stderr",
          "output_type": "stream",
          "text": [
            "19: Validation Loss: 1.421e-01: : 33it [00:01, 19.71it/s]\n"
          ]
        },
        {
          "name": "stdout",
          "output_type": "stream",
          "text": [
            "Accuracy of Validation set: 0.9561904761904761\n",
            "\n",
            " ------------------------------------------------------------\n"
          ]
        },
        {
          "name": "stderr",
          "output_type": "stream",
          "text": [
            "20: Train Loss: 1.171e-01: : 132it [00:10, 12.47it/s]\n"
          ]
        },
        {
          "name": "stdout",
          "output_type": "stream",
          "text": [
            "Accuracy of Train set: 0.9567857142857142\n"
          ]
        },
        {
          "name": "stderr",
          "output_type": "stream",
          "text": [
            "20: Validation Loss: 1.492e-01: : 33it [00:01, 19.74it/s]\n"
          ]
        },
        {
          "name": "stdout",
          "output_type": "stream",
          "text": [
            "Accuracy of Validation set: 0.9519047619047619\n",
            "\n",
            " ------------------------------------------------------------\n"
          ]
        },
        {
          "name": "stderr",
          "output_type": "stream",
          "text": [
            "21: Train Loss: 1.073e-01: : 132it [00:10, 12.45it/s]\n"
          ]
        },
        {
          "name": "stdout",
          "output_type": "stream",
          "text": [
            "Accuracy of Train set: 0.9613095238095238\n"
          ]
        },
        {
          "name": "stderr",
          "output_type": "stream",
          "text": [
            "21: Validation Loss: 1.554e-01: : 33it [00:01, 19.24it/s]\n"
          ]
        },
        {
          "name": "stdout",
          "output_type": "stream",
          "text": [
            "Accuracy of Validation set: 0.9571428571428572\n",
            "\n",
            " ------------------------------------------------------------\n"
          ]
        },
        {
          "name": "stderr",
          "output_type": "stream",
          "text": [
            "22: Train Loss: 1.162e-01: : 132it [00:10, 12.28it/s]\n"
          ]
        },
        {
          "name": "stdout",
          "output_type": "stream",
          "text": [
            "Accuracy of Train set: 0.9575\n"
          ]
        },
        {
          "name": "stderr",
          "output_type": "stream",
          "text": [
            "22: Validation Loss: 1.407e-01: : 33it [00:01, 18.82it/s]\n"
          ]
        },
        {
          "name": "stdout",
          "output_type": "stream",
          "text": [
            "Accuracy of Validation set: 0.9604761904761905\n",
            "\n",
            " ------------------------------------------------------------\n"
          ]
        },
        {
          "name": "stderr",
          "output_type": "stream",
          "text": [
            "23: Train Loss: 9.234e-02: : 132it [00:10, 12.45it/s]\n"
          ]
        },
        {
          "name": "stdout",
          "output_type": "stream",
          "text": [
            "Accuracy of Train set: 0.9670238095238095\n"
          ]
        },
        {
          "name": "stderr",
          "output_type": "stream",
          "text": [
            "23: Validation Loss: 1.615e-01: : 33it [00:01, 19.39it/s]\n"
          ]
        },
        {
          "name": "stdout",
          "output_type": "stream",
          "text": [
            "Accuracy of Validation set: 0.9585714285714285\n",
            "\n",
            " ------------------------------------------------------------\n"
          ]
        },
        {
          "name": "stderr",
          "output_type": "stream",
          "text": [
            "24: Train Loss: 1.070e-01: : 132it [00:10, 12.54it/s]\n"
          ]
        },
        {
          "name": "stdout",
          "output_type": "stream",
          "text": [
            "Accuracy of Train set: 0.9617857142857142\n"
          ]
        },
        {
          "name": "stderr",
          "output_type": "stream",
          "text": [
            "24: Validation Loss: 1.881e-01: : 33it [00:01, 19.08it/s]\n"
          ]
        },
        {
          "name": "stdout",
          "output_type": "stream",
          "text": [
            "Accuracy of Validation set: 0.9476190476190476\n",
            "\n",
            " ------------------------------------------------------------\n"
          ]
        },
        {
          "data": {
            "image/png": "[encoded data removed]",
            "text/plain": [
              "<Figure size 432x288 with 1 Axes>"
            ]
          },
          "metadata": {
            "needs_background": "light"
          },
          "output_type": "display_data"
        },
        {
          "data": {
            "image/png": "[encoded data removed]",
            "text/plain": [
              "<Figure size 432x288 with 1 Axes>"
            ]
          },
          "metadata": {
            "needs_background": "light"
          },
          "output_type": "display_data"
        }
      ],
      "source": [
        "train_losses.clear()\n",
        "val_losses.clear()\n",
        "train_accuracies.clear()\n",
        "val_accuracies.clear()\n",
        "\n",
        "# Training config\n",
        "lr = 0.001\n",
        "conv_layers = [(3, 32, 11), (32, 64, 5), (64, 64, 3), (64, 64, 3)]\n",
        "model = Conv_Model(image_shape, conv_layers, dropout_type='block', dropout_rate=0.4, kernel_factorization=True).to(device)\n",
        "criterion = nn.CrossEntropyLoss()\n",
        "optimizer = optim.Adam(model.parameters(), lr=lr)\n",
        "writer = SummaryWriter('/runs/Conv3')\n",
        "model, min_val_loss = train_model(model, [train_loader, val_loader], 25, criterion, optimizer, tensorboard_writer=writer)"
      ]
    },
    {
      "cell_type": "code",
      "execution_count": 80,
      "metadata": {
        "colab": {
          "base_uri": "https://localhost:8080/",
          "height": 401
        },
        "id": "t6UAgfw0nIe0",
        "outputId": "7ca749c0-bce2-40a3-8b6f-11fe7a60d04d"
      },
      "outputs": [
        {
          "name": "stderr",
          "output_type": "stream",
          "text": [
            ": Test Loss: 1.569e-01: : 71it [00:04, 17.74it/s]\n"
          ]
        },
        {
          "name": "stdout",
          "output_type": "stream",
          "text": [
            "Accuracy of Test set: 0.9528888888888889\n"
          ]
        },
        {
          "data": {
            "text/plain": [
              "{'loss': 0.15688251818550958,\n",
              " 'accuracy': 0.9528888888888889,\n",
              " 'precision': 0.9531167185805703,\n",
              " 'recall': 0.9529011723708578,\n",
              " 'f1': 0.9528737654960168}"
            ]
          },
          "execution_count": 80,
          "metadata": {},
          "output_type": "execute_result"
        },
        {
          "data": {
            "image/png": "[encoded data removed]",
            "text/plain": [
              "<Figure size 432x288 with 2 Axes>"
            ]
          },
          "metadata": {
            "needs_background": "light"
          },
          "output_type": "display_data"
        }
      ],
      "source": [
        "test_results = one_epoch(model, test_loader, criterion, train=False, set_name='Test', metrics=metrics)\n",
        "disp = ConfusionMatrixDisplay(test_results.pop('confusion_matrix'), display_labels=dataset.target_names)\n",
        "disp.plot()\n",
        "test_results"
      ]
    },
    {
      "cell_type": "code",
      "execution_count": 81,
      "metadata": {
        "colab": {
          "base_uri": "https://localhost:8080/"
        },
        "id": "_64MkbDTnIe1",
        "outputId": "5b62b7e3-0b72-4854-a525-983231895772"
      },
      "outputs": [
        {
          "name": "stdout",
          "output_type": "stream",
          "text": [
            "Number of parameters: 381411\n"
          ]
        }
      ],
      "source": [
        "print(f'Number of parameters: {sum(p.numel() for p in model.parameters() if p.requires_grad)}')"
      ]
    },
    {
      "attachments": {},
      "cell_type": "markdown",
      "metadata": {},
      "source": [
        "Note: the reason behind its higher number of parameters than simple convolutional model is that they had a stride of 3 in their first conv layer, which reduced the number of parameters significantly.  \n",
        "But we can't use stride in this model as simply as that, and I didn't used it in this model.  \n",
        "If simple convolutional model had a stride of 3 in its first conv layer, it would have had 425539 parameters:"
      ]
    },
    {
      "cell_type": "code",
      "execution_count": 22,
      "metadata": {},
      "outputs": [
        {
          "name": "stdout",
          "output_type": "stream",
          "text": [
            "Number of parameters: 425539\n"
          ]
        }
      ],
      "source": [
        "device = 'cpu'\n",
        "conv_layers = [(3, 32, 11), (32, 64, 5), (64, 64, 3), (64, 64, 3)]\n",
        "model = Conv_Model(image_shape, conv_layers, dropout_rate=0.4, kernel_factorization=False).to(device)\n",
        "print(f'Number of parameters: {sum(p.numel() for p in model.parameters() if p.requires_grad)}')"
      ]
    },
    {
      "attachments": {},
      "cell_type": "markdown",
      "metadata": {},
      "source": [
        "This approach can be used to reduce the number of parameters in this model, for using in devices with limited processing power, such as mobile phones, and still achieve good results."
      ]
    },
    {
      "attachments": {},
      "cell_type": "markdown",
      "metadata": {},
      "source": [
        "Tensorboard Results:"
      ]
    },
    {
      "attachments": {},
      "cell_type": "markdown",
      "metadata": {
        "id": "J1eDg8ZgnIe2"
      },
      "source": [
        "![Conv3-tensorboard](Images/Conv3-tensorboard.png)"
      ]
    },
    {
      "cell_type": "code",
      "execution_count": null,
      "metadata": {
        "id": "Ucm6QPnT3YRK"
      },
      "outputs": [],
      "source": [
        "!zip -r runs.zip runs"
      ]
    }
  ],
  "metadata": {
    "accelerator": "GPU",
    "colab": {
      "collapsed_sections": [
        "RmMDUWQEnIer"
      ],
      "provenance": []
    },
    "gpuClass": "standard",
    "kernelspec": {
      "display_name": "Python 3",
      "language": "python",
      "name": "python3"
    },
    "language_info": {
      "codemirror_mode": {
        "name": "ipython",
        "version": 3
      },
      "file_extension": ".py",
      "mimetype": "text/x-python",
      "name": "python",
      "nbconvert_exporter": "python",
      "pygments_lexer": "ipython3",
      "version": "3.9.7"
    },
    "orig_nbformat": 4,
    "vscode": {
      "interpreter": {
        "hash": "11938c6bc6919ae2720b4d5011047913343b08a43b18698fd82dedb0d4417594"
      }
    }
  },
  "nbformat": 4,
  "nbformat_minor": 0
}
