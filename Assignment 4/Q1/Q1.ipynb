{
  "cells": [
    {
      "cell_type": "code",
      "execution_count": 1,
      "metadata": {
        "colab": {
          "base_uri": "https://localhost:8080/"
        },
        "id": "hmhhoLkHOm4_",
        "outputId": "6cdb2e92-786c-4a0d-b6df-f869a3788b06"
      },
      "outputs": [
        {
          "name": "stdout",
          "output_type": "stream",
          "text": [
            "Cloning into 'DeepLearningAssignments'...\n",
            "remote: Enumerating objects: 164, done.\u001b[K\n",
            "remote: Counting objects: 100% (80/80), done.\u001b[K\n",
            "remote: Compressing objects: 100% (59/59), done.\u001b[K\n",
            "remote: Total 164 (delta 12), reused 77 (delta 10), pack-reused 84\u001b[K\n",
            "Receiving objects: 100% (164/164), 88.52 MiB | 17.74 MiB/s, done.\n",
            "Resolving deltas: 100% (32/32), done.\n"
          ]
        }
      ],
      "source": [
        "!git clone https://github.com/a80-abbasi/DeepLearningAssignments.git"
      ]
    },
    {
      "cell_type": "code",
      "execution_count": 2,
      "metadata": {
        "colab": {
          "base_uri": "https://localhost:8080/"
        },
        "id": "zbw8TmEQOpuu",
        "outputId": "abc3980b-e06a-4185-a251-7961baa63034"
      },
      "outputs": [
        {
          "name": "stdout",
          "output_type": "stream",
          "text": [
            "/content/DeepLearningAssignments/Assignment 4/Q1\n"
          ]
        }
      ],
      "source": [
        "%cd \"DeepLearningAssignments/Assignment 4/Q1\""
      ]
    },
    {
      "cell_type": "markdown",
      "metadata": {
        "id": "cbz9l6DDOlHK"
      },
      "source": [
        "# Preparing Data"
      ]
    },
    {
      "cell_type": "code",
      "execution_count": 3,
      "metadata": {
        "colab": {
          "base_uri": "https://localhost:8080/"
        },
        "id": "yFjgbNNVO38W",
        "outputId": "e57874b1-8b9a-490d-ca90-f7b6827ae9a7"
      },
      "outputs": [
        {
          "name": "stdout",
          "output_type": "stream",
          "text": [
            "Looking in indexes: https://pypi.org/simple, https://us-python.pkg.dev/colab-wheels/public/simple/\n",
            "Collecting hazm\n",
            "  Downloading hazm-0.7.0-py3-none-any.whl (316 kB)\n",
            "\u001b[2K     \u001b[90m━━━━━━━━━━━━━━━━━━━━━━━━━━━━━━━━━━━━━━\u001b[0m \u001b[32m316.7/316.7 KB\u001b[0m \u001b[31m23.9 MB/s\u001b[0m eta \u001b[36m0:00:00\u001b[0m\n",
            "\u001b[?25hCollecting nltk==3.3\n",
            "  Downloading nltk-3.3.0.zip (1.4 MB)\n",
            "\u001b[2K     \u001b[90m━━━━━━━━━━━━━━━━━━━━━━━━━━━━━━━━━━━━━━━━\u001b[0m \u001b[32m1.4/1.4 MB\u001b[0m \u001b[31m82.3 MB/s\u001b[0m eta \u001b[36m0:00:00\u001b[0m\n",
            "\u001b[?25h  Preparing metadata (setup.py) ... \u001b[?25l\u001b[?25hdone\n",
            "Collecting libwapiti>=0.2.1\n",
            "  Downloading libwapiti-0.2.1.tar.gz (233 kB)\n",
            "\u001b[2K     \u001b[90m━━━━━━━━━━━━━━━━━━━━━━━━━━━━━━━━━━━━━━\u001b[0m \u001b[32m233.6/233.6 KB\u001b[0m \u001b[31m25.6 MB/s\u001b[0m eta \u001b[36m0:00:00\u001b[0m\n",
            "\u001b[?25h  Preparing metadata (setup.py) ... \u001b[?25l\u001b[?25hdone\n",
            "Requirement already satisfied: six in /usr/local/lib/python3.8/dist-packages (from nltk==3.3->hazm) (1.15.0)\n",
            "Building wheels for collected packages: nltk, libwapiti\n",
            "  Building wheel for nltk (setup.py) ... \u001b[?25l\u001b[?25hdone\n",
            "  Created wheel for nltk: filename=nltk-3.3-py3-none-any.whl size=1394484 sha256=edd49df9c04be4f004ff0a10a73dd237c3e3b37ebc5c4e8cb3fb4d6b2056c971\n",
            "  Stored in directory: /root/.cache/pip/wheels/19/1d/3a/0a8c14c30132b4f9ffd796efbb6746f15b3d6bcfc1055a9346\n",
            "  Building wheel for libwapiti (setup.py) ... \u001b[?25l\u001b[?25hdone\n",
            "  Created wheel for libwapiti: filename=libwapiti-0.2.1-cp38-cp38-linux_x86_64.whl size=180795 sha256=0fb96ea1ce352cc152b611677b438d9abb98a22ac2529df52d7052dc9827abfa\n",
            "  Stored in directory: /root/.cache/pip/wheels/3c/d8/9f/59fd78b2b7d1e9ffcb68fb6de80c2e7c20b804c8cbc4d8fc23\n",
            "Successfully built nltk libwapiti\n",
            "Installing collected packages: nltk, libwapiti, hazm\n",
            "  Attempting uninstall: nltk\n",
            "    Found existing installation: nltk 3.7\n",
            "    Uninstalling nltk-3.7:\n",
            "      Successfully uninstalled nltk-3.7\n",
            "Successfully installed hazm-0.7.0 libwapiti-0.2.1 nltk-3.3\n"
          ]
        }
      ],
      "source": [
        "!pip install hazm"
      ]
    },
    {
      "cell_type": "code",
      "execution_count": 4,
      "metadata": {
        "id": "dhKBFQ_LOlHM"
      },
      "outputs": [],
      "source": [
        "from hazm import *\n",
        "import string\n",
        "import os\n",
        "from pathlib import Path\n",
        "import numpy as np"
      ]
    },
    {
      "cell_type": "code",
      "execution_count": 5,
      "metadata": {
        "colab": {
          "base_uri": "https://localhost:8080/"
        },
        "id": "T_bCl_htOlHN",
        "outputId": "1e7d40c4-6d2c-431e-9f17-eda5abb035cc"
      },
      "outputs": [
        {
          "data": {
            "text/plain": [
              "99217"
            ]
          },
          "execution_count": 5,
          "metadata": {},
          "output_type": "execute_result"
        }
      ],
      "source": [
        "with open('ferdousi.txt', 'r', encoding='utf-8') as f:\n",
        "    half_verses = f.read()\n",
        "    half_verses = half_verses.split('\\n')[2:]\n",
        "len(half_verses)"
      ]
    },
    {
      "cell_type": "markdown",
      "metadata": {
        "id": "VY193AF73zMN"
      },
      "source": [
        "I'm gonna train on Mesra's instead of Beits, since the Beits in the data are not in correct order."
      ]
    },
    {
      "cell_type": "code",
      "execution_count": 6,
      "metadata": {
        "colab": {
          "base_uri": "https://localhost:8080/"
        },
        "id": "OYMNQ8K9OlHO",
        "outputId": "1c9dd811-6d98-470c-e7ef-c0d3e7b3864b"
      },
      "outputs": [
        {
          "data": {
            "text/plain": [
              "99216"
            ]
          },
          "execution_count": 6,
          "metadata": {},
          "output_type": "execute_result"
        }
      ],
      "source": [
        "# # to remove the last Mesra\n",
        "half_verses = half_verses[:-1]\n",
        "# verses = []\n",
        "# for i in range(0, len(half_verses), 2):\n",
        "#     verses.append(f'{half_verses[i]} {half_verses[i+1]}')\n",
        "verses = half_verses\n",
        "len(verses)"
      ]
    },
    {
      "cell_type": "code",
      "execution_count": 7,
      "metadata": {
        "id": "2-HQSh4iOlHP"
      },
      "outputs": [],
      "source": [
        "stopwords = []\n",
        "replace_dict = {}\n",
        "punctuations = '\\.:!،؛؟»\\]\\)\\}«\\[\\(\\{' + string.punctuation\n",
        "\n",
        "with open('stopwords.txt', 'r', encoding='utf-8') as f:\n",
        "    var = f.readline()\n",
        "    while var:\n",
        "        stopwords.append(var.strip())\n",
        "        var = f.readline()\n",
        "\n",
        "with open('replace.txt', 'r', encoding='utf-8') as f:\n",
        "    line = f.readline()\n",
        "    while line:\n",
        "        key, value = line.split('-')\n",
        "        key, value = key.strip(), value.strip()\n",
        "        replace_dict[f'{key}'] = f'{value}'\n",
        "        line = f.readline()"
      ]
    },
    {
      "cell_type": "code",
      "execution_count": 8,
      "metadata": {
        "id": "MetWhRQnOlHV"
      },
      "outputs": [],
      "source": [
        "normalizer = Normalizer()\n",
        "stemmer = Stemmer()\n",
        "lemmatizer = Lemmatizer()\n",
        "\n",
        "def replace_function(string):\n",
        "    if string in replace_dict:\n",
        "      return replace_dict[string]\n",
        "    return string\n",
        "\n",
        "def sent_pre_process(sentence, normalize=True, remove_stopwords=False, stemme=False, lemmatize=True, replace=True, remove_punctuations=True, is_first=True):\n",
        "\n",
        "    # replace some charachters\n",
        "    replace_char = {'هٔ': 'ه',\n",
        "                    'ۀ' : 'ه',\n",
        "                    'ه‌ی' : 'ه'}\n",
        "    \n",
        "    if remove_punctuations:\n",
        "      for char in punctuations:\n",
        "        replace_char[char] = \" \"\n",
        "\n",
        "    for key, value in replace_char.items():\n",
        "        sentence = sentence.replace(key, value)\n",
        "\n",
        "    if normalize:\n",
        "        sentence = normalizer.normalize(sentence)\n",
        "    if stemme:\n",
        "        sentence = stemmer.stemme(sentence)\n",
        "    if lemmatize:\n",
        "        sentence = lemmatizer.lemmatize(sentence)\n",
        "    \n",
        "\n",
        "    tokens = word_tokenize(sentence)\n",
        "    \n",
        "    if replace:\n",
        "        tokens = [replace_function(token) for token in tokens]\n",
        "    if remove_stopwords:\n",
        "        tokens = [token for token in tokens if token not in stopwords]\n",
        "    \n",
        "    if is_first:\n",
        "        return sent_pre_process(\" \".join(tokens), normalize, remove_stopwords, stemme, lemmatize, replace, remove_punctuations, False)\n",
        "    \n",
        "    return tokens"
      ]
    },
    {
      "cell_type": "code",
      "execution_count": 9,
      "metadata": {
        "id": "j8jQuNxUOlHV"
      },
      "outputs": [],
      "source": [
        "processed_verses = [sent_pre_process(verse) for verse in verses]"
      ]
    },
    {
      "cell_type": "code",
      "execution_count": 10,
      "metadata": {
        "colab": {
          "base_uri": "https://localhost:8080/"
        },
        "id": "JghXVNk3OlHW",
        "outputId": "b257333a-1b1c-4019-9bf2-b44a46257302"
      },
      "outputs": [
        {
          "data": {
            "text/plain": [
              "['به', 'نام', 'خداوند', 'جان', 'و', 'خرد']"
            ]
          },
          "execution_count": 10,
          "metadata": {},
          "output_type": "execute_result"
        }
      ],
      "source": [
        "processed_verses[0]"
      ]
    },
    {
      "cell_type": "code",
      "execution_count": 11,
      "metadata": {
        "id": "0pPAnaUOOlHW"
      },
      "outputs": [],
      "source": [
        "start, end, pad, unkown = '<s>', '</s>', '<pad>', '<unk>'\n",
        "# add special tokens\n",
        "verse_tokens = [[start] + verse + [end] for verse in processed_verses]"
      ]
    },
    {
      "cell_type": "code",
      "execution_count": 12,
      "metadata": {
        "id": "q5hMHQ2COlHW"
      },
      "outputs": [],
      "source": [
        "all_tokens = set([word for verse in verse_tokens for word in verse])\n",
        "all_tokens = [pad, unkown] + list(all_tokens)\n",
        "\n",
        "# converting words to numbers\n",
        "word2idx = {word: i for i, word in enumerate(all_tokens)}\n",
        "idx2word = {i: word for word, i in word2idx.items()}"
      ]
    },
    {
      "cell_type": "code",
      "execution_count": 13,
      "metadata": {
        "id": "shDW3N1TOlHW"
      },
      "outputs": [],
      "source": [
        "unkown_idx = word2idx[unkown]\n",
        "pad_idx = word2idx[pad]\n",
        "start_idx = word2idx[start]\n",
        "end_idx = word2idx[end]\n",
        "\n",
        "def verse_to_numbers(verse):\n",
        "    return [word2idx.get(word, unkown_idx) for word in verse]\n",
        "\n",
        "def numbers_to_verse(numbers):\n",
        "    verse = []\n",
        "    for number in numbers:\n",
        "        if number == unkown_idx:\n",
        "            verse.append(unkown)\n",
        "            continue\n",
        "        verse.append(idx2word[number])\n",
        "        if number == end_idx:\n",
        "            break\n",
        "    return verse"
      ]
    },
    {
      "cell_type": "code",
      "execution_count": 14,
      "metadata": {
        "id": "C_MTirR8OlHX"
      },
      "outputs": [],
      "source": [
        "# convert verses to list of numbers\n",
        "tokens_idx = [verse_to_numbers(verse) for verse in verse_tokens]"
      ]
    },
    {
      "cell_type": "markdown",
      "metadata": {
        "id": "rcKfW4u5OlHX"
      },
      "source": [
        "# Preparing Datasets"
      ]
    },
    {
      "cell_type": "code",
      "execution_count": 15,
      "metadata": {
        "id": "is4p9LdEOlHX"
      },
      "outputs": [],
      "source": [
        "import torch\n",
        "from torch import nn\n",
        "from torch.nn import functional as F\n",
        "from torch.utils.data import DataLoader, TensorDataset, random_split\n",
        "from torch.nn.utils.rnn import pad_sequence\n",
        "\n",
        "from sklearn.metrics import accuracy_score"
      ]
    },
    {
      "cell_type": "code",
      "execution_count": 16,
      "metadata": {
        "colab": {
          "base_uri": "https://localhost:8080/"
        },
        "id": "A-JAxYA7OlHX",
        "notebookRunGroups": {
          "groupValue": ""
        },
        "outputId": "619b533e-bf00-4c34-c925-c91ce55254c7"
      },
      "outputs": [
        {
          "name": "stdout",
          "output_type": "stream",
          "text": [
            "torch.Size([99216, 13])\n",
            "torch.Size([99216, 16])\n"
          ]
        }
      ],
      "source": [
        "X = tokens_idx\n",
        "X = [torch.tensor(x) for x in X]\n",
        "X = pad_sequence(X, batch_first=True, padding_value=pad_idx)\n",
        "print(X.shape)\n",
        "X = F.pad(X, (0, 3, 0, 0), value=pad_idx)\n",
        "print(X.shape)\n",
        "\n",
        "with torch.no_grad():\n",
        "    X, Y = X.clone()[::2], X.clone()[1::2]\n",
        "    train_set = TensorDataset(X, Y)"
      ]
    },
    {
      "cell_type": "code",
      "execution_count": 17,
      "metadata": {
        "id": "brs58Zm3OlHY"
      },
      "outputs": [],
      "source": [
        "train_len = int(len(train_set) * 0.85)\n",
        "val_len = len(train_set) - train_len\n",
        "train_set, val_set = random_split(train_set, [train_len, val_len])"
      ]
    },
    {
      "cell_type": "code",
      "execution_count": 18,
      "metadata": {
        "id": "TbQsHNMZOlHY"
      },
      "outputs": [],
      "source": [
        "train_loader = DataLoader(train_set, batch_size=128, shuffle=True)\n",
        "val_loader = DataLoader(val_set, batch_size=128, shuffle=True)"
      ]
    },
    {
      "cell_type": "markdown",
      "metadata": {
        "id": "a6UIa1o9OlHY"
      },
      "source": [
        "# Model"
      ]
    },
    {
      "cell_type": "code",
      "execution_count": 19,
      "metadata": {
        "id": "SUlU9FVQuhnQ"
      },
      "outputs": [],
      "source": [
        "device = torch.device('cuda' if torch.cuda.is_available() else 'cpu')"
      ]
    },
    {
      "cell_type": "code",
      "execution_count": 20,
      "metadata": {
        "id": "j67lN78VOlHY"
      },
      "outputs": [],
      "source": [
        "class VersePredictor(nn.Module):\n",
        "    def __init__(self, vocab_size, embedding_dim, hidden_dim, model_type='lstm',\n",
        "                        num_layers=1, bidirectional=False, dropout=0, max_T=30, pad_idx=pad_idx):\n",
        "        super().__init__()\n",
        "        self.vocab_size = vocab_size\n",
        "        self.embedding = nn.Embedding(vocab_size, embedding_dim, padding_idx=pad_idx)\n",
        "        self.model_type = model_type\n",
        "        if model_type == 'lstm':\n",
        "            self.encoder = nn.LSTM(embedding_dim, hidden_dim, num_layers, bidirectional=bidirectional, dropout=dropout, batch_first=True)\n",
        "            self.decoder = nn.LSTM(embedding_dim, hidden_dim, num_layers, bidirectional=bidirectional, dropout=dropout, batch_first=True)\n",
        "        elif model_type == 'gru':\n",
        "            self.encoder = nn.GRU(embedding_dim, hidden_dim, num_layers, bidirectional=bidirectional, dropout=dropout, batch_first=True)\n",
        "            self.decoder = nn.GRU(embedding_dim, hidden_dim, num_layers, bidirectional=bidirectional, dropout=dropout, batch_first=True)\n",
        "        self.fc = nn.Linear(hidden_dim * (bidirectional + 1), vocab_size)\n",
        "        self.max_T = max_T\n",
        "        self.dropout = nn.Dropout(dropout)\n",
        "        self.pad_idx = pad_idx\n",
        "\n",
        "    def forward(self, x, y):\n",
        "        x = self.embedding(x)\n",
        "        y = self.embedding(y)\n",
        "        _, x = self.encoder(x)\n",
        "        # x = self.dropout(x)\n",
        "        x, _ = self.decoder(y, x)\n",
        "        x = self.fc(x)\n",
        "        return x\n",
        "\n",
        "    def loss(self, x, y, acc=False):\n",
        "        x = self(x, y)\n",
        "        # drop the first word of y\n",
        "        y = y[:, 1:].reshape(-1)\n",
        "        x = x[:, :-1].reshape(-1, x.shape[-1])\n",
        "        loss = F.cross_entropy(x, y, ignore_index=self.pad_idx)\n",
        "        if acc:\n",
        "            acc = accuracy_score(y.cpu().numpy(), x.argmax(dim=-1).cpu().numpy())\n",
        "            return loss, acc\n",
        "        return loss\n",
        "\n",
        "    def predict(self, x):\n",
        "        input_embd = self.embedding(torch.tensor(start_idx).to(device))\n",
        "        input_embds = input_embd.repeat(x.shape[0], 1, 1)\n",
        "        result = torch.zeros(x.shape[0], self.max_T, dtype=torch.long)\n",
        "\n",
        "        x = self.embedding(x)\n",
        "        _, hidden_states = self.encoder(x)\n",
        "        # x = self.dropout(x)\n",
        "        words_idxs = torch.arange(self.vocab_size, device=device)\n",
        "\n",
        "        for i in range(self.max_T):\n",
        "            x, hidden_states = self.decoder(input_embds, hidden_states)\n",
        "            x = x.squeeze(1)\n",
        "            x = self.fc(x)\n",
        "            probs = F.softmax(x, dim=-1)\n",
        "            idx = probs.multinomial(1)[:, 0]\n",
        "            x = words_idxs[idx]\n",
        "            result[:, i] = x\n",
        "            input_embds = self.embedding(x).reshape(x.shape[0], 1, -1)\n",
        "        return result"
      ]
    },
    {
      "cell_type": "markdown",
      "metadata": {
        "id": "NjK2xwdnOlHY"
      },
      "source": [
        "# Training"
      ]
    },
    {
      "cell_type": "code",
      "execution_count": 21,
      "metadata": {
        "id": "_DlU4u3rOlHZ"
      },
      "outputs": [],
      "source": [
        "import matplotlib.pyplot as plt\n",
        "from tqdm import tqdm"
      ]
    },
    {
      "cell_type": "code",
      "execution_count": 22,
      "metadata": {
        "id": "cMeVGCMxOlHZ"
      },
      "outputs": [],
      "source": [
        "def train(model, train_loader, val_loader, optimizer, epochs, device, name='model'):\n",
        "\n",
        "    history = {'train': [], 'val': [], 'val-acc': [], 'train-acc': []}\n",
        "    min_val_loss = float('inf')\n",
        "\n",
        "    for epoch in range(epochs):\n",
        "        model.train()\n",
        "        train_loss = 0\n",
        "        true_num = 0\n",
        "        with tqdm(val_loader, total=len(val_loader)) as pbar:\n",
        "            for x, y in pbar:\n",
        "                x, y = x.to(device), y.to(device)\n",
        "                optimizer.zero_grad()\n",
        "                loss, acc = model.loss(x, y, acc=True)\n",
        "                loss.backward()\n",
        "                optimizer.step()\n",
        "                train_loss += loss.item() * x.shape[0]\n",
        "                true_num += acc * x.shape[0]\n",
        "                pbar.set_description(f'{epoch}: Train Loss: {train_loss / len(train_loader):.3e}')\n",
        "        train_loss /= len(train_loader)\n",
        "        train_acc = true_num / len(train_loader)\n",
        "        \n",
        "        model.eval()\n",
        "        val_loss = 0\n",
        "        true_num = 0\n",
        "        with torch.no_grad(), tqdm(val_loader, total=len(val_loader)) as pbar:\n",
        "            for x, y in pbar:\n",
        "                x, y = x.to(device), y.to(device)\n",
        "                loss, acc = model.loss(x, y, acc=True)\n",
        "                val_loss += loss.item() * x.shape[0]\n",
        "                true_num += acc * x.shape[0]\n",
        "                pbar.set_description(f'{epoch}: Val Loss: {val_loss / len(val_loader):.3e}')\n",
        "        val_loss /= len(val_loader)\n",
        "        val_acc = true_num / len(val_loader)\n",
        "\n",
        "        if val_loss < min_val_loss:\n",
        "            min_val_loss = val_loss\n",
        "            torch.save(model.state_dict(), f'{name}.pt')\n",
        "        \n",
        "        print('-'*100)\n",
        "        history['train'].append(train_loss)\n",
        "        history['val'].append(val_loss)\n",
        "        history['train-acc'].append(train_acc)\n",
        "        history['val-acc'].append(val_acc)\n",
        "\n",
        "    plt.plot(history['train'], label='train')\n",
        "    plt.plot(history['val'], label='val')\n",
        "    plt.legend()\n",
        "    plt.suptitle('Loss')\n",
        "    plt.show()\n",
        "    plt.plot(history['train-acc'], label='train-acc')\n",
        "    plt.plot(history['val-acc'], label='val-acc')\n",
        "    plt.legend()\n",
        "    plt.suptitle('Accuracy')\n",
        "    plt.show()"
      ]
    },
    {
      "cell_type": "code",
      "execution_count": 23,
      "metadata": {
        "id": "1v1_JcCduhnS"
      },
      "outputs": [],
      "source": [
        "model = VersePredictor(len(word2idx), embedding_dim=256, hidden_dim=512, dropout=0.3, num_layers=3).to(device)"
      ]
    },
    {
      "cell_type": "code",
      "execution_count": 126,
      "metadata": {
        "colab": {
          "base_uri": "https://localhost:8080/",
          "height": 1000
        },
        "id": "TojNSnmIOlHZ",
        "outputId": "7723ba19-15ee-4a8c-bb0c-f0be439af324"
      },
      "outputs": [
        {
          "name": "stderr",
          "output_type": "stream",
          "text": [
            "0: Train Loss: 1.547e+02: 100%|██████████| 59/59 [00:05<00:00, 10.94it/s]\n",
            "0: Val Loss: 7.549e+02: 100%|██████████| 59/59 [00:01<00:00, 33.75it/s]\n"
          ]
        },
        {
          "name": "stdout",
          "output_type": "stream",
          "text": [
            "----------------------------------------------------------------------------------------------------\n"
          ]
        },
        {
          "name": "stderr",
          "output_type": "stream",
          "text": [
            "1: Train Loss: 1.350e+02: 100%|██████████| 59/59 [00:05<00:00, 11.06it/s]\n",
            "1: Val Loss: 7.382e+02: 100%|██████████| 59/59 [00:01<00:00, 33.32it/s]\n"
          ]
        },
        {
          "name": "stdout",
          "output_type": "stream",
          "text": [
            "----------------------------------------------------------------------------------------------------\n"
          ]
        },
        {
          "name": "stderr",
          "output_type": "stream",
          "text": [
            "2: Train Loss: 1.330e+02: 100%|██████████| 59/59 [00:05<00:00, 10.97it/s]\n",
            "2: Val Loss: 7.307e+02: 100%|██████████| 59/59 [00:01<00:00, 33.21it/s]\n"
          ]
        },
        {
          "name": "stdout",
          "output_type": "stream",
          "text": [
            "----------------------------------------------------------------------------------------------------\n"
          ]
        },
        {
          "name": "stderr",
          "output_type": "stream",
          "text": [
            "3: Train Loss: 1.311e+02: 100%|██████████| 59/59 [00:05<00:00, 10.91it/s]\n",
            "3: Val Loss: 7.186e+02: 100%|██████████| 59/59 [00:01<00:00, 32.94it/s]\n"
          ]
        },
        {
          "name": "stdout",
          "output_type": "stream",
          "text": [
            "----------------------------------------------------------------------------------------------------\n"
          ]
        },
        {
          "name": "stderr",
          "output_type": "stream",
          "text": [
            "4: Train Loss: 1.290e+02: 100%|██████████| 59/59 [00:05<00:00, 10.85it/s]\n",
            "4: Val Loss: 7.105e+02: 100%|██████████| 59/59 [00:01<00:00, 32.82it/s]\n"
          ]
        },
        {
          "name": "stdout",
          "output_type": "stream",
          "text": [
            "----------------------------------------------------------------------------------------------------\n"
          ]
        },
        {
          "name": "stderr",
          "output_type": "stream",
          "text": [
            "5: Train Loss: 1.273e+02: 100%|██████████| 59/59 [00:05<00:00, 10.76it/s]\n",
            "5: Val Loss: 6.985e+02: 100%|██████████| 59/59 [00:01<00:00, 32.31it/s]\n"
          ]
        },
        {
          "name": "stdout",
          "output_type": "stream",
          "text": [
            "----------------------------------------------------------------------------------------------------\n"
          ]
        },
        {
          "name": "stderr",
          "output_type": "stream",
          "text": [
            "6: Train Loss: 1.257e+02: 100%|██████████| 59/59 [00:05<00:00, 10.70it/s]\n",
            "6: Val Loss: 6.886e+02: 100%|██████████| 59/59 [00:01<00:00, 32.29it/s]\n"
          ]
        },
        {
          "name": "stdout",
          "output_type": "stream",
          "text": [
            "----------------------------------------------------------------------------------------------------\n"
          ]
        },
        {
          "name": "stderr",
          "output_type": "stream",
          "text": [
            "7: Train Loss: 1.241e+02: 100%|██████████| 59/59 [00:05<00:00, 10.65it/s]\n",
            "7: Val Loss: 6.807e+02: 100%|██████████| 59/59 [00:01<00:00, 32.28it/s]\n"
          ]
        },
        {
          "name": "stdout",
          "output_type": "stream",
          "text": [
            "----------------------------------------------------------------------------------------------------\n"
          ]
        },
        {
          "name": "stderr",
          "output_type": "stream",
          "text": [
            "8: Train Loss: 1.227e+02: 100%|██████████| 59/59 [00:05<00:00, 10.60it/s]\n",
            "8: Val Loss: 6.728e+02: 100%|██████████| 59/59 [00:01<00:00, 32.23it/s]\n"
          ]
        },
        {
          "name": "stdout",
          "output_type": "stream",
          "text": [
            "----------------------------------------------------------------------------------------------------\n"
          ]
        },
        {
          "name": "stderr",
          "output_type": "stream",
          "text": [
            "9: Train Loss: 1.214e+02: 100%|██████████| 59/59 [00:05<00:00, 10.70it/s]\n",
            "9: Val Loss: 6.649e+02: 100%|██████████| 59/59 [00:01<00:00, 32.23it/s]\n"
          ]
        },
        {
          "name": "stdout",
          "output_type": "stream",
          "text": [
            "----------------------------------------------------------------------------------------------------\n"
          ]
        },
        {
          "name": "stderr",
          "output_type": "stream",
          "text": [
            "10: Train Loss: 1.201e+02: 100%|██████████| 59/59 [00:05<00:00, 10.74it/s]\n",
            "10: Val Loss: 6.575e+02: 100%|██████████| 59/59 [00:01<00:00, 32.56it/s]\n"
          ]
        },
        {
          "name": "stdout",
          "output_type": "stream",
          "text": [
            "----------------------------------------------------------------------------------------------------\n"
          ]
        },
        {
          "name": "stderr",
          "output_type": "stream",
          "text": [
            "11: Train Loss: 1.188e+02: 100%|██████████| 59/59 [00:05<00:00, 10.77it/s]\n",
            "11: Val Loss: 6.504e+02: 100%|██████████| 59/59 [00:01<00:00, 32.67it/s]\n"
          ]
        },
        {
          "name": "stdout",
          "output_type": "stream",
          "text": [
            "----------------------------------------------------------------------------------------------------\n"
          ]
        },
        {
          "name": "stderr",
          "output_type": "stream",
          "text": [
            "12: Train Loss: 1.176e+02: 100%|██████████| 59/59 [00:05<00:00, 10.78it/s]\n",
            "12: Val Loss: 6.432e+02: 100%|██████████| 59/59 [00:01<00:00, 32.72it/s]\n"
          ]
        },
        {
          "name": "stdout",
          "output_type": "stream",
          "text": [
            "----------------------------------------------------------------------------------------------------\n"
          ]
        },
        {
          "name": "stderr",
          "output_type": "stream",
          "text": [
            "13: Train Loss: 1.164e+02: 100%|██████████| 59/59 [00:05<00:00, 10.81it/s]\n",
            "13: Val Loss: 6.371e+02: 100%|██████████| 59/59 [00:01<00:00, 32.74it/s]\n"
          ]
        },
        {
          "name": "stdout",
          "output_type": "stream",
          "text": [
            "----------------------------------------------------------------------------------------------------\n"
          ]
        },
        {
          "name": "stderr",
          "output_type": "stream",
          "text": [
            "14: Train Loss: 1.151e+02: 100%|██████████| 59/59 [00:05<00:00, 10.78it/s]\n",
            "14: Val Loss: 6.277e+02: 100%|██████████| 59/59 [00:01<00:00, 32.71it/s]\n"
          ]
        },
        {
          "name": "stdout",
          "output_type": "stream",
          "text": [
            "----------------------------------------------------------------------------------------------------\n"
          ]
        },
        {
          "name": "stderr",
          "output_type": "stream",
          "text": [
            "15: Train Loss: 1.137e+02: 100%|██████████| 59/59 [00:05<00:00, 10.78it/s]\n",
            "15: Val Loss: 6.193e+02: 100%|██████████| 59/59 [00:01<00:00, 32.70it/s]\n"
          ]
        },
        {
          "name": "stdout",
          "output_type": "stream",
          "text": [
            "----------------------------------------------------------------------------------------------------\n"
          ]
        },
        {
          "name": "stderr",
          "output_type": "stream",
          "text": [
            "16: Train Loss: 1.123e+02: 100%|██████████| 59/59 [00:05<00:00, 10.77it/s]\n",
            "16: Val Loss: 6.126e+02: 100%|██████████| 59/59 [00:01<00:00, 32.50it/s]\n"
          ]
        },
        {
          "name": "stdout",
          "output_type": "stream",
          "text": [
            "----------------------------------------------------------------------------------------------------\n"
          ]
        },
        {
          "name": "stderr",
          "output_type": "stream",
          "text": [
            "17: Train Loss: 1.108e+02: 100%|██████████| 59/59 [00:05<00:00, 10.73it/s]\n",
            "17: Val Loss: 6.020e+02: 100%|██████████| 59/59 [00:01<00:00, 32.60it/s]\n"
          ]
        },
        {
          "name": "stdout",
          "output_type": "stream",
          "text": [
            "----------------------------------------------------------------------------------------------------\n"
          ]
        },
        {
          "name": "stderr",
          "output_type": "stream",
          "text": [
            "18: Train Loss: 1.093e+02: 100%|██████████| 59/59 [00:05<00:00, 10.71it/s]\n",
            "18: Val Loss: 5.930e+02: 100%|██████████| 59/59 [00:01<00:00, 32.34it/s]\n"
          ]
        },
        {
          "name": "stdout",
          "output_type": "stream",
          "text": [
            "----------------------------------------------------------------------------------------------------\n"
          ]
        },
        {
          "name": "stderr",
          "output_type": "stream",
          "text": [
            "19: Train Loss: 1.078e+02: 100%|██████████| 59/59 [00:05<00:00, 10.68it/s]\n",
            "19: Val Loss: 5.840e+02: 100%|██████████| 59/59 [00:01<00:00, 32.16it/s]\n"
          ]
        },
        {
          "name": "stdout",
          "output_type": "stream",
          "text": [
            "----------------------------------------------------------------------------------------------------\n"
          ]
        },
        {
          "name": "stderr",
          "output_type": "stream",
          "text": [
            "20: Train Loss: 1.060e+02: 100%|██████████| 59/59 [00:05<00:00, 10.71it/s]\n",
            "20: Val Loss: 5.723e+02: 100%|██████████| 59/59 [00:01<00:00, 32.31it/s]\n"
          ]
        },
        {
          "name": "stdout",
          "output_type": "stream",
          "text": [
            "----------------------------------------------------------------------------------------------------\n"
          ]
        },
        {
          "name": "stderr",
          "output_type": "stream",
          "text": [
            "21: Train Loss: 1.043e+02: 100%|██████████| 59/59 [00:05<00:00, 10.72it/s]\n",
            "21: Val Loss: 5.626e+02: 100%|██████████| 59/59 [00:01<00:00, 32.43it/s]\n"
          ]
        },
        {
          "name": "stdout",
          "output_type": "stream",
          "text": [
            "----------------------------------------------------------------------------------------------------\n"
          ]
        },
        {
          "name": "stderr",
          "output_type": "stream",
          "text": [
            "22: Train Loss: 1.026e+02: 100%|██████████| 59/59 [00:05<00:00, 10.72it/s]\n",
            "22: Val Loss: 5.529e+02: 100%|██████████| 59/59 [00:01<00:00, 32.58it/s]\n"
          ]
        },
        {
          "name": "stdout",
          "output_type": "stream",
          "text": [
            "----------------------------------------------------------------------------------------------------\n"
          ]
        },
        {
          "name": "stderr",
          "output_type": "stream",
          "text": [
            "23: Train Loss: 1.010e+02: 100%|██████████| 59/59 [00:05<00:00, 10.71it/s]\n",
            "23: Val Loss: 5.440e+02: 100%|██████████| 59/59 [00:01<00:00, 32.37it/s]\n"
          ]
        },
        {
          "name": "stdout",
          "output_type": "stream",
          "text": [
            "----------------------------------------------------------------------------------------------------\n"
          ]
        },
        {
          "name": "stderr",
          "output_type": "stream",
          "text": [
            "24: Train Loss: 9.929e+01: 100%|██████████| 59/59 [00:05<00:00, 10.72it/s]\n",
            "24: Val Loss: 5.345e+02: 100%|██████████| 59/59 [00:01<00:00, 32.33it/s]\n"
          ]
        },
        {
          "name": "stdout",
          "output_type": "stream",
          "text": [
            "----------------------------------------------------------------------------------------------------\n"
          ]
        },
        {
          "data": {
            "image/png": "[encoded data removed]",
            "text/plain": [
              "<Figure size 432x288 with 1 Axes>"
            ]
          },
          "metadata": {
            "needs_background": "light"
          },
          "output_type": "display_data"
        },
        {
          "data": {
            "image/png": "[encoded data removed]",
            "text/plain": [
              "<Figure size 432x288 with 1 Axes>"
            ]
          },
          "metadata": {
            "needs_background": "light"
          },
          "output_type": "display_data"
        }
      ],
      "source": [
        "lr = 0.0005\n",
        "epochs = 25\n",
        "optimizer = torch.optim.Adam(model.parameters(), lr=lr)\n",
        "train(model, train_loader, val_loader, optimizer, epochs, device, name='lstm')"
      ]
    },
    {
      "cell_type": "markdown",
      "metadata": {
        "id": "IsSmcTFVOlHZ"
      },
      "source": [
        "# Testing on Train and Validation Data"
      ]
    },
    {
      "cell_type": "code",
      "execution_count": 29,
      "metadata": {
        "id": "RkRSi2d_OlHZ"
      },
      "outputs": [],
      "source": [
        "def print_samples(set, n=5):\n",
        "    for i in range(n):\n",
        "        idx = np.random.randint(len(set))\n",
        "        x, y = set[idx]\n",
        "        x, y = x.to(device), y.to(device)\n",
        "        print('Input verse:')\n",
        "        print(' '.join(numbers_to_verse(x.clone().cpu().numpy())))\n",
        "        print('Next verse prediction:')\n",
        "        for i in range(2):\n",
        "            print(f'prediction {i+1}:')\n",
        "            y_pred = model.predict(x.unsqueeze(0).to(device))\n",
        "            print(' '.join(numbers_to_verse(y_pred.cpu().numpy()[0])))\n",
        "        print('Real next verse:')\n",
        "        print(' '.join(numbers_to_verse(y.cpu().numpy())))\n",
        "        print()"
      ]
    },
    {
      "cell_type": "code",
      "execution_count": 128,
      "metadata": {
        "colab": {
          "base_uri": "https://localhost:8080/"
        },
        "id": "bbmmyHgJOlHa",
        "outputId": "9c21bc3d-5917-4212-9fec-025ad441b353"
      },
      "outputs": [
        {
          "name": "stdout",
          "output_type": "stream",
          "text": [
            "Input verse:\n",
            "<s> برفتند و گفتند کای خفته مرد </s>\n",
            "Next verse prediction:\n",
            "prediction 1:\n",
            "از بکندی گرزش همی انجمن </s>\n",
            "prediction 2:\n",
            "ترا گردیده باره از درگاه </s>\n",
            "Real next verse:\n",
            "<s> ازین خواب برخیز و بیدار گرد </s>\n",
            "\n",
            "Input verse:\n",
            "<s> چه گویید پیران که با این پسر </s>\n",
            "Next verse prediction:\n",
            "prediction 1:\n",
            "زمین بر بخت کابلستان ببرد </s>\n",
            "prediction 2:\n",
            "نداند از خواب رستخیز </s>\n",
            "Real next verse:\n",
            "<s> چه نیکو بود کار کردن پدر </s>\n",
            "\n",
            "Input verse:\n",
            "<s> به گیتی خبر شد که کاووس شاه </s>\n",
            "Next verse prediction:\n",
            "prediction 1:\n",
            "تن چرخ شد پسر زال شاه نیست </s>\n",
            "prediction 2:\n",
            "بپوشم خردمند پیش نبرد </s>\n",
            "Real next verse:\n",
            "<s> از مازندران بستد آن تاج و گاه </s>\n",
            "\n",
            "Input verse:\n",
            "<s> هرانکس که او را بدیدی به راه </s>\n",
            "Next verse prediction:\n",
            "prediction 1:\n",
            "به جوش بسیار نوذر رسید </s>\n",
            "prediction 2:\n",
            "که از باب نهادست تیره راه </s>\n",
            "Real next verse:\n",
            "<s> بپرسیدی او را از توران سپاه </s>\n",
            "\n",
            "Input verse:\n",
            "<s> کنون کاین سپاه عدو گشت پست </s>\n",
            "Next verse prediction:\n",
            "prediction 1:\n",
            "بفرمود هم شد در موم جوی </s>\n",
            "prediction 2:\n",
            "برفتند اندرون آرم از زشت </s>\n",
            "Real next verse:\n",
            "<s> ازین سهم و کشتن بدارید دست </s>\n",
            "\n"
          ]
        }
      ],
      "source": [
        "# sample predictions in validation set\n",
        "model.load_state_dict(torch.load('lstm.pt'))\n",
        "model.to(device)\n",
        "model.eval()\n",
        "\n",
        "print_samples(val_set)"
      ]
    },
    {
      "cell_type": "code",
      "execution_count": 129,
      "metadata": {
        "colab": {
          "base_uri": "https://localhost:8080/"
        },
        "id": "V14iFtzuOlHa",
        "outputId": "aa106b88-34b0-4d22-ca2b-8022f7bb5ce1"
      },
      "outputs": [
        {
          "name": "stdout",
          "output_type": "stream",
          "text": [
            "Input verse:\n",
            "<s> دوباره از لشکر هزاران هزار </s>\n",
            "Next verse prediction:\n",
            "prediction 1:\n",
            "روانش از درد کیهان شد </s>\n",
            "prediction 2:\n",
            "همه جام او یادگار در خورست </s>\n",
            "Real next verse:\n",
            "<s> سپه بود با آلت کارزار </s>\n",
            "\n",
            "Input verse:\n",
            "<s> کزین پس دل از راستی نشکنیم </s>\n",
            "Next verse prediction:\n",
            "prediction 1:\n",
            "همان زابلستان ببسته سزید </s>\n",
            "prediction 2:\n",
            "که آهو بادا بران آشتی گو </s>\n",
            "Real next verse:\n",
            "<s> همی بیخ کژی از بن برکنیم </s>\n",
            "\n",
            "Input verse:\n",
            "<s> یکی تاج زرینش بر سر نهیم </s>\n",
            "Next verse prediction:\n",
            "prediction 1:\n",
            "بدان کوه تابوت را به تنگ </s>\n",
            "prediction 2:\n",
            "دیگر گویی توازشهرمن بدست </s>\n",
            "Real next verse:\n",
            "<s> همان تخت او بر دو پیکر نهیم </s>\n",
            "\n",
            "Input verse:\n",
            "<s> همه مهتران نزد شاه آمدند </s>\n",
            "Next verse prediction:\n",
            "prediction 1:\n",
            "بکرد اندرون ایمن راست </s>\n",
            "prediction 2:\n",
            "عمار راه برآورد و بلاش </s>\n",
            "Real next verse:\n",
            "<s> برهنه سر و بی کلاه آمدند </s>\n",
            "\n",
            "Input verse:\n",
            "<s> بکاوس کی کرد خود آنچ کرد </s>\n",
            "Next verse prediction:\n",
            "prediction 1:\n",
            "همان یازد از کس ترا بازجوی راست </s>\n",
            "prediction 2:\n",
            "که کس هوا را رهنمای دهم </s>\n",
            "Real next verse:\n",
            "<s> برآورد از ایران آباد گرد </s>\n",
            "\n"
          ]
        }
      ],
      "source": [
        "print_samples(train_set)"
      ]
    },
    {
      "cell_type": "markdown",
      "metadata": {
        "id": "SZJxubowuhnT"
      },
      "source": [
        "# GRU"
      ]
    },
    {
      "cell_type": "code",
      "execution_count": 66,
      "metadata": {
        "colab": {
          "base_uri": "https://localhost:8080/"
        },
        "id": "ztIVRj5mPLc2",
        "outputId": "67602842-ea8c-48fd-84a0-12d31eb1ae64"
      },
      "outputs": [
        {
          "data": {
            "text/plain": [
              "VersePredictor(\n",
              "  (embedding): Embedding(19059, 256, padding_idx=0)\n",
              "  (encoder): GRU(256, 512, num_layers=3, batch_first=True, dropout=0.3)\n",
              "  (decoder): GRU(256, 512, num_layers=3, batch_first=True, dropout=0.3)\n",
              "  (fc): Linear(in_features=512, out_features=19059, bias=True)\n",
              "  (dropout): Dropout(p=0.3, inplace=False)\n",
              ")"
            ]
          },
          "execution_count": 66,
          "metadata": {},
          "output_type": "execute_result"
        }
      ],
      "source": [
        "model = VersePredictor(len(word2idx), embedding_dim=256, hidden_dim=512, dropout=0.3, num_layers=3, bidirectional=False, model_type='gru').to(device)\n",
        "model"
      ]
    },
    {
      "cell_type": "code",
      "execution_count": 68,
      "metadata": {
        "colab": {
          "base_uri": "https://localhost:8080/",
          "height": 1000
        },
        "id": "pN07kLg0uhnV",
        "outputId": "578cbef6-1383-4ef8-fe9e-cc307f111d3b"
      },
      "outputs": [
        {
          "name": "stderr",
          "output_type": "stream",
          "text": [
            "0: Train Loss: 1.321e+02: 100%|██████████| 59/59 [00:05<00:00, 10.56it/s]\n",
            "0: Val Loss: 7.105e+02: 100%|██████████| 59/59 [00:01<00:00, 31.84it/s]\n"
          ]
        },
        {
          "name": "stdout",
          "output_type": "stream",
          "text": [
            "----------------------------------------------------------------------------------------------------\n"
          ]
        },
        {
          "name": "stderr",
          "output_type": "stream",
          "text": [
            "1: Train Loss: 1.275e+02: 100%|██████████| 59/59 [00:05<00:00, 10.43it/s]\n",
            "1: Val Loss: 6.950e+02: 100%|██████████| 59/59 [00:01<00:00, 31.29it/s]\n"
          ]
        },
        {
          "name": "stdout",
          "output_type": "stream",
          "text": [
            "----------------------------------------------------------------------------------------------------\n"
          ]
        },
        {
          "name": "stderr",
          "output_type": "stream",
          "text": [
            "2: Train Loss: 1.250e+02: 100%|██████████| 59/59 [00:05<00:00, 10.44it/s]\n",
            "2: Val Loss: 6.813e+02: 100%|██████████| 59/59 [00:01<00:00, 31.81it/s]\n"
          ]
        },
        {
          "name": "stdout",
          "output_type": "stream",
          "text": [
            "----------------------------------------------------------------------------------------------------\n"
          ]
        },
        {
          "name": "stderr",
          "output_type": "stream",
          "text": [
            "3: Train Loss: 1.228e+02: 100%|██████████| 59/59 [00:05<00:00, 10.70it/s]\n",
            "3: Val Loss: 6.674e+02: 100%|██████████| 59/59 [00:01<00:00, 32.08it/s]\n"
          ]
        },
        {
          "name": "stdout",
          "output_type": "stream",
          "text": [
            "----------------------------------------------------------------------------------------------------\n"
          ]
        },
        {
          "name": "stderr",
          "output_type": "stream",
          "text": [
            "4: Train Loss: 1.206e+02: 100%|██████████| 59/59 [00:05<00:00, 10.91it/s]\n",
            "4: Val Loss: 6.542e+02: 100%|██████████| 59/59 [00:01<00:00, 33.02it/s]\n"
          ]
        },
        {
          "name": "stdout",
          "output_type": "stream",
          "text": [
            "----------------------------------------------------------------------------------------------------\n"
          ]
        },
        {
          "name": "stderr",
          "output_type": "stream",
          "text": [
            "5: Train Loss: 1.182e+02: 100%|██████████| 59/59 [00:05<00:00, 10.96it/s]\n",
            "5: Val Loss: 6.391e+02: 100%|██████████| 59/59 [00:01<00:00, 33.08it/s]\n"
          ]
        },
        {
          "name": "stdout",
          "output_type": "stream",
          "text": [
            "----------------------------------------------------------------------------------------------------\n"
          ]
        },
        {
          "name": "stderr",
          "output_type": "stream",
          "text": [
            "6: Train Loss: 1.156e+02: 100%|██████████| 59/59 [00:05<00:00, 11.05it/s]\n",
            "6: Val Loss: 6.222e+02: 100%|██████████| 59/59 [00:01<00:00, 33.18it/s]\n"
          ]
        },
        {
          "name": "stdout",
          "output_type": "stream",
          "text": [
            "----------------------------------------------------------------------------------------------------\n"
          ]
        },
        {
          "name": "stderr",
          "output_type": "stream",
          "text": [
            "7: Train Loss: 1.128e+02: 100%|██████████| 59/59 [00:05<00:00, 11.06it/s]\n",
            "7: Val Loss: 6.049e+02: 100%|██████████| 59/59 [00:01<00:00, 33.20it/s]\n"
          ]
        },
        {
          "name": "stdout",
          "output_type": "stream",
          "text": [
            "----------------------------------------------------------------------------------------------------\n"
          ]
        },
        {
          "name": "stderr",
          "output_type": "stream",
          "text": [
            "8: Train Loss: 1.098e+02: 100%|██████████| 59/59 [00:05<00:00, 11.11it/s]\n",
            "8: Val Loss: 5.864e+02: 100%|██████████| 59/59 [00:01<00:00, 32.91it/s]\n"
          ]
        },
        {
          "name": "stdout",
          "output_type": "stream",
          "text": [
            "----------------------------------------------------------------------------------------------------\n"
          ]
        },
        {
          "name": "stderr",
          "output_type": "stream",
          "text": [
            "9: Train Loss: 1.070e+02: 100%|██████████| 59/59 [00:05<00:00, 11.05it/s]\n",
            "9: Val Loss: 5.717e+02: 100%|██████████| 59/59 [00:01<00:00, 32.92it/s]\n"
          ]
        },
        {
          "name": "stdout",
          "output_type": "stream",
          "text": [
            "----------------------------------------------------------------------------------------------------\n"
          ]
        },
        {
          "name": "stderr",
          "output_type": "stream",
          "text": [
            "10: Train Loss: 1.041e+02: 100%|██████████| 59/59 [00:05<00:00, 10.96it/s]\n",
            "10: Val Loss: 5.517e+02: 100%|██████████| 59/59 [00:01<00:00, 32.62it/s]\n"
          ]
        },
        {
          "name": "stdout",
          "output_type": "stream",
          "text": [
            "----------------------------------------------------------------------------------------------------\n"
          ]
        },
        {
          "name": "stderr",
          "output_type": "stream",
          "text": [
            "11: Train Loss: 1.011e+02: 100%|██████████| 59/59 [00:05<00:00, 10.93it/s]\n",
            "11: Val Loss: 5.331e+02: 100%|██████████| 59/59 [00:01<00:00, 32.58it/s]\n"
          ]
        },
        {
          "name": "stdout",
          "output_type": "stream",
          "text": [
            "----------------------------------------------------------------------------------------------------\n"
          ]
        },
        {
          "name": "stderr",
          "output_type": "stream",
          "text": [
            "12: Train Loss: 9.821e+01: 100%|██████████| 59/59 [00:05<00:00, 10.83it/s]\n",
            "12: Val Loss: 5.170e+02: 100%|██████████| 59/59 [00:01<00:00, 32.40it/s]\n"
          ]
        },
        {
          "name": "stdout",
          "output_type": "stream",
          "text": [
            "----------------------------------------------------------------------------------------------------\n"
          ]
        },
        {
          "name": "stderr",
          "output_type": "stream",
          "text": [
            "13: Train Loss: 9.534e+01: 100%|██████████| 59/59 [00:05<00:00, 10.81it/s]\n",
            "13: Val Loss: 4.982e+02: 100%|██████████| 59/59 [00:01<00:00, 31.99it/s]\n"
          ]
        },
        {
          "name": "stdout",
          "output_type": "stream",
          "text": [
            "----------------------------------------------------------------------------------------------------\n"
          ]
        },
        {
          "name": "stderr",
          "output_type": "stream",
          "text": [
            "14: Train Loss: 9.256e+01: 100%|██████████| 59/59 [00:05<00:00, 10.79it/s]\n",
            "14: Val Loss: 4.836e+02: 100%|██████████| 59/59 [00:01<00:00, 32.39it/s]\n"
          ]
        },
        {
          "name": "stdout",
          "output_type": "stream",
          "text": [
            "----------------------------------------------------------------------------------------------------\n"
          ]
        },
        {
          "name": "stderr",
          "output_type": "stream",
          "text": [
            "15: Train Loss: 8.987e+01: 100%|██████████| 59/59 [00:05<00:00, 10.84it/s]\n",
            "15: Val Loss: 4.669e+02: 100%|██████████| 59/59 [00:01<00:00, 32.51it/s]\n"
          ]
        },
        {
          "name": "stdout",
          "output_type": "stream",
          "text": [
            "----------------------------------------------------------------------------------------------------\n"
          ]
        },
        {
          "name": "stderr",
          "output_type": "stream",
          "text": [
            "16: Train Loss: 8.708e+01: 100%|██████████| 59/59 [00:05<00:00, 10.92it/s]\n",
            "16: Val Loss: 4.499e+02: 100%|██████████| 59/59 [00:01<00:00, 32.87it/s]\n"
          ]
        },
        {
          "name": "stdout",
          "output_type": "stream",
          "text": [
            "----------------------------------------------------------------------------------------------------\n"
          ]
        },
        {
          "name": "stderr",
          "output_type": "stream",
          "text": [
            "17: Train Loss: 8.442e+01: 100%|██████████| 59/59 [00:05<00:00, 10.93it/s]\n",
            "17: Val Loss: 4.341e+02: 100%|██████████| 59/59 [00:01<00:00, 32.87it/s]\n"
          ]
        },
        {
          "name": "stdout",
          "output_type": "stream",
          "text": [
            "----------------------------------------------------------------------------------------------------\n"
          ]
        },
        {
          "name": "stderr",
          "output_type": "stream",
          "text": [
            "18: Train Loss: 8.176e+01: 100%|██████████| 59/59 [00:05<00:00, 11.03it/s]\n",
            "18: Val Loss: 4.188e+02: 100%|██████████| 59/59 [00:01<00:00, 32.56it/s]\n"
          ]
        },
        {
          "name": "stdout",
          "output_type": "stream",
          "text": [
            "----------------------------------------------------------------------------------------------------\n"
          ]
        },
        {
          "name": "stderr",
          "output_type": "stream",
          "text": [
            "19: Train Loss: 7.915e+01: 100%|██████████| 59/59 [00:05<00:00, 10.98it/s]\n",
            "19: Val Loss: 4.024e+02: 100%|██████████| 59/59 [00:01<00:00, 33.11it/s]\n"
          ]
        },
        {
          "name": "stdout",
          "output_type": "stream",
          "text": [
            "----------------------------------------------------------------------------------------------------\n"
          ]
        },
        {
          "name": "stderr",
          "output_type": "stream",
          "text": [
            "20: Train Loss: 7.669e+01: 100%|██████████| 59/59 [00:05<00:00, 11.04it/s]\n",
            "20: Val Loss: 3.876e+02: 100%|██████████| 59/59 [00:01<00:00, 32.53it/s]\n"
          ]
        },
        {
          "name": "stdout",
          "output_type": "stream",
          "text": [
            "----------------------------------------------------------------------------------------------------\n"
          ]
        },
        {
          "name": "stderr",
          "output_type": "stream",
          "text": [
            "21: Train Loss: 7.413e+01: 100%|██████████| 59/59 [00:05<00:00, 10.99it/s]\n",
            "21: Val Loss: 3.738e+02: 100%|██████████| 59/59 [00:01<00:00, 32.86it/s]\n"
          ]
        },
        {
          "name": "stdout",
          "output_type": "stream",
          "text": [
            "----------------------------------------------------------------------------------------------------\n"
          ]
        },
        {
          "name": "stderr",
          "output_type": "stream",
          "text": [
            "22: Train Loss: 7.174e+01: 100%|██████████| 59/59 [00:05<00:00, 10.92it/s]\n",
            "22: Val Loss: 3.604e+02: 100%|██████████| 59/59 [00:01<00:00, 32.70it/s]\n"
          ]
        },
        {
          "name": "stdout",
          "output_type": "stream",
          "text": [
            "----------------------------------------------------------------------------------------------------\n"
          ]
        },
        {
          "name": "stderr",
          "output_type": "stream",
          "text": [
            "23: Train Loss: 6.931e+01: 100%|██████████| 59/59 [00:05<00:00, 10.95it/s]\n",
            "23: Val Loss: 3.462e+02: 100%|██████████| 59/59 [00:01<00:00, 32.68it/s]\n"
          ]
        },
        {
          "name": "stdout",
          "output_type": "stream",
          "text": [
            "----------------------------------------------------------------------------------------------------\n"
          ]
        },
        {
          "name": "stderr",
          "output_type": "stream",
          "text": [
            "24: Train Loss: 6.700e+01: 100%|██████████| 59/59 [00:05<00:00, 10.93it/s]\n",
            "24: Val Loss: 3.325e+02: 100%|██████████| 59/59 [00:01<00:00, 32.87it/s]\n"
          ]
        },
        {
          "name": "stdout",
          "output_type": "stream",
          "text": [
            "----------------------------------------------------------------------------------------------------\n"
          ]
        },
        {
          "data": {
            "image/png": "[encoded data removed]",
            "text/plain": [
              "<Figure size 432x288 with 1 Axes>"
            ]
          },
          "metadata": {
            "needs_background": "light"
          },
          "output_type": "display_data"
        },
        {
          "data": {
            "image/png": "[encoded data removed]",
            "text/plain": [
              "<Figure size 432x288 with 1 Axes>"
            ]
          },
          "metadata": {
            "needs_background": "light"
          },
          "output_type": "display_data"
        }
      ],
      "source": [
        "lr = 0.0005\n",
        "epochs = 25\n",
        "optimizer = torch.optim.Adam(model.parameters(), lr=lr)\n",
        "train(model, train_loader, val_loader, optimizer, epochs, device, name='gru')"
      ]
    },
    {
      "cell_type": "code",
      "execution_count": 69,
      "metadata": {
        "colab": {
          "base_uri": "https://localhost:8080/"
        },
        "id": "BP5knGxluhnV",
        "outputId": "11f674fc-be20-40e3-bee9-239b46aacce5"
      },
      "outputs": [
        {
          "name": "stdout",
          "output_type": "stream",
          "text": [
            "Input verse:\n",
            "<s> سر سروران در آمد به تنگ </s>\n",
            "Next verse prediction:\n",
            "prediction 1:\n",
            "از تیمار وز گوهر نابسود </s>\n",
            "prediction 2:\n",
            "بمردی و اندوه آمدش را بدی </s>\n",
            "Real next verse:\n",
            "<s> سزد‌گر بسازیم با شاه جنگ </s>\n",
            "\n",
            "Input verse:\n",
            "<s> بیاورد زان پس صد و سی هزار </s>\n",
            "Next verse prediction:\n",
            "prediction 1:\n",
            "گدازیده آمد از کردار او پر از فسرد </s>\n",
            "prediction 2:\n",
            "بدشمن سپارد خرد داد نام </s>\n",
            "Real next verse:\n",
            "<s> از گنجی که بود از پدر یادگار </s>\n",
            "\n",
            "Input verse:\n",
            "<s> یکی نامه بنوشت نزدیک اوی </s>\n",
            "Next verse prediction:\n",
            "prediction 1:\n",
            "میان برسان ایران نبرد </s>\n",
            "prediction 2:\n",
            "رخ نیز بر دلیران به داد </s>\n",
            "Real next verse:\n",
            "<s> پر از دانش و رامش و رنگ و بوی </s>\n",
            "\n",
            "Input verse:\n",
            "<s> بدو گفت رستم که‌ای پهلوان </s>\n",
            "Next verse prediction:\n",
            "prediction 1:\n",
            "برو خواستند باید سپاه </s>\n",
            "prediction 2:\n",
            "هنرهای از آگندن نابسود </s>\n",
            "Real next verse:\n",
            "<s> جهاندار و بیدار و روشن روان </s>\n",
            "\n",
            "Input verse:\n",
            "<s> چنین داد پاسخ که داننده مرد </s>\n",
            "Next verse prediction:\n",
            "prediction 1:\n",
            "از ما کسی رفت در پیشگاه </s>\n",
            "prediction 2:\n",
            "کزین من با هر دردمندان نشمرد </s>\n",
            "Real next verse:\n",
            "<s> که دارد از کردار بد روی زرد </s>\n",
            "\n"
          ]
        }
      ],
      "source": [
        "# sample predictions in validation set\n",
        "model.load_state_dict(torch.load('gru.pt'))\n",
        "# model.to(device)\n",
        "model.eval()\n",
        "\n",
        "print_samples(val_set)"
      ]
    },
    {
      "cell_type": "code",
      "execution_count": 70,
      "metadata": {
        "colab": {
          "base_uri": "https://localhost:8080/"
        },
        "id": "eGY1CuNzuhnW",
        "outputId": "8233839a-281a-4497-a2c7-eed84886b987"
      },
      "outputs": [
        {
          "name": "stdout",
          "output_type": "stream",
          "text": [
            "Input verse:\n",
            "<s> سپه را همی دل شکسته کنی </s>\n",
            "Next verse prediction:\n",
            "prediction 1:\n",
            "چرا مرده مهراب را خزان </s>\n",
            "prediction 2:\n",
            "برآرند شد به کس فرزند اسپ </s>\n",
            "Real next verse:\n",
            "<s> به گفتار بی جنگ خسته کنی </s>\n",
            "\n",
            "Input verse:\n",
            "<s> دل شیده کشت در آن کار تنگ </s>\n",
            "Next verse prediction:\n",
            "prediction 1:\n",
            "سپهبد خوشی من شسته پیش </s>\n",
            "prediction 2:\n",
            "یکی رستخیز سوی جای جفت </s>\n",
            "Real next verse:\n",
            "<s> همی باز خواند آن یلانرا از جنگ </s>\n",
            "\n",
            "Input verse:\n",
            "<s> گرانمایه شاه جهان کدخدای </s>\n",
            "Next verse prediction:\n",
            "prediction 1:\n",
            "سپاهی آراسته زمین زیرگاه </s>\n",
            "prediction 2:\n",
            "که با من شود سست دردست گشت </s>\n",
            "Real next verse:\n",
            "<s> به کرسی زرین ورا کرد جای </s>\n",
            "\n",
            "Input verse:\n",
            "<s> نگه کرد باید بدین تازه بوم </s>\n",
            "Next verse prediction:\n",
            "prediction 1:\n",
            "بیامد بران تاج جوینده انجمن </s>\n",
            "prediction 2:\n",
            "کمندی از تیغ شاهی بسی </s>\n",
            "Real next verse:\n",
            "<s> که آباد بادا همه مرز روم </s>\n",
            "\n",
            "Input verse:\n",
            "<s> ترا بیشتر نزد من دستگاه </s>\n",
            "Next verse prediction:\n",
            "prediction 1:\n",
            "گرانمایگان بگردم بود مرد راز </s>\n",
            "prediction 2:\n",
            "نمانم به گرز از در ایشان بدید </s>\n",
            "Real next verse:\n",
            "<s> توی برتر از پهلوانان بجاه </s>\n",
            "\n"
          ]
        }
      ],
      "source": [
        "print_samples(train_set)"
      ]
    },
    {
      "cell_type": "code",
      "execution_count": 70,
      "metadata": {
        "id": "F6BwZtx50DIF"
      },
      "outputs": [],
      "source": []
    }
  ],
  "metadata": {
    "accelerator": "GPU",
    "colab": {
      "collapsed_sections": [
        "cbz9l6DDOlHK"
      ],
      "provenance": []
    },
    "gpuClass": "standard",
    "kernelspec": {
      "display_name": "base",
      "language": "python",
      "name": "python3"
    },
    "language_info": {
      "codemirror_mode": {
        "name": "ipython",
        "version": 3
      },
      "file_extension": ".py",
      "mimetype": "text/x-python",
      "name": "python",
      "nbconvert_exporter": "python",
      "pygments_lexer": "ipython3",
      "version": "3.10.9 | packaged by conda-forge | (main, Jan 11 2023, 15:15:40) [MSC v.1916 64 bit (AMD64)]"
    },
    "orig_nbformat": 4,
    "vscode": {
      "interpreter": {
        "hash": "67bfac4f4aefe1c16f1836a62d55b6e6baa7aba1ac5ce70e93ee8e90eb4f073a"
      }
    }
  },
  "nbformat": 4,
  "nbformat_minor": 0
}
